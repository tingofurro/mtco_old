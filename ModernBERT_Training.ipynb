{
 "cells": [
  {
   "cell_type": "markdown",
   "metadata": {},
   "source": [
    "# Create Data based on GPT-4o-mini logs"
   ]
  },
  {
   "cell_type": "code",
   "execution_count": 3,
   "metadata": {},
   "outputs": [
    {
     "name": "stdout",
     "output_type": "stream",
     "text": [
      "228761\n"
     ]
    }
   ],
   "source": [
    "import json, os, random\n",
    "\n",
    "tasks = [\"apis\", \"database\", \"math\", \"python\"]\n",
    "conv_types = [\"lazy\", \"full\", \"concat\"]\n",
    "\n",
    "all_traces = []\n",
    "for task in tasks:\n",
    "    for conv_type in conv_types:\n",
    "        for fn in os.listdir(f\"lic_logs/{task}/{conv_type}\"):\n",
    "            with open(f\"lic_logs/{task}/{conv_type}/{fn}\", \"r\") as f:\n",
    "                for line in f:\n",
    "                    all_traces.append(json.loads(line)[\"trace\"])\n",
    "\n",
    "print(len(all_traces))"
   ]
  },
  {
   "cell_type": "code",
   "execution_count": 13,
   "metadata": {},
   "outputs": [],
   "source": [
    "from transformers import AutoTokenizer\n",
    "\n",
    "model_name = \"answerdotai/ModernBERT-large\"\n",
    "\n",
    "tokenizer = AutoTokenizer.from_pretrained(model_name)"
   ]
  },
  {
   "cell_type": "code",
   "execution_count": 15,
   "metadata": {},
   "outputs": [
    {
     "name": "stderr",
     "output_type": "stream",
     "text": [
      "C:\\Users\\plaban\\AppData\\Local\\Temp\\ipykernel_25264\\3281590114.py:8: TqdmDeprecationWarning: This function will be removed in tqdm==5.0.0\n",
      "Please use `tqdm.notebook.tqdm` instead of `tqdm.tqdm_notebook`\n",
      "  for trace in tqdm.tqdm_notebook(all_traces):\n"
     ]
    },
    {
     "data": {
      "application/vnd.jupyter.widget-view+json": {
       "model_id": "67dfae0d0ef14aea8498e52e5fb47805",
       "version_major": 2,
       "version_minor": 0
      },
      "text/plain": [
       "  0%|          | 0/228761 [00:00<?, ?it/s]"
      ]
     },
     "metadata": {},
     "output_type": "display_data"
    },
    {
     "data": {
      "text/plain": [
       "Counter({'answer_attempt': 278357,\n",
       "         'discussion': 58682,\n",
       "         'refuse': 25151,\n",
       "         'clarification': 21119,\n",
       "         'interrogation': 14444,\n",
       "         'hedge': 2624,\n",
       "         'missing': 2383})"
      ]
     },
     "execution_count": 15,
     "metadata": {},
     "output_type": "execute_result"
    }
   ],
   "source": [
    "from collections import Counter\n",
    "import tqdm\n",
    "\n",
    "response_classification_dataset = []\n",
    "\n",
    "accepted_response_types = [\"answer_attempt\", \"discussion\", \"refuse\", \"clarification\", \"interrogation\", \"hedge\", \"missing\"]\n",
    "\n",
    "for trace in tqdm.tqdm_notebook(all_traces):\n",
    "    for i in range(len(trace)):\n",
    "        if trace[i][\"role\"] == \"assistant\":\n",
    "            if not (i+1 < len(trace) and trace[i+1][\"role\"] == \"log\" and \"response\" in trace[i+1][\"content\"]):\n",
    "                continue\n",
    "\n",
    "            if trace[i][\"content\"].count(\" \") > 1300:\n",
    "                continue\n",
    "\n",
    "            toks = tokenizer.encode(trace[i][\"content\"])\n",
    "\n",
    "            # if len(toks) > 3900:\n",
    "            #     continue\n",
    "\n",
    "            response_type = trace[i+1][\"content\"][\"response\"][\"response_type\"]\n",
    "            if response_type not in accepted_response_types:\n",
    "                continue\n",
    "\n",
    "            exact_answer = None\n",
    "            if response_type == \"answer_attempt\":\n",
    "                exact_answer = trace[i+2][\"content\"][\"exact_answer\"]\n",
    "\n",
    "            response_classification_dataset.append({\n",
    "                \"assistant_response\": trace[i][\"content\"],\n",
    "                \"response_type\": response_type,\n",
    "                \"exact_answer\": exact_answer,\n",
    "                \"N_tokens\": len(toks)\n",
    "            })\n",
    "\n",
    "random.shuffle(response_classification_dataset)\n",
    "\n",
    "Counter([d[\"response_type\"] for d in response_classification_dataset])"
   ]
  },
  {
   "cell_type": "code",
   "execution_count": 16,
   "metadata": {},
   "outputs": [
    {
     "data": {
      "image/png": "[encoded data removed]",
      "text/plain": [
       "<Figure size 640x480 with 1 Axes>"
      ]
     },
     "metadata": {},
     "output_type": "display_data"
    }
   ],
   "source": [
    "from matplotlib import pyplot\n",
    "# Histogram of Response Lengths\n",
    "\n",
    "lengths = [r[\"N_tokens\"] for r in response_classification_dataset]\n",
    "pyplot.hist(lengths, bins=50)\n",
    "pyplot.title('Histogram of Response Lengths')\n",
    "pyplot.xlabel('Number of Words')\n",
    "pyplot.ylabel('Frequency')\n",
    "pyplot.show()"
   ]
  },
  {
   "cell_type": "code",
   "execution_count": 12,
   "metadata": {},
   "outputs": [
    {
     "name": "stdout",
     "output_type": "stream",
     "text": [
      "11200 2800\n",
      "Counter({'discussion': 1619, 'missing': 1615, 'hedge': 1608, 'interrogation': 1602, 'clarification': 1588, 'refuse': 1584, 'answer_attempt': 1584})\n",
      "Counter({'refuse': 416, 'answer_attempt': 416, 'clarification': 412, 'interrogation': 398, 'hedge': 392, 'missing': 385, 'discussion': 381})\n"
     ]
    }
   ],
   "source": [
    "random.shuffle(response_classification_dataset)\n",
    "response_classification_dataset[0]\n",
    "\n",
    "N_per_class = 2000\n",
    "\n",
    "dataset = []\n",
    "\n",
    "for response_type in accepted_response_types:\n",
    "    this_class_dataset = [d for d in response_classification_dataset if d[\"response_type\"] == response_type]\n",
    "    this_class_dataset = this_class_dataset[:N_per_class]\n",
    "    dataset += this_class_dataset\n",
    "\n",
    "random.shuffle(dataset)\n",
    "N_train = int(0.8*len(dataset))\n",
    "training_dataset = dataset[:N_train]\n",
    "validation_dataset = dataset[N_train:]\n",
    "\n",
    "print(len(training_dataset), len(validation_dataset))\n",
    "\n",
    "print(Counter([d[\"response_type\"] for d in training_dataset]))\n",
    "print(Counter([d[\"response_type\"] for d in validation_dataset]))\n",
    "\n",
    "with open(\"data/conv_strategy_train.json\", \"w\") as f:\n",
    "    json.dump(training_dataset, f)\n",
    "\n",
    "with open(\"data/conv_strategy_validation.json\", \"w\") as f:\n",
    "    json.dump(validation_dataset, f)\n"
   ]
  }
 ],
 "metadata": {
  "kernelspec": {
   "display_name": "base",
   "language": "python",
   "name": "python3"
  },
  "language_info": {
   "codemirror_mode": {
    "name": "ipython",
    "version": 3
   },
   "file_extension": ".py",
   "mimetype": "text/x-python",
   "name": "python",
   "nbconvert_exporter": "python",
   "pygments_lexer": "ipython3",
   "version": "3.12.7"
  }
 },
 "nbformat": 4,
 "nbformat_minor": 2
}
