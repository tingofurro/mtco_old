{
 "cells": [
  {
   "cell_type": "markdown",
   "id": "53a71551",
   "metadata": {},
   "source": [
    "# 1. Come up with high-level code problems"
   ]
  },
  {
   "cell_type": "code",
   "execution_count": null,
   "id": "909eac2c",
   "metadata": {},
   "outputs": [],
   "source": [
    "from collections import Counter\n",
    "from llms import generate_json\n",
    "import json\n",
    "\n",
    "model = \"t-o3\"\n",
    "\n",
    "prompt_ideation = \"\"\"You are helping come up with python programming problems that should be similar to the ones in HumanEval.\n",
    "Your goal here is to come up with 100 unique but realistic problems that can be framed as a single Python function, and can be resolved in 10-30 lines of code.\n",
    "\n",
    "For each problem, you should assign the following key:\n",
    "- a problem_id that counts from 1 to 100.\n",
    "- a category that decides the kind of algorithm involved in the problem. Do not use any category more than 5 times.\n",
    "- a name that is a short description of the problem.\n",
    "- a domain that decides the kind of problem. Do not use any domain more than 5 times.\n",
    "- a description that uniquely describes the problem in detail, it should be 20-40 words long.\n",
    "\n",
    "For example, here's one example problem statement you could generate:\n",
    "{\"problem_id\": 1,\"category\": \"sorting\", \"name\": \"standardize_and_sort_names\", \"domain\": \"database\", \"description\": \"Given a list of names of people in various formats, return the list in a sorted order, having standardized the names to keep only the first and last name, capitalized accordingly. Remove any middle names or initials. It should be sorted by last name then first name.\"}\n",
    "\n",
    "Careful:\n",
    "- [Unique Problems] All the problems should be unique.\n",
    "- [Testable Through Unit Tests] All the problems should be testable through 5 unit tests for accuracy. For example, we cannot have any problem that requires efficience (implement in O(log n) time or space) as that is not testable through unit tests.\n",
    "- [No Complexity] Avoid very complex problems, for example that involve advanced data structures or dynamic programming.\n",
    "- [Problem Twist] A problem should not be a very basic problem, but should involve at least one twist or additional constraint that is not obvious. The full description of the problem should be required to solve the problem (and not just going off the high-level problem description).\n",
    "\n",
    "Now produce 100 such problems, following the following JSON format\n",
    "{\"problems\": [...]}\"\"\"\n",
    "\n",
    "response = generate_json([{\"role\": \"user\", \"content\": prompt_ideation}], model=model)\n",
    "\n",
    "categories = Counter([response[\"category\"] for response in response[\"problems\"]])\n",
    "print(categories)\n",
    "\n",
    "domains = Counter([response[\"domain\"] for response in response[\"problems\"]])\n",
    "print(domains)\n",
    "\n",
    "problems = response[\"problems\"]\n",
    "for problem in problems:\n",
    "    problem[\"sample_type\"] = \"code_synthetic\"\n",
    "\n",
    "with open(\"data/code_synthetic_problems_0.1.json\", \"w\") as f:\n",
    "    json.dump(problems, f)"
   ]
  },
  {
   "cell_type": "markdown",
   "id": "f4c01db4",
   "metadata": {},
   "source": [
    "# 2. Implement Solution and Unit Tests"
   ]
  },
  {
   "cell_type": "code",
   "execution_count": 1,
   "id": "5dd268e9",
   "metadata": {},
   "outputs": [
    {
     "name": "stderr",
     "output_type": "stream",
     "text": [
      "/tmp/ipykernel_3989542/1678120304.py:84: TqdmDeprecationWarning: This function will be removed in tqdm==5.0.0\n",
      "Please use `tqdm.notebook.tqdm` instead of `tqdm.tqdm_notebook`\n",
      "  for problem in tqdm.tqdm_notebook(data):\n"
     ]
    },
    {
     "data": {
      "application/vnd.jupyter.widget-view+json": {
       "model_id": "42757cf71afc4ce9af0c1dc467fd130b",
       "version_major": 2,
       "version_minor": 0
      },
      "text/plain": [
       "  0%|          | 0/100 [00:00<?, ?it/s]"
      ]
     },
     "metadata": {},
     "output_type": "display_data"
    },
    {
     "name": "stdout",
     "output_type": "stream",
     "text": [
      "[Problem format_country_codes] Try 1/3\n"
     ]
    },
    {
     "name": "stderr",
     "output_type": "stream",
     "text": [
      "WARNING:root:[llms] The following keys were not replaced: ['name', '\"apple\", \"banana\", \"cherry\"', '\"abc\", \"def\", \"ghi\"', '\"c\", \"d\", \"c\"']\n",
      "WARNING:root:[llms] The following keys were not replaced: ['name', '\"apple\", \"banana\", \"cherry\"', '\"abc\", \"def\", \"ghi\"', '\"c\", \"d\", \"c\"']\n"
     ]
    },
    {
     "name": "stdout",
     "output_type": "stream",
     "text": [
      "   \u001b[92mformat_country_codes([['us', 'ca', 'mx']]) -> US, CA, MX vs. US, CA, MX\u001b[0m\n",
      "   \u001b[91mformat_country_codes([['fr', 'de', 'es', 'it', 'pt']]) -> FR, DE, ES\n",
      "IT, PT vs. FR, DE, ES\\nIT, PT\u001b[0m\n",
      "[Problem format_country_codes] Try 2/3\n"
     ]
    },
    {
     "name": "stderr",
     "output_type": "stream",
     "text": [
      "WARNING:root:[llms] The following keys were not replaced: ['name', '\"apple\", \"banana\", \"cherry\"', '\"abc\", \"def\", \"ghi\"', '\"c\", \"d\", \"c\"']\n"
     ]
    },
    {
     "name": "stdout",
     "output_type": "stream",
     "text": [
      "   \u001b[92mformat_country_codes([['us', 'ca', 'mx']]) -> US,CA,MX vs. US,CA,MX\u001b[0m\n",
      "   \u001b[92mformat_country_codes([['us', 'ca', 'mx', 'uk', 'fr']]) -> US,CA,MX\n",
      "UK,FR vs. US,CA,MX\n",
      "UK,FR\u001b[0m\n",
      "   \u001b[92mformat_country_codes([['aa', 'bb', 'cc', 'dd', 'ee', 'ff']]) -> AA,BB,CC\n",
      "DD,EE,FF vs. AA,BB,CC\n",
      "DD,EE,FF\u001b[0m\n",
      "   \u001b[92mformat_country_codes([['in']]) -> IN vs. IN\u001b[0m\n",
      "   \u001b[92mformat_country_codes([[]]) ->  vs. \u001b[0m\n",
      "[Problem check_lat_lon] Try 1/3\n"
     ]
    },
    {
     "name": "stderr",
     "output_type": "stream",
     "text": [
      "WARNING:root:[llms] The following keys were not replaced: ['name', '\"apple\", \"banana\", \"cherry\"', '\"abc\", \"def\", \"ghi\"', '\"c\", \"d\", \"c\"']\n"
     ]
    },
    {
     "name": "stdout",
     "output_type": "stream",
     "text": [
      "   \u001b[91mcheck_lat_lon(['23.5,-45.2']) -> (23.5, -45.2) vs. [23.5, -45.2]\u001b[0m\n",
      "[Problem check_lat_lon] Try 2/3\n"
     ]
    },
    {
     "name": "stderr",
     "output_type": "stream",
     "text": [
      "WARNING:root:[llms] The following keys were not replaced: ['name', '\"apple\", \"banana\", \"cherry\"', '\"abc\", \"def\", \"ghi\"', '\"c\", \"d\", \"c\"']\n"
     ]
    },
    {
     "name": "stdout",
     "output_type": "stream",
     "text": [
      "   \u001b[91mcheck_lat_lon(['12.34,56.78']) -> (12.34, 56.78) vs. [12.34, 56.78]\u001b[0m\n",
      "[Problem check_lat_lon] Try 3/3\n"
     ]
    },
    {
     "name": "stderr",
     "output_type": "stream",
     "text": [
      "WARNING:root:[llms] The following keys were not replaced: ['name', '\"apple\", \"banana\", \"cherry\"', '\"abc\", \"def\", \"ghi\"', '\"c\", \"d\", \"c\"']\n"
     ]
    },
    {
     "name": "stdout",
     "output_type": "stream",
     "text": [
      "   \u001b[91mcheck_lat_lon(['23,42']) -> (23.0, 42.0) vs. [23.0, 42.0]\u001b[0m\n",
      "[Problem population_weighted_centroid] Try 1/3\n"
     ]
    },
    {
     "name": "stderr",
     "output_type": "stream",
     "text": [
      "WARNING:root:[llms] The following keys were not replaced: ['name', '\"apple\", \"banana\", \"cherry\"', '\"abc\", \"def\", \"ghi\"', '\"c\", \"d\", \"c\"']\n"
     ]
    },
    {
     "name": "stdout",
     "output_type": "stream",
     "text": [
      "Cannot parse\n",
      "|{\"solution\": \"def population_weighted_centroid(triples):\\n    total_population = 0.0\\n    weighted_lat_sum = 0.0\\n    weighted_lon_sum = 0.0\\n\\n    for lat, lon, population in triples:\\n        total_population += population\\n        weighted_lat_sum += lat * population\\n        weighted_lon_sum += lon * population\\n\\n    # Handle empty input or zero total population\\n    if total_population == 0:\\n        return (0.0, 0.0)\\n\\n    avg_lat = round(weighted_lat_sum / total_population, 5)\\n    avg_lon = round(weighted_lon_sum / total_population, 5)\\n\\n    return (avg_lat, avg_lon)\\n\",\n",
      "\"tests\": [\n",
      "    {\"type\": \"basic\", \"inputs\": [[(10, 20, 100), (20, 30, 200)]], \"output\": (16.66667, 26.66667)},\n",
      "    {\"type\": \"basic\", \"inputs\": [[(40.7128, -74.0060, 8405837)]], \"output\": (40.7128, -74.006)},\n",
      "    {\"type\": \"edge_case\", \"inputs\": [[]], \"output\": (0.0, 0.0)},\n",
      "    {\"type\": \"edge_case\", \"inputs\": [[(10, 10, 0), (20, 20, 0)]], \"output\": (0.0, 0.0)},\n",
      "    {\"type\": \"basic\", \"inputs\": [[(35.6895, 139.6917, 100), (51.5074, -0.1278, 200), (34.0522, -118.2437, 300)]], \"output\": (40.14348, -35.8825)}\n",
      "]\n",
      "}|\n",
      "[Problem population_weighted_centroid] Try 2/3\n"
     ]
    },
    {
     "name": "stderr",
     "output_type": "stream",
     "text": [
      "WARNING:root:[llms] The following keys were not replaced: ['name', '\"apple\", \"banana\", \"cherry\"', '\"abc\", \"def\", \"ghi\"', '\"c\", \"d\", \"c\"']\n"
     ]
    },
    {
     "name": "stdout",
     "output_type": "stream",
     "text": [
      "Cannot parse\n",
      "|{\"solution\": \"def population_weighted_centroid(points):\\n    \\\"\\\"\\\"Compute population-weighted centroid of (lat, lon, population) triples.\\n    Returns (lat, lon) rounded to five decimals. If the input list is empty or\\n    total population is zero, returns (0.0, 0.0).\\\"\\\"\\\"\\n    if not points:\\n        return (0.0, 0.0)\\n\\n    total_population = sum(p for _, _, p in points)\\n    if total_population == 0:\\n        return (0.0, 0.0)\\n\\n    weighted_lat = sum(lat * p for lat, _, p in points) / total_population\\n    weighted_lon = sum(lon * p for _, lon, p in points) / total_population\\n\\n    return (round(weighted_lat, 5), round(weighted_lon, 5))\",\n",
      "\"tests\": [\n",
      "  {\"type\": \"basic\", \"inputs\": [[(10.0, 20.0, 100)]], \"output\": (10.0, 20.0)},\n",
      "  {\"type\": \"basic\", \"inputs\": [[(0.0, 0.0, 50), (10.0, 10.0, 50)]], \"output\": (5.0, 5.0)},\n",
      "  {\"type\": \"basic\", \"inputs\": [[(0.0, 0.0, 10), (10.0, 10.0, 30)]], \"output\": (7.5, 7.5)},\n",
      "  {\"type\": \"edge_case\", \"inputs\": [[]], \"output\": (0.0, 0.0)},\n",
      "  {\"type\": \"edge_case\", \"inputs\": [[(10.0, 10.0, 0), (20.0, 20.0, 0)]], \"output\": (0.0, 0.0)}\n",
      "]\n",
      "}|\n",
      "[Problem population_weighted_centroid] Try 3/3\n"
     ]
    },
    {
     "name": "stderr",
     "output_type": "stream",
     "text": [
      "WARNING:root:[llms] The following keys were not replaced: ['name', '\"apple\", \"banana\", \"cherry\"', '\"abc\", \"def\", \"ghi\"', '\"c\", \"d\", \"c\"']\n"
     ]
    },
    {
     "name": "stdout",
     "output_type": "stream",
     "text": [
      "Cannot parse\n",
      "|{\"solution\": \"def population_weighted_centroid(points):\\n    \\\"\\\"\\\"Compute population weighted centroid.\\n    Args:\\n        points (list of tuple): Each tuple is (lat, lon, population).\\n    Returns:\\n        tuple: (weighted_lat, weighted_lon) rounded to 5 decimals. If the\\n                list is empty or total population is zero, returns (0.0, 0.0).\\n    \\\"\\\"\\\"\\n    if not points:\\n        return (0.0, 0.0)\\n\\n    total_pop = 0.0\\n    sum_lat = 0.0\\n    sum_lon = 0.0\\n\\n    for lat, lon, pop in points:\\n        total_pop += pop\\n        sum_lat += lat * pop\\n        sum_lon += lon * pop\\n\\n    if total_pop == 0:\\n        return (0.0, 0.0)\\n\\n    weighted_lat = round(sum_lat / total_pop, 5)\\n    weighted_lon = round(sum_lon / total_pop, 5)\\n\\n    return (weighted_lat, weighted_lon)\", \"tests\": [{\"type\": \"basic\", \"inputs\": [[(10, 20, 100)]], \"output\": [10.0, 20.0]}, {\"type\": \"basic\", \"inputs\": [[(0, 0, 1), (10, 10, 1)]], \"output\": [5.0, 5.0]}, {\"type\": \"basic\", \"inputs\": [[(0, 0, 1), (10, 10, 3)]], \"output\": [7.5, 7.5]}, {\"type\": \"edge_case\", \"inputs\": [[]], \"output\": [0.0, 0.0]}, {\"type\": \"edge_case\", \"inputs\": [[(5, 5, 0), (10, 10, 0)]], \"output\": [0.0, 0.0]}]}|\n",
      "[Problem filter_border_regions] Try 1/3\n"
     ]
    },
    {
     "name": "stderr",
     "output_type": "stream",
     "text": [
      "WARNING:root:[llms] The following keys were not replaced: ['name', '\"apple\", \"banana\", \"cherry\"', '\"abc\", \"def\", \"ghi\"', '\"c\", \"d\", \"c\"']\n"
     ]
    },
    {
     "name": "stdout",
     "output_type": "stream",
     "text": [
      "   \u001b[92mfilter_border_regions([[{'name': 'Canada', 'is_border': True}, {'name': 'Xenon', 'is_border': True}, {'name': 'USA', 'is_border': False}]]) -> ['Canada'] vs. ['Canada']\u001b[0m\n",
      "   \u001b[92mfilter_border_regions([[]]) -> [] vs. []\u001b[0m\n",
      "   \u001b[92mfilter_border_regions([[{'name': 'Brazil', 'is_border': True}, {'name': 'Argentina', 'is_border': True}]]) -> ['Brazil', 'Argentina'] vs. ['Brazil', 'Argentina']\u001b[0m\n",
      "   \u001b[92mfilter_border_regions([[{'name': 'xenia', 'is_border': True}, {'name': 'Xavier', 'is_border': True}]]) -> ['xenia'] vs. ['xenia']\u001b[0m\n",
      "   \u001b[92mfilter_border_regions([[{'name': 'XCountry', 'is_border': True}]]) -> [] vs. []\u001b[0m\n",
      "[Problem gradebook_sort] Try 1/3\n"
     ]
    },
    {
     "name": "stderr",
     "output_type": "stream",
     "text": [
      "WARNING:root:[llms] The following keys were not replaced: ['name', '\"apple\", \"banana\", \"cherry\"', '\"abc\", \"def\", \"ghi\"', '\"c\", \"d\", \"c\"']\n"
     ]
    },
    {
     "name": "stdout",
     "output_type": "stream",
     "text": [
      "   \u001b[92mgradebook_sort([[['Alice', 88], ['Bob', 95], ['Charlie', 90]]]) -> [['Bob', 95], ['Charlie', 90], ['Alice', 88]] vs. [['Bob', 95], ['Charlie', 90], ['Alice', 88]]\u001b[0m\n",
      "   \u001b[92mgradebook_sort([[['Alice', 90], ['Bob', 90], ['Charlie', 85]]]) -> [['Alice', 90], ['Bob', 90], ['Charlie', 85]] vs. [['Alice', 90], ['Bob', 90], ['Charlie', 85]]\u001b[0m\n",
      "   \u001b[92mgradebook_sort([[]]) -> [] vs. []\u001b[0m\n",
      "   \u001b[92mgradebook_sort([[['Dave', 72.5], ['Eve', 72.5], ['Frank', 100.0]]]) -> [['Frank', 100.0], ['Dave', 72.5], ['Eve', 72.5]] vs. [['Frank', 100.0], ['Dave', 72.5], ['Eve', 72.5]]\u001b[0m\n",
      "   \u001b[92mgradebook_sort([[['Anna', -10], ['Bella', -5], ['Cara', -5]]]) -> [['Bella', -5], ['Cara', -5], ['Anna', -10]] vs. [['Bella', -5], ['Cara', -5], ['Anna', -10]]\u001b[0m\n",
      "[Problem camel_to_snake_identifiers] Try 1/3\n"
     ]
    },
    {
     "name": "stderr",
     "output_type": "stream",
     "text": [
      "WARNING:root:[llms] The following keys were not replaced: ['name', '\"apple\", \"banana\", \"cherry\"', '\"abc\", \"def\", \"ghi\"', '\"c\", \"d\", \"c\"']\n"
     ]
    },
    {
     "name": "stdout",
     "output_type": "stream",
     "text": [
      "   \u001b[92mcamel_to_snake_identifiers([['CamelCase']]) -> ['camel_case'] vs. ['camel_case']\u001b[0m\n",
      "   \u001b[92mcamel_to_snake_identifiers([['HTMLParser']]) -> ['html_parser'] vs. ['html_parser']\u001b[0m\n",
      "   \u001b[92mcamel_to_snake_identifiers([['getURLResponse']]) -> ['get_url_response'] vs. ['get_url_response']\u001b[0m\n",
      "   \u001b[92mcamel_to_snake_identifiers([['already_snake']]) -> ['already_snake'] vs. ['already_snake']\u001b[0m\n",
      "   \u001b[92mcamel_to_snake_identifiers([['JSON2XMLConverter', 'MyHTTPServer']]) -> ['json2_xml_converter', 'my_http_server'] vs. ['json2_xml_converter', 'my_http_server']\u001b[0m\n",
      "[Problem average_grade_drop] Try 1/3\n"
     ]
    },
    {
     "name": "stderr",
     "output_type": "stream",
     "text": [
      "WARNING:root:[llms] The following keys were not replaced: ['name', '\"apple\", \"banana\", \"cherry\"', '\"abc\", \"def\", \"ghi\"', '\"c\", \"d\", \"c\"']\n"
     ]
    },
    {
     "name": "stdout",
     "output_type": "stream",
     "text": [
      "   \u001b[92maverage_grade_drop([[100, 90, 95, 80]]) -> 15 vs. 15\u001b[0m\n",
      "   \u001b[92maverage_grade_drop([[1, 2, 3, 4]]) -> 0 vs. 0\u001b[0m\n",
      "   \u001b[92maverage_grade_drop([[80]]) -> 0 vs. 0\u001b[0m\n",
      "   \u001b[92maverage_grade_drop([[]]) -> 0 vs. 0\u001b[0m\n",
      "   \u001b[92maverage_grade_drop([[90, 70, 70, 60]]) -> 20 vs. 20\u001b[0m\n",
      "   \u001b[92maverage_grade_drop([[100, 90, 90, 95, 85, 85, 70]]) -> 15 vs. 15\u001b[0m\n",
      "[Problem classroom_projector_area] Try 1/3\n"
     ]
    },
    {
     "name": "stderr",
     "output_type": "stream",
     "text": [
      "WARNING:root:[llms] The following keys were not replaced: ['name', '\"apple\", \"banana\", \"cherry\"', '\"abc\", \"def\", \"ghi\"', '\"c\", \"d\", \"c\"']\n"
     ]
    },
    {
     "name": "stdout",
     "output_type": "stream",
     "text": [
      "Cannot parse\n",
      "|{\"solution\": \"import math\\n\\ndef classroom_projector_area(points):\\n    \\\"\\\"\\\"Return the area of a rectangle given its four corner coordinates (unordered).\\n\\n    points: list/tuple with four elements, each an (x, y) coordinate.\\n    The rectangle can be axis-aligned or rotated; points can appear in any order.\\n    \\\"\\\"\\\"\\n    if len(points) != 4:\\n        raise ValueError(\\\"Exactly four points are required\\\")\\n\\n    # Compute all pair-wise squared distances (there are 6 of them)\\n    dists_sq = []\\n    for i in range(4):\\n        x1, y1 = points[i]\\n        for j in range(i + 1, 4):\\n            x2, y2 = points[j]\\n            dx, dy = x1 - x2, y1 - y2\\n            dists_sq.append(dx * dx + dy * dy)\\n\\n    # Filter out zero distances (shouldn't exist for valid rectangle)\\n    dists_sq = [d for d in dists_sq if d > 0]\\n    if len(dists_sq) != 6:\\n        raise ValueError(\\\"Invalid or repeated points provided\\\")\\n\\n    # Sort distances; the two smallest *distinct* values correspond to the side lengths squared\\n    dists_sq.sort()\\n    side1_sq = dists_sq[0]\\n    # Find the next distinct distance value (might be the same for a square)\\n    side2_sq = side1_sq\\n    for d in dists_sq:\\n        if not math.isclose(d, side1_sq):\\n            side2_sq = d\\n            break\\n\\n    # Area = product of side lengths\\n    if math.isclose(side1_sq, side2_sq):  # square\\n        return side1_sq  # because side^2 = side_sq\\n    return math.sqrt(side1_sq * side2_sq)\\n\", \"tests\": [{\"type\": \"basic\", \"inputs\": [[(0, 0), (4, 0), (4, 3), (0, 3)]], \"output\": 12.0}, {\"type\": \"basic\", \"inputs\": [[(2, 1), (5, 1), (5, 4), (2, 4)]], \"output\": 9.0}, {\"type\": \"edge_case\", \"inputs\": [[(1, 1), (2, 2), (3, 1), (2, 0)]], \"output\": 2.0}, {\"type\": \"edge_case\", \"inputs\": [[(0, 0), (1, 2), (4, 1), (3, -1)]], \"output\": 5.0}, {\"type\": \"basic\", \"inputs\": [[(10, 10), (10, 15), (14, 15), (14, 10)]], \"output\": 20.0}]}|\n",
      "[Problem classroom_projector_area] Try 2/3\n"
     ]
    },
    {
     "name": "stderr",
     "output_type": "stream",
     "text": [
      "WARNING:root:[llms] The following keys were not replaced: ['name', '\"apple\", \"banana\", \"cherry\"', '\"abc\", \"def\", \"ghi\"', '\"c\", \"d\", \"c\"']\n"
     ]
    },
    {
     "name": "stdout",
     "output_type": "stream",
     "text": [
      "   \u001b[92mclassroom_projector_area([[[0, 0], [4, 0], [4, 3], [0, 3]]]) -> 12.0 vs. 12.0\u001b[0m\n",
      "   \u001b[92mclassroom_projector_area([[[0, 0], [1, 1], [2, 0], [1, -1]]]) -> 2.0 vs. 2.0\u001b[0m\n",
      "   \u001b[92mclassroom_projector_area([[[5, 0], [6, 3], [1, 3], [0, 0]]]) -> 15.0 vs. 15.0\u001b[0m\n",
      "   \u001b[92mclassroom_projector_area([[[-2, -1], [2, -1], [2, 1], [-2, 1]]]) -> 8.0 vs. 8.0\u001b[0m\n",
      "   \u001b[92mclassroom_projector_area([[[1, 2], [4, 6], [1, 10], [-2, 6]]]) -> 24.0 vs. 24.0\u001b[0m\n",
      "[Problem split_into_semesters] Try 1/3\n"
     ]
    },
    {
     "name": "stderr",
     "output_type": "stream",
     "text": [
      "WARNING:root:[llms] The following keys were not replaced: ['name', '\"apple\", \"banana\", \"cherry\"', '\"abc\", \"def\", \"ghi\"', '\"c\", \"d\", \"c\"']\n"
     ]
    },
    {
     "name": "stdout",
     "output_type": "stream",
     "text": [
      "   \u001b[92msplit_into_semesters([['Math', 'Physics', 'Chemistry', 'Biology', 'English'], 2]) -> [['Math', 'Physics'], ['Chemistry', 'Biology'], ['English']] vs. [['Math', 'Physics'], ['Chemistry', 'Biology'], ['English']]\u001b[0m\n",
      "   \u001b[92msplit_into_semesters([['History', 'Art', 'Music', 'PE', 'Drama'], 5]) -> [['History', 'Art', 'Music', 'PE', 'Drama']] vs. [['History', 'Art', 'Music', 'PE', 'Drama']]\u001b[0m\n",
      "   \u001b[92msplit_into_semesters([['CS', 'Math'], 10]) -> [['CS', 'Math']] vs. [['CS', 'Math']]\u001b[0m\n",
      "   \u001b[92msplit_into_semesters([['A', 'B', 'C'], 1]) -> [['A'], ['B'], ['C']] vs. [['A'], ['B'], ['C']]\u001b[0m\n",
      "\u001b[91mError executing code: Semester size 'n' must be at least 1\u001b[0m\n",
      "[Problem split_into_semesters] Try 2/3\n"
     ]
    },
    {
     "name": "stderr",
     "output_type": "stream",
     "text": [
      "WARNING:root:[llms] The following keys were not replaced: ['name', '\"apple\", \"banana\", \"cherry\"', '\"abc\", \"def\", \"ghi\"', '\"c\", \"d\", \"c\"']\n"
     ]
    },
    {
     "name": "stdout",
     "output_type": "stream",
     "text": [
      "   \u001b[92msplit_into_semesters([['CS101', 'CS102', 'CS103', 'CS104'], 2]) -> [['CS101', 'CS102'], ['CS103', 'CS104']] vs. [['CS101', 'CS102'], ['CS103', 'CS104']]\u001b[0m\n",
      "   \u001b[92msplit_into_semesters([[1, 2, 3, 4, 5, 6, 7], 3]) -> [[1, 2, 3], [4, 5, 6], [7]] vs. [[1, 2, 3], [4, 5, 6], [7]]\u001b[0m\n",
      "   \u001b[92msplit_into_semesters([[], 2]) -> [] vs. []\u001b[0m\n",
      "   \u001b[92msplit_into_semesters([['A', 'B'], 1]) -> [['A'], ['B']] vs. [['A'], ['B']]\u001b[0m\n",
      "   \u001b[92msplit_into_semesters([[10, 20], 5]) -> [[10, 20]] vs. [[10, 20]]\u001b[0m\n",
      "[Problem possible_loot_combinations] Try 1/3\n"
     ]
    },
    {
     "name": "stderr",
     "output_type": "stream",
     "text": [
      "WARNING:root:[llms] The following keys were not replaced: ['name', '\"apple\", \"banana\", \"cherry\"', '\"abc\", \"def\", \"ghi\"', '\"c\", \"d\", \"c\"']\n"
     ]
    },
    {
     "name": "stdout",
     "output_type": "stream",
     "text": [
      "   \u001b[92mpossible_loot_combinations([5, [1, 2, 5]]) -> 4 vs. 4\u001b[0m\n",
      "   \u001b[92mpossible_loot_combinations([3, [2]]) -> 0 vs. 0\u001b[0m\n",
      "   \u001b[92mpossible_loot_combinations([0, [1, 2]]) -> 1 vs. 1\u001b[0m\n",
      "   \u001b[92mpossible_loot_combinations([10, [2, 3, 5, 6]]) -> 5 vs. 5\u001b[0m\n",
      "   \u001b[92mpossible_loot_combinations([3, [1, 1, 2]]) -> 2 vs. 2\u001b[0m\n",
      "[Problem daily_login_streaks] Try 1/3\n"
     ]
    },
    {
     "name": "stderr",
     "output_type": "stream",
     "text": [
      "WARNING:root:[llms] The following keys were not replaced: ['name', '\"apple\", \"banana\", \"cherry\"', '\"abc\", \"def\", \"ghi\"', '\"c\", \"d\", \"c\"']\n"
     ]
    },
    {
     "name": "stdout",
     "output_type": "stream",
     "text": [
      "   \u001b[92mdaily_login_streaks([['2023-01-01', '2023-01-02', '2023-01-05', '2023-01-06', '2023-01-07']]) -> 3 vs. 3\u001b[0m\n",
      "   \u001b[92mdaily_login_streaks([[]]) -> 0 vs. 0\u001b[0m\n",
      "   \u001b[92mdaily_login_streaks([['2023-03-10', '2023-03-11', '2023-03-12', '2023-03-13', '2023-03-14', '2023-03-15']]) -> 6 vs. 6\u001b[0m\n",
      "   \u001b[92mdaily_login_streaks([['2023-01-01', '2023-01-03', '2023-01-05']]) -> 1 vs. 1\u001b[0m\n",
      "   \u001b[92mdaily_login_streaks([['2020-02-28', '2020-02-29', '2020-03-01']]) -> 3 vs. 3\u001b[0m\n",
      "[Problem decode_save_file] Try 1/3\n"
     ]
    },
    {
     "name": "stderr",
     "output_type": "stream",
     "text": [
      "WARNING:root:[llms] The following keys were not replaced: ['name', '\"apple\", \"banana\", \"cherry\"', '\"abc\", \"def\", \"ghi\"', '\"c\", \"d\", \"c\"']\n"
     ]
    },
    {
     "name": "stdout",
     "output_type": "stream",
     "text": [
      "   \u001b[92mdecode_save_file(['health=100;mana=50;name=Link']) -> {'health': 100, 'mana': 50, 'name': 'Link'} vs. {'health': 100, 'mana': 50, 'name': 'Link'}\u001b[0m\n",
      "   \u001b[92mdecode_save_file(['lives=-3;level=2']) -> {'lives': -3, 'level': 2} vs. {'lives': -3, 'level': 2}\u001b[0m\n",
      "   \u001b[92mdecode_save_file(['code=007bond;secret=42']) -> {'code': '007bond', 'secret': 42} vs. {'code': '007bond', 'secret': 42}\u001b[0m\n",
      "   \u001b[92mdecode_save_file(['x=1;y=2;z=three;']) -> {'x': 1, 'y': 2, 'z': 'three'} vs. {'x': 1, 'y': 2, 'z': 'three'}\u001b[0m\n",
      "   \u001b[92mdecode_save_file(['']) -> {} vs. {}\u001b[0m\n",
      "[Problem first_unopened_chest] Try 1/3\n"
     ]
    },
    {
     "name": "stderr",
     "output_type": "stream",
     "text": [
      "WARNING:root:[llms] The following keys were not replaced: ['name', '\"apple\", \"banana\", \"cherry\"', '\"abc\", \"def\", \"ghi\"', '\"c\", \"d\", \"c\"']\n"
     ]
    },
    {
     "name": "stdout",
     "output_type": "stream",
     "text": [
      "Cannot parse\n",
      "|{\"solution\": \"def first_unopened_chest(chests):\\n    \\\"\\\"\\\"Return the index of the first False in the list `chests`.\\n    If every element is True (or the list is empty), return -1.\\n    \\\"\\\"\\\"\\n    for idx, opened in enumerate(chests):\\n        if not opened:\\n            return idx\\n    return -1\\n\", \"tests\": [{\"type\": \"basic\", \"inputs\": [[true, false, true]], \"output\": 1}, {\"type\": \"basic\", \"inputs\": [[false, true, false]], \"output\": 0}, {\"type\": \"edge_case\", \"inputs\": [[true, true, true]], \"output\": -1}, {\"type\": \"edge_case\", \"inputs\": [[]], \"output\": -1}, {\"type\": \"edge_case\", \"inputs\": [[[True]*1000 + [False]]], \"output\": 1000}]}|\n",
      "[Problem first_unopened_chest] Try 2/3\n"
     ]
    },
    {
     "name": "stderr",
     "output_type": "stream",
     "text": [
      "WARNING:root:[llms] The following keys were not replaced: ['name', '\"apple\", \"banana\", \"cherry\"', '\"abc\", \"def\", \"ghi\"', '\"c\", \"d\", \"c\"']\n"
     ]
    },
    {
     "name": "stdout",
     "output_type": "stream",
     "text": [
      "Cannot parse\n",
      "|{\"solution\": \"def first_unopened_chest(chests):\\n    \\\"\\\"\\\"Return the index of the first unopened chest (False) in the list.\\n    If all chests are opened (True) or list is empty, return -1.\\n    \\\"\\\"\\\"\\n    for idx, opened in enumerate(chests):\\n        if not opened:\\n            return idx\\n    return -1\\n\", \"tests\": [{\"type\": \"basic\", \"inputs\": [[True, False, True]], \"output\": 1}, {\"type\": \"basic\", \"inputs\": [[False, True, True, False]], \"output\": 0}, {\"type\": \"edge_case\", \"inputs\": [[True, True, True]], \"output\": -1}, {\"type\": \"edge_case\", \"inputs\": [[]], \"output\": -1}, {\"type\": \"edge_case\", \"inputs\": [[True, False, False, False]], \"output\": 1}] }|\n",
      "[Problem first_unopened_chest] Try 3/3\n"
     ]
    },
    {
     "name": "stderr",
     "output_type": "stream",
     "text": [
      "WARNING:root:[llms] The following keys were not replaced: ['name', '\"apple\", \"banana\", \"cherry\"', '\"abc\", \"def\", \"ghi\"', '\"c\", \"d\", \"c\"']\n"
     ]
    },
    {
     "name": "stdout",
     "output_type": "stream",
     "text": [
      "Cannot parse\n",
      "|{\"solution\":\"def first_unopened_chest(chests):\\n    \\\"\\\"\\\"Return the smallest index of a chest that has not been opened (False).\\n    If all chests are opened (True) or the list is empty, return -1.\\n    \\\"\\\"\\\"\\n    try:\\n        return chests.index(False)\\n    except ValueError:\\n        return -1\",\"tests\":[{\"type\":\"basic\",\"inputs\":[[True,False,True]],\"output\":1},{\"type\":\"basic\",\"inputs\":[[True,True,True]],\"output\":-1},{\"type\":\"edge_case\",\"inputs\":[[]],\"output\":-1},{\"type\":\"edge_case\",\"inputs\":[[False,True,False]],\"output\":0},{\"type\":\"edge_case\",\"inputs\":[[True,True,True,True,True,True,True,True,True,True,False]],\"output\":10}]}|\n",
      "[Problem unique_player_signature] Try 1/3\n"
     ]
    },
    {
     "name": "stderr",
     "output_type": "stream",
     "text": [
      "WARNING:root:[llms] The following keys were not replaced: ['name', '\"apple\", \"banana\", \"cherry\"', '\"abc\", \"def\", \"ghi\"', '\"c\", \"d\", \"c\"']\n"
     ]
    },
    {
     "name": "stdout",
     "output_type": "stream",
     "text": [
      "   \u001b[92munique_player_signature(['a', '']) -> 0CC175B9 vs. 0CC175B9\u001b[0m\n",
      "   \u001b[92munique_player_signature(['', '']) -> D41D8CD9 vs. D41D8CD9\u001b[0m\n",
      "   \u001b[92munique_player_signature(['ab', 'c']) -> 90015098 vs. 90015098\u001b[0m\n",
      "   \u001b[92munique_player_signature(['', 'password']) -> 5F4DCC3B vs. 5F4DCC3B\u001b[0m\n",
      "   \u001b[92munique_player_signature(['a', 'b']) -> 187EF443 vs. 187EF443\u001b[0m\n",
      "[Problem science_common_genes] Try 1/3\n"
     ]
    },
    {
     "name": "stderr",
     "output_type": "stream",
     "text": [
      "WARNING:root:[llms] The following keys were not replaced: ['name', '\"apple\", \"banana\", \"cherry\"', '\"abc\", \"def\", \"ghi\"', '\"c\", \"d\", \"c\"']\n"
     ]
    },
    {
     "name": "stdout",
     "output_type": "stream",
     "text": [
      "   \u001b[92mscience_common_genes([[['BRCA1', 'TP53', 'EGFR'], ['EGFR', 'TP53', 'MTOR'], ['TP53', 'EGFR', 'BRCA1']]]) -> ['EGFR', 'TP53'] vs. ['EGFR', 'TP53']\u001b[0m\n",
      "   \u001b[92mscience_common_genes([[['A', 'B', 'A'], ['B', 'B', 'C', 'A'], ['A', 'B']]]) -> ['A', 'B'] vs. ['A', 'B']\u001b[0m\n",
      "   \u001b[92mscience_common_genes([[['A', 'B'], ['C', 'D']]]) -> [] vs. []\u001b[0m\n",
      "   \u001b[92mscience_common_genes([[]]) -> [] vs. []\u001b[0m\n",
      "   \u001b[92mscience_common_genes([[[], ['A', 'B']]]) -> [] vs. []\u001b[0m\n",
      "[Problem toggle_experiment_flags] Try 1/3\n"
     ]
    },
    {
     "name": "stderr",
     "output_type": "stream",
     "text": [
      "WARNING:root:[llms] The following keys were not replaced: ['name', '\"apple\", \"banana\", \"cherry\"', '\"abc\", \"def\", \"ghi\"', '\"c\", \"d\", \"c\"']\n"
     ]
    },
    {
     "name": "stdout",
     "output_type": "stream",
     "text": [
      "   \u001b[92mtoggle_experiment_flags([5, [0]]) -> 4 vs. 4\u001b[0m\n",
      "   \u001b[92mtoggle_experiment_flags([0, [1, 3]]) -> 10 vs. 10\u001b[0m\n",
      "   \u001b[92mtoggle_experiment_flags([6, [1, 2, 1]]) -> 2 vs. 2\u001b[0m\n",
      "   \u001b[92mtoggle_experiment_flags([15, []]) -> 15 vs. 15\u001b[0m\n",
      "   \u001b[92mtoggle_experiment_flags([1, [10]]) -> 1025 vs. 1025\u001b[0m\n",
      "[Problem population_decay] Try 1/3\n"
     ]
    },
    {
     "name": "stderr",
     "output_type": "stream",
     "text": [
      "WARNING:root:[llms] The following keys were not replaced: ['name', '\"apple\", \"banana\", \"cherry\"', '\"abc\", \"def\", \"ghi\"', '\"c\", \"d\", \"c\"']\n"
     ]
    },
    {
     "name": "stdout",
     "output_type": "stream",
     "text": [
      "   \u001b[92mpopulation_decay([1000, 10, 3]) -> [1000, 900, 810, 729] vs. [1000, 900, 810, 729]\u001b[0m\n",
      "   \u001b[92mpopulation_decay([500, 20, 2]) -> [500, 400, 320] vs. [500, 400, 320]\u001b[0m\n",
      "   \u001b[92mpopulation_decay([123, 5, 0]) -> [123] vs. [123]\u001b[0m\n",
      "   \u001b[92mpopulation_decay([1000, 0, 4]) -> [1000, 1000, 1000, 1000, 1000] vs. [1000, 1000, 1000, 1000, 1000]\u001b[0m\n",
      "   \u001b[92mpopulation_decay([5, 50, 1]) -> [5, 2] vs. [5, 2]\u001b[0m\n",
      "[Problem chemical_chain_rewrite] Try 1/3\n"
     ]
    },
    {
     "name": "stderr",
     "output_type": "stream",
     "text": [
      "WARNING:root:[llms] The following keys were not replaced: ['name', '\"apple\", \"banana\", \"cherry\"', '\"abc\", \"def\", \"ghi\"', '\"c\", \"d\", \"c\"']\n"
     ]
    },
    {
     "name": "stdout",
     "output_type": "stream",
     "text": [
      "   \u001b[92mchemical_chain_rewrite(['AB']) -> BA vs. BA\u001b[0m\n",
      "   \u001b[92mchemical_chain_rewrite(['AAB']) -> BAA vs. BAA\u001b[0m\n",
      "   \u001b[92mchemical_chain_rewrite(['ABAB']) -> BBAA vs. BBAA\u001b[0m\n",
      "   \u001b[92mchemical_chain_rewrite(['']) ->  vs. \u001b[0m\n",
      "   \u001b[92mchemical_chain_rewrite(['ABBA']) -> BBAA vs. BBAA\u001b[0m\n",
      "   \u001b[92mchemical_chain_rewrite(['AAA']) -> AAA vs. AAA\u001b[0m\n",
      "[Problem count_prime_measurements] Try 1/3\n"
     ]
    },
    {
     "name": "stderr",
     "output_type": "stream",
     "text": [
      "WARNING:root:[llms] The following keys were not replaced: ['name', '\"apple\", \"banana\", \"cherry\"', '\"abc\", \"def\", \"ghi\"', '\"c\", \"d\", \"c\"']\n"
     ]
    },
    {
     "name": "stdout",
     "output_type": "stream",
     "text": [
      "Cannot parse\n",
      "|{\"solution\": \"def count_prime_measurements(measurements):\\n    \\\"\\\"\\\"Return the number of prime integers in the given iterable of measurements.\\n    A prime number is a positive integer greater than 1 that has no positive divisors other than 1 and itself.\\n    \\\"\\\"\\\"\\n    import math\\n\\n    def is_prime(n: int) -> bool:\\n        if n <= 1:\\n            return False\\n        if n <= 3:\\n            return True  # 2 and 3 are prime\\n        if n % 2 == 0 or n % 3 == 0:\\n            return False\\n        # Check for factors of the form 6k ± 1 up to sqrt(n)\\n        limit = int(math.isqrt(n))\\n        i = 5\\n        while i <= limit:\\n            if n % i == 0 or n % (i + 2) == 0:\\n                return False\\n            i += 6\\n        return True\\n\\n    # Count primes in the provided measurements list\\n    return sum(1 for x in measurements if is_prime(x))\",\n",
      "\"tests\": [\n",
      "    {\"type\": \"basic\", \"inputs\": [[1, 2, 3, 4, 5]], \"output\": 3},\n",
      "    {\"type\": \"basic\", \"inputs\": [[0, -1, -2, 17]], \"output\": 1},\n",
      "    {\"type\": \"edge_case\", \"inputs\": [[]], \"output\": 0},\n",
      "    {\"type\": \"edge_case\", \"inputs\": [[2]*100], \"output\": 100},\n",
      "    {\"type\": \"basic\", \"inputs\": [list(range(10, 21))], \"output\": 4}\n",
      "]}|\n",
      "[Problem count_prime_measurements] Try 2/3\n"
     ]
    },
    {
     "name": "stderr",
     "output_type": "stream",
     "text": [
      "WARNING:root:[llms] The following keys were not replaced: ['name', '\"apple\", \"banana\", \"cherry\"', '\"abc\", \"def\", \"ghi\"', '\"c\", \"d\", \"c\"']\n"
     ]
    },
    {
     "name": "stdout",
     "output_type": "stream",
     "text": [
      "   \u001b[92mcount_prime_measurements([[2, 3, 4, 5, 6, 7]]) -> 4 vs. 4\u001b[0m\n",
      "   \u001b[92mcount_prime_measurements([[10, 11, 12, 13, 14, 15]]) -> 2 vs. 2\u001b[0m\n",
      "   \u001b[92mcount_prime_measurements([[-3, -2, 0, 1]]) -> 0 vs. 0\u001b[0m\n",
      "   \u001b[92mcount_prime_measurements([[]]) -> 0 vs. 0\u001b[0m\n",
      "   \u001b[92mcount_prime_measurements([[99991, 99989, 100000]]) -> 2 vs. 2\u001b[0m\n",
      "[Problem minimum_truck_loads] Try 1/3\n"
     ]
    },
    {
     "name": "stderr",
     "output_type": "stream",
     "text": [
      "WARNING:root:[llms] The following keys were not replaced: ['name', '\"apple\", \"banana\", \"cherry\"', '\"abc\", \"def\", \"ghi\"', '\"c\", \"d\", \"c\"']\n"
     ]
    },
    {
     "name": "stdout",
     "output_type": "stream",
     "text": [
      "   \u001b[92mminimum_truck_loads([[4, 8, 1, 4, 2, 1], 10]) -> 2 vs. 2\u001b[0m\n",
      "   \u001b[92mminimum_truck_loads([[9, 8, 2, 2, 5], 10]) -> 3 vs. 3\u001b[0m\n",
      "   \u001b[92mminimum_truck_loads([[], 15]) -> 0 vs. 0\u001b[0m\n",
      "   \u001b[92mminimum_truck_loads([[5, 5, 5], 5]) -> 3 vs. 3\u001b[0m\n",
      "   \u001b[92mminimum_truck_loads([[1, 1, 1], 10]) -> 1 vs. 1\u001b[0m\n",
      "[Problem pad_tracking_numbers] Try 1/3\n"
     ]
    },
    {
     "name": "stderr",
     "output_type": "stream",
     "text": [
      "WARNING:root:[llms] The following keys were not replaced: ['name', '\"apple\", \"banana\", \"cherry\"', '\"abc\", \"def\", \"ghi\"', '\"c\", \"d\", \"c\"']\n"
     ]
    },
    {
     "name": "stdout",
     "output_type": "stream",
     "text": [
      "   \u001b[92mpad_tracking_numbers([['12345', '987654321']]) -> ['000000012345', '000987654321'] vs. ['000000012345', '000987654321']\u001b[0m\n",
      "   \u001b[92mpad_tracking_numbers([[123, 456789012345]]) -> ['000000000123', '456789012345'] vs. ['000000000123', '456789012345']\u001b[0m\n",
      "   \u001b[92mpad_tracking_numbers([[]]) -> [] vs. []\u001b[0m\n",
      "   \u001b[92mpad_tracking_numbers([['000123456789']]) -> ['000123456789'] vs. ['000123456789']\u001b[0m\n",
      "   \u001b[92mpad_tracking_numbers([[0]]) -> ['000000000000'] vs. ['000000000000']\u001b[0m\n",
      "[Problem validate_container_code] Try 1/3\n"
     ]
    },
    {
     "name": "stderr",
     "output_type": "stream",
     "text": [
      "WARNING:root:[llms] The following keys were not replaced: ['name', '\"apple\", \"banana\", \"cherry\"', '\"abc\", \"def\", \"ghi\"', '\"c\", \"d\", \"c\"']\n"
     ]
    },
    {
     "name": "stdout",
     "output_type": "stream",
     "text": [
      "   \u001b[92mvalidate_container_code(['MSCU1234567']) -> True vs. True\u001b[0m\n",
      "   \u001b[92mvalidate_container_code(['MSIU1234567']) -> False vs. False\u001b[0m\n",
      "   \u001b[92mvalidate_container_code(['ABCD12345A7']) -> False vs. False\u001b[0m\n",
      "   \u001b[92mvalidate_container_code(['ABcD1234567']) -> False vs. False\u001b[0m\n",
      "   \u001b[92mvalidate_container_code(['ABCD123456']) -> False vs. False\u001b[0m\n",
      "   \u001b[92mvalidate_container_code(['ABCD12345678']) -> False vs. False\u001b[0m\n",
      "[Problem average_delivery_delay] Try 1/3\n"
     ]
    },
    {
     "name": "stderr",
     "output_type": "stream",
     "text": [
      "WARNING:root:[llms] The following keys were not replaced: ['name', '\"apple\", \"banana\", \"cherry\"', '\"abc\", \"def\", \"ghi\"', '\"c\", \"d\", \"c\"']\n"
     ]
    },
    {
     "name": "stdout",
     "output_type": "stream",
     "text": [
      "Cannot parse\n",
      "|{\"solution\": \"from datetime import datetime\\nfrom typing import List, Tuple\\n\\ndef average_delivery_delay(pairs: List[Tuple[str, str]]) -> float:\\n    \\\"\\\"\\\"Compute the average delivery delay in days.\\n\\n    Each element in `pairs` is a tuple of two datetime strings:\\n      (expected_datetime_str, actual_datetime_str)\\n\\n    The delay for one shipment is (actual - expected) measured in days\\n    (positive means late). The function returns the average delay across\\n    all pairs, rounded to two decimal places. If the input list is empty,\\n    the function returns 0.0.\\n    \\\"\\\"\\\"\\n    if not pairs:\\n        return 0.0\\n\\n    total_days = 0.0\\n    for expected_str, actual_str in pairs:\\n        expected_dt = datetime.fromisoformat(expected_str)\\n        actual_dt = datetime.fromisoformat(actual_str)\\n        delta_seconds = (actual_dt - expected_dt).total_seconds()\\n        total_days += delta_seconds / 86400.0  # seconds in a day\\n\\n    average = total_days / len(pairs)\\n    return round(average, 2)\\n\", \"tests\": [{\"type\": \"basic\", \"inputs\": [[(\"2021-05-01\", \"2021-05-01\")]], \"output\": 0.0}, {\"type\": \"basic\", \"inputs\": [[(\"2021-05-01\", \"2021-05-03\")]], \"output\": 2.0}, {\"type\": \"basic\", \"inputs\": [[(\"2021-01-01\", \"2021-01-03\"), (\"2021-02-01\", \"2021-01-31\")]], \"output\": 0.5}, {\"type\": \"edge_case\", \"inputs\": [[(\"2021-01-01 12:00:00\", \"2021-01-02 00:00:00\"), (\"2021-01-05 00:00:00\", \"2021-01-05 00:00:00\")]], \"output\": 0.25}, {\"type\": \"edge_case\", \"inputs\": [[]], \"output\": 0.0}]}|\n",
      "[Problem average_delivery_delay] Try 2/3\n"
     ]
    },
    {
     "name": "stderr",
     "output_type": "stream",
     "text": [
      "WARNING:root:[llms] The following keys were not replaced: ['name', '\"apple\", \"banana\", \"cherry\"', '\"abc\", \"def\", \"ghi\"', '\"c\", \"d\", \"c\"']\n"
     ]
    },
    {
     "name": "stdout",
     "output_type": "stream",
     "text": [
      "Cannot parse\n",
      "|{\"solution\": \"from datetime import datetime\\n\\ndef average_delivery_delay(pairs):\\n    \\\"\\\"\\\"Compute the average delivery delay in days (actual - expected).\\n    Input: list of tuples/lists with expected and actual datetime strings.\\n    Returns float rounded to two decimal places; positive means late.\\n    If the list is empty, returns 0.0.\\n    \\\"\\\"\\\"\\n    if not pairs:\\n        return 0.0\\n\\n    total_days = 0.0\\n    for expected_str, actual_str in pairs:\\n        expected_dt = datetime.fromisoformat(expected_str)\\n        actual_dt = datetime.fromisoformat(actual_str)\\n        delta_days = (actual_dt - expected_dt).total_seconds() / 86400.0  # seconds in a day\\n        total_days += delta_days\\n\\n    average = total_days / len(pairs)\\n    return round(average, 2)\\n\", \"tests\": [{\"type\": \"basic\", \"inputs\": [[(\"2023-01-01\", \"2023-01-03\")]], \"output\": 2.0}, {\"type\": \"basic\", \"inputs\": [[(\"2023-01-01\", \"2023-01-03\"), (\"2023-01-05\", \"2023-01-03\")]], \"output\": 0.0}, {\"type\": \"edge_case\", \"inputs\": [[(\"2023-01-01 12:00:00\", \"2023-01-02 12:00:00\")]], \"output\": 1.0}, {\"type\": \"edge_case\", \"inputs\": [[]], \"output\": 0.0}, {\"type\": \"edge_case\", \"inputs\": [[(\"2023-01-01 00:00:00\", \"2023-01-02 12:00:00\")]], \"output\": 1.5}]}|\n",
      "[Problem average_delivery_delay] Try 3/3\n"
     ]
    },
    {
     "name": "stderr",
     "output_type": "stream",
     "text": [
      "WARNING:root:[llms] The following keys were not replaced: ['name', '\"apple\", \"banana\", \"cherry\"', '\"abc\", \"def\", \"ghi\"', '\"c\", \"d\", \"c\"']\n"
     ]
    },
    {
     "name": "stdout",
     "output_type": "stream",
     "text": [
      "Cannot parse\n",
      "|{\"solution\": \"import datetime\\n\\ndef average_delivery_delay(deliveries):\\n    \\\"\\\"\\\"Compute the average delivery delay in days rounded to two decimals.\\n    Each element in `deliveries` is a tuple (expected_datetime_str, actual_datetime_str).\\n    Positive values indicate late delivery, negative values early delivery.\\n    \\\"\\\"\\\"\\n    if not deliveries:\\n        return 0.0\\n\\n    total_days = 0.0\\n    for expected_str, actual_str in deliveries:\\n        # Parse using datetime.fromisoformat which supports YYYY-MM-DD and full ISO datetime strings\\n        expected_dt = datetime.datetime.fromisoformat(expected_str)\\n        actual_dt = datetime.datetime.fromisoformat(actual_str)\\n        diff_days = (actual_dt - expected_dt).total_seconds() / 86400  # seconds per day\\n        total_days += diff_days\\n\\n    average = total_days / len(deliveries)\\n    return round(average, 2)\\n\", \"tests\": [{\"type\": \"basic\", \"inputs\": [[(\"2021-01-01\", \"2021-01-03\"), (\"2021-02-01\", \"2021-02-02\")]], \"output\": 1.5}, {\"type\": \"basic\", \"inputs\": [[(\"2021-01-05\", \"2021-01-03\")]], \"output\": -2.0}, {\"type\": \"edge_case\", \"inputs\": [[(\"2023-04-01 12:00:00\", \"2023-04-02 00:00:00\")]], \"output\": 0.5}, {\"type\": \"edge_case\", \"inputs\": [[]], \"output\": 0.0}, {\"type\": \"edge_case\", \"inputs\": [[(\"2021-01-01\", \"2021-01-02\"), (\"2021-01-03\", \"2021-01-02\")]], \"output\": 0.0}]}|\n",
      "[Problem filter_heavy_packages] Try 1/3\n"
     ]
    },
    {
     "name": "stderr",
     "output_type": "stream",
     "text": [
      "WARNING:root:[llms] The following keys were not replaced: ['name', '\"apple\", \"banana\", \"cherry\"', '\"abc\", \"def\", \"ghi\"', '\"c\", \"d\", \"c\"']\n"
     ]
    },
    {
     "name": "stdout",
     "output_type": "stream",
     "text": [
      "Cannot parse\n",
      "|{\"solution\": \"def filter_heavy_packages(packages, threshold, exclusion_list):\\n    \\\"\\\"\\\"Return a list of package IDs whose weight strictly exceeds the given\\n    threshold and whose destination is not in the exclusion list.\\n\\n    Args:\\n        packages (list[dict]): Each dict must contain keys 'id', 'weight', and 'destination'.\\n        threshold (int | float): Weight threshold. Packages heavier than this value qualify.\\n        exclusion_list (list[str]): Destinations to exclude.\\n\\n    Returns:\\n        list: IDs of the qualifying packages, in their original order.\\n    \\\"\\\"\\\"\\n    if not isinstance(exclusion_list, set):\\n        exclusion_set = set(exclusion_list)\\n    else:\\n        exclusion_set = exclusion_list\\n\\n    qualified_ids = []\\n    for pkg in packages:\\n        try:\\n            if pkg['weight'] > threshold and pkg['destination'] not in exclusion_set:\\n                qualified_ids.append(pkg['id'])\\n        except KeyError:\\n            # Skip packages missing required information\\n            continue\\n    return qualified_ids\\n\", \"tests\": [{\"type\": \"basic\", \"inputs\": [[{\\\"id\\\": 1, \\\"weight\\\": 12, \\\"destination\\\": \\\"NY\\\"}, {\\\"id\\\": 2, \\\"weight\\\": 8, \\\"destination\\\": \\\"LA\\\"}, {\\\"id\\\": 3, \\\"weight\\\": 15, \\\"destination\\\": \\\"SF\\\"}], 10, [\\\"LA\\\"]], \"output\": [1, 3]}, {\"type\": \"basic\", \"inputs\": [[{\\\"id\\\": \\\"A\\\", \\\"weight\\\": 5, \\\"destination\\\": \\\"TX\\\"}], 10, []], \"output\": []}, {\"type\": \"edge_case\", \"inputs\": [[], 5, [\\\"NY\\\"]], \"output\": []}, {\"type\": \"edge_case\", \"inputs\": [[{\\\"id\\\": 7, \\\"weight\\\": 10, \\\"destination\\\": \\\"CHI\\\"}, {\\\"id\\\": 8, \\\"weight\\\": 10.1, \\\"destination\\\": \\\"SEA\\\"}], 10, []], \"output\": [8]}, {\"type\": \"edge_case\", \"inputs\": [[{\\\"id\\\": 9, \\\"weight\\\": 20, \\\"destination\\\": \\\"MIA\\\"}, {\\\"id\\\": 10, \\\"weight\\\": 25, \\\"destination\\\": \\\"BOS\\\"}], -1, [\\\"MIA\\\"]], \"output\": [10]}]}|\n",
      "[Problem filter_heavy_packages] Try 2/3\n"
     ]
    },
    {
     "name": "stderr",
     "output_type": "stream",
     "text": [
      "WARNING:root:[llms] The following keys were not replaced: ['name', '\"apple\", \"banana\", \"cherry\"', '\"abc\", \"def\", \"ghi\"', '\"c\", \"d\", \"c\"']\n"
     ]
    },
    {
     "name": "stdout",
     "output_type": "stream",
     "text": [
      "Cannot parse\n",
      "|{\"solution\": \"def filter_heavy_packages(packages, weight_threshold, excluded_destinations):\\n    \\\"\\\"\\\"Return a list of package IDs whose weight exceeds the given threshold and whose\\n    destination is not in the exclusion list.\\n\\n    Parameters\\n    ----------\\n    packages : list of dict\\n        Each dictionary must contain the keys 'id', 'weight', and 'destination'.\\n    weight_threshold : int | float\\n        The minimum weight (exclusive) a package must exceed to be included.\\n    excluded_destinations : set | list | tuple\\n        Iterable of destination names to be excluded.\\n\\n    Returns\\n    -------\\n    list\\n        IDs of packages that satisfy the conditions, in the original order.\\n    \\\"\\\"\\\"\\n    # Convert exclusion list to a set for O(1) look-ups\\n    exclusions = set(excluded_destinations)\\n\\n    # Filter and collect IDs maintaining original order\\n    result_ids = [pkg['id'] for pkg in packages\\n                  if pkg.get('weight', 0) > weight_threshold and pkg.get('destination') not in exclusions]\\n\\n    return result_ids\",\n",
      "\"tests\": [{\"type\": \"basic\", \"inputs\": [[{\\\"id\\\": 1, \\\"weight\\\": 10, \\\"destination\\\": \\\"NY\\\"}, {\\\"id\\\": 2, \\\"weight\\\": 5, \\\"destination\\\": \\\"LA\\\"}, {\\\"id\\\": 3, \\\"weight\\\": 12, \\\"destination\\\": \\\"SF\\\"}], 8, [\\\"LA\\\"]], \"output\": [1, 3]}, {\"type\": \"basic\", \"inputs\": [[{\\\"id\\\": \\\"A\\\", \\\"weight\\\": 2.5, \\\"destination\\\": \\\"TX\\\"}], 3, []], \"output\": []}, {\"type\": \"edge_case\", \"inputs\": [[], 1, [\\\"NY\\\"]], \"output\": []}, {\"type\": \"edge_case\", \"inputs\": [[{\\\"id\\\": 7, \\\"weight\\\": 15, \\\"destination\\\": \\\"CHI\\\"}, {\\\"id\\\": 8, \\\"weight\\\": 15, \\\"destination\\\": \\\"BOS\\\"}], 15, []], \"output\": []}, {\"type\": \"edge_case\", \"inputs\": [[{\\\"id\\\": 9, \\\"weight\\\": 20, \\\"destination\\\": \\\"NY\\\"}, {\\\"id\\\": 10, \\\"weight\\\": 25, \\\"destination\\\": \\\"NY\\\"}], 10, [\\\"SF\\\", \\\"LA\\\"]], \"output\": [9, 10]}]}|\n",
      "[Problem filter_heavy_packages] Try 3/3\n"
     ]
    },
    {
     "name": "stderr",
     "output_type": "stream",
     "text": [
      "WARNING:root:[llms] The following keys were not replaced: ['name', '\"apple\", \"banana\", \"cherry\"', '\"abc\", \"def\", \"ghi\"', '\"c\", \"d\", \"c\"']\n"
     ]
    },
    {
     "name": "stdout",
     "output_type": "stream",
     "text": [
      "   \u001b[92mfilter_heavy_packages([[{'id': 1, 'weight': 15, 'destination': 'NY'}, {'id': 2, 'weight': 5, 'destination': 'CA'}, {'id': 3, 'weight': 20, 'destination': 'TX'}], 10, ['CA']]) -> [1, 3] vs. [1, 3]\u001b[0m\n",
      "   \u001b[92mfilter_heavy_packages([[{'id': 'A', 'weight': 50, 'destination': 'LA'}, {'id': 'B', 'weight': 40, 'destination': 'NY'}, {'id': 'C', 'weight': 70, 'destination': 'LA'}], 45, ['NY']]) -> ['A', 'C'] vs. ['A', 'C']\u001b[0m\n",
      "   \u001b[92mfilter_heavy_packages([[], 30, ['LA']]) -> [] vs. []\u001b[0m\n",
      "   \u001b[92mfilter_heavy_packages([[{'id': 10, 'weight': 5, 'destination': 'SF'}, {'id': 11, 'weight': 9, 'destination': 'LA'}], 10, []]) -> [] vs. []\u001b[0m\n",
      "   \u001b[92mfilter_heavy_packages([[{'id': 'X', 'weight': 100, 'destination': 'NK'}, {'id': 'Y', 'weight': 100, 'destination': 'NK'}], 50, ['NK']]) -> [] vs. []\u001b[0m\n",
      "[Problem sort_products_by_margin] Try 1/3\n"
     ]
    },
    {
     "name": "stderr",
     "output_type": "stream",
     "text": [
      "WARNING:root:[llms] The following keys were not replaced: ['name', '\"apple\", \"banana\", \"cherry\"', '\"abc\", \"def\", \"ghi\"', '\"c\", \"d\", \"c\"']\n"
     ]
    },
    {
     "name": "stdout",
     "output_type": "stream",
     "text": [
      "   \u001b[92msort_products_by_margin([[{'id': 1, 'cost': 50, 'price': 100}, {'id': 2, 'cost': 30, 'price': 60}, {'id': 3, 'cost': 20, 'price': 25}]]) -> [{'id': 1, 'cost': 50, 'price': 100}, {'id': 2, 'cost': 30, 'price': 60}, {'id': 3, 'cost': 20, 'price': 25}] vs. [{'id': 1, 'cost': 50, 'price': 100}, {'id': 2, 'cost': 30, 'price': 60}, {'id': 3, 'cost': 20, 'price': 25}]\u001b[0m\n",
      "   \u001b[92msort_products_by_margin([[{'id': 10, 'cost': 80, 'price': 120}, {'id': 11, 'cost': 40, 'price': 60}, {'id': 12, 'cost': 50, 'price': 100}]]) -> [{'id': 12, 'cost': 50, 'price': 100}, {'id': 10, 'cost': 80, 'price': 120}, {'id': 11, 'cost': 40, 'price': 60}] vs. [{'id': 12, 'cost': 50, 'price': 100}, {'id': 10, 'cost': 80, 'price': 120}, {'id': 11, 'cost': 40, 'price': 60}]\u001b[0m\n",
      "   \u001b[92msort_products_by_margin([[{'id': 4, 'cost': 20, 'price': 30}, {'id': 5, 'cost': 40, 'price': 60}, {'id': 6, 'cost': 50, 'price': 60}]]) -> [{'id': 4, 'cost': 20, 'price': 30}, {'id': 5, 'cost': 40, 'price': 60}, {'id': 6, 'cost': 50, 'price': 60}] vs. [{'id': 4, 'cost': 20, 'price': 30}, {'id': 5, 'cost': 40, 'price': 60}, {'id': 6, 'cost': 50, 'price': 60}]\u001b[0m\n",
      "   \u001b[92msort_products_by_margin([[{'id': 99, 'cost': 10, 'price': 15}]]) -> [{'id': 99, 'cost': 10, 'price': 15}] vs. [{'id': 99, 'cost': 10, 'price': 15}]\u001b[0m\n",
      "   \u001b[92msort_products_by_margin([[]]) -> [] vs. []\u001b[0m\n",
      "[Problem truncate_product_titles] Try 1/3\n"
     ]
    },
    {
     "name": "stderr",
     "output_type": "stream",
     "text": [
      "WARNING:root:[llms] The following keys were not replaced: ['name', '\"apple\", \"banana\", \"cherry\"', '\"abc\", \"def\", \"ghi\"', '\"c\", \"d\", \"c\"']\n"
     ]
    },
    {
     "name": "stdout",
     "output_type": "stream",
     "text": [
      "Cannot parse\n",
      "|{\"solution\": \"def truncate_product_titles(titles):\\n    \\\"\\\"\\\"Shorten titles longer than 60 characters without cutting words.\\n    If a title is truncated, append '...' to the result. Words are kept whole;\\n    if there is no space within the first 60 characters the title is returned\\n    unchanged.\\n    Args:\\n        titles (list[str]): List of product title strings.\\n    Returns:\\n        list[str]: List with titles truncated where necessary.\\n    \\\"\\\"\\\"\\n    result = []\\n    for title in titles:\\n        if len(title) <= 60:\\n            # No need to truncate\\n            result.append(title)\\n            continue\\n        # Find the last space within the first 60 characters (0..59)\\n        cut_position = title.rfind(' ', 0, 61)  # 61 because the stop index is exclusive\\n        if cut_position == -1:\\n            # No space found -> cannot truncate without breaking a word\\n            result.append(title)\\n        else:\\n            truncated = title[:cut_position] + '...'\\n            result.append(truncated)\\n    return result\", \"tests\": [{\"type\": \"basic\", \"inputs\": [[\"Short title\"]], \"output\": [\"Short title\"]}, {\"type\": \"basic\", \"inputs\": [[\"High-Quality Leather Wallet for Men with RFID Blocking Technology\"]], \"output\": [\"High-Quality Leather Wallet for Men with RFID Blocking...\"]}, {\"type\": \"edge_case\", \"inputs\": [[\"Aaaaaaaaaaaaaaaaaaaaaaaaaaaaaaaaaaaaaaaaaaaaaaaaaaaaaaaaaaaaaaa\"]], \"output\": [\"Aaaaaaaaaaaaaaaaaaaaaaaaaaaaaaaaaaaaaaaaaaaaaaaaaaaaaaaaaaaaaaa\"]}, {\"type\": \"edge_case\", \"inputs\": [[\"bbbbbbbbbbbbbbbbbbbbbbbbbbbbbbbbbbbbbbbbbbbbbbbbbbbbbbbbbbbb\"]], \"output\": [\"bbbbbbbbbbbbbbbbbbbbbbbbbbbbbbbbbbbbbbbbbbbbbbbbbbbbbbbbbbbb\"]}, {\"type\": \"basic\", \"inputs\": [[\"Compact smartphone case\", \"High-Quality Leather Wallet for Men with RFID Blocking Technology\", \"C\"*70]], \"output\": [\"Compact smartphone case\", \"High-Quality Leather Wallet for Men with RFID Blocking...\", \"C\"*70]}]}|\n",
      "[Problem truncate_product_titles] Try 2/3\n"
     ]
    },
    {
     "name": "stderr",
     "output_type": "stream",
     "text": [
      "WARNING:root:[llms] The following keys were not replaced: ['name', '\"apple\", \"banana\", \"cherry\"', '\"abc\", \"def\", \"ghi\"', '\"c\", \"d\", \"c\"']\n"
     ]
    },
    {
     "name": "stdout",
     "output_type": "stream",
     "text": [
      "Cannot parse\n",
      "|{\"solution\": \"def truncate_product_titles(titles):\\n    \\\"\\\"\\\"Shorten titles longer than 60 characters without cutting words; append '...' if truncated.\\\"\\\"\\\"\\n    result = []\\n    for title in titles:\\n        # No truncation needed\\n        if len(title) <= 60:\\n            result.append(title)\\n            continue\\n\\n        # Preliminary cut at 60 characters\\n        cutoff = title[:60]\\n        last_space = cutoff.rfind(' ')\\n\\n        if last_space == -1:\\n            # No space within the first 60 chars – cut hard\\n            truncated = cutoff\\n        else:\\n            # Cut at the last full word that fits\\n            truncated = cutoff[:last_space]\\n\\n        result.append(truncated.rstrip() + '...')\\n\\n    return result\", \"tests\": [{\"type\": \"basic\", \"inputs\": [[\"This is a simple product\", \"This is a really long product title that definitely exceeds sixty characters in total length\"]], \"output\": [\"This is a simple product\", \"This is a really long product title that definitely exceeds...\"]}, {\"type\": \"edge_case\", \"inputs\": [[\"a\"*60]], \"output\": [\"a\"*60]}, {\"type\": \"edge_case\", \"inputs\": [[\"a\"*70]], \"output\": [\"a\"*60 + \"...\"]}, {\"type\": \"basic\", \"inputs\": [[\"Short\", \"Another very long product title that needs to be truncated properly because it is very long\"]], \"output\": [\"Short\", \"Another very long product title that needs to be truncated...\"]}, {\"type\": \"edge_case\", \"inputs\": [[]], \"output\": []}]}|\n",
      "[Problem truncate_product_titles] Try 3/3\n"
     ]
    },
    {
     "name": "stderr",
     "output_type": "stream",
     "text": [
      "WARNING:root:[llms] The following keys were not replaced: ['name', '\"apple\", \"banana\", \"cherry\"', '\"abc\", \"def\", \"ghi\"', '\"c\", \"d\", \"c\"']\n"
     ]
    },
    {
     "name": "stdout",
     "output_type": "stream",
     "text": [
      "Cannot parse\n",
      "|{\"solution\": \"def truncate_product_titles(titles):\\n    \\\"\\\"\\\"Truncate each product title in the provided list so that if the title's\\n    length exceeds 60 characters it is shortened without breaking words.\\n    The truncation takes the longest prefix not exceeding 60 characters that\\n    ends at a space; if no such space exists in the first 60 characters, the\\n    cut occurs exactly at the 60th character. An ellipsis ('...') is appended\\n    to every title that was shortened. The original list is not modified; a\\n    new list with processed titles is returned.\\n\\n    Args:\\n        titles (list[str]): List of product title strings.\\n\\n    Returns:\\n        list[str]: List with titles processed according to the rules above.\\n    \\\"\\\"\\\"\\n    processed = []\\n    for title in titles:\\n        if len(title) <= 60:\\n            processed.append(title)\\n            continue\\n\\n        # Find the last space within the first 60 characters\\n        cutoff_section = title[:60]\\n        last_space = cutoff_section.rfind(\\\" \\\")\\n\\n        if last_space == -1:\\n            # No space found, cut at 60 characters\\n            truncated = cutoff_section\\n        else:\\n            # Cut at the last space to avoid breaking a word\\n            truncated = title[:last_space]\\n\\n        processed.append(truncated.rstrip() + \\\"...\\\")  # Ensure no trailing spaces\\n    return processed\", \"tests\": [{\"type\": \"basic\", \"inputs\": [[\"Short title\"]], \"output\": [\"Short title\"]}, {\"type\": \"basic\", \"inputs\": [[\"This is a very long product title that definitely exceeds sixty characters in length for testing\"]], \"output\": [\"This is a very long product title that definitely exceeds sixty...\"]}, {\"type\": \"edge_case\", \"inputs\": [[\"A\" * 75]], \"output\": [\"AAAAAAAAAAAAAAAAAAAAAAAAAAAAAAAAAAAAAAAAAAAAAAAAAAAAAAAAAAAA...\"]}, {\"type\": \"edge_case\", \"inputs\": [[\"x\" * 60]], \"output\": [\"x\" * 60]}, {\"type\": \"basic\", \"inputs\": [[\"Short title\", \"Another title that is way too long and will need truncating indeed\"]], \"output\": [\"Short title\", \"Another title that is way too long and will need truncating...\"]}]}|\n",
      "[Problem calculate_cart_total] Try 1/3\n"
     ]
    },
    {
     "name": "stderr",
     "output_type": "stream",
     "text": [
      "WARNING:root:[llms] The following keys were not replaced: ['name', '\"apple\", \"banana\", \"cherry\"', '\"abc\", \"def\", \"ghi\"', '\"c\", \"d\", \"c\"']\n"
     ]
    },
    {
     "name": "stdout",
     "output_type": "stream",
     "text": [
      "Cannot parse\n",
      "|{\"solution\": \"def calculate_cart_total(cart, discount):\\n    \\\"\\\"\\\"\\n    Calculate the total cost for a shopping cart.\\n\\n    Parameters\\n    ----------\\n    cart : iterable of (price, quantity)\\n        A sequence where each element is a tuple of (unit_price, quantity).\\n    discount : float or int\\n        Percentage discount to apply to the subtotal. A value of 10 means 10% off.\\n\\n    Returns\\n    -------\\n    float\\n        The final total, rounded to two decimal places.\\n    \\\"\\\"\\\"\\n    # Subtotal: sum of (price * quantity) for every item in the cart\\n    subtotal = sum(price * quantity for price, quantity in cart)\\n\\n    # Apply percentage discount\\n    total_after_discount = subtotal * (1 - discount / 100.0)\\n\\n    # Round to two decimal places\\n    return round(total_after_discount, 2)\\n\", \"tests\": [{\"type\": \"basic\", \"inputs\": [[(10, 2), (5, 1)], 10], \"output\": 22.5}, {\"type\": \"edge_case\", \"inputs\": [[], 0], \"output\": 0.0}, {\"type\": \"edge_case\", \"inputs\": [[(20, 1), (30, 2)], 100], \"output\": 0.0}, {\"type\": \"basic\", \"inputs\": [[(19.99, 3), (4.5, 2)], 15], \"output\": 58.62}, {\"type\": \"edge_case\", \"inputs\": [[(0.3333, 3)], 50], \"output\": 0.5}]}|\n",
      "[Problem calculate_cart_total] Try 2/3\n"
     ]
    },
    {
     "name": "stderr",
     "output_type": "stream",
     "text": [
      "WARNING:root:[llms] The following keys were not replaced: ['name', '\"apple\", \"banana\", \"cherry\"', '\"abc\", \"def\", \"ghi\"', '\"c\", \"d\", \"c\"']\n"
     ]
    },
    {
     "name": "stdout",
     "output_type": "stream",
     "text": [
      "   \u001b[92mcalculate_cart_total([[10, 20, 30], [1, 2, 3], 10]) -> 126.0 vs. 126.0\u001b[0m\n",
      "   \u001b[92mcalculate_cart_total([[5.5, 3.25], [2, 4], 0]) -> 24.0 vs. 24.0\u001b[0m\n",
      "   \u001b[92mcalculate_cart_total([[100], [1], 100]) -> 0.0 vs. 0.0\u001b[0m\n",
      "   \u001b[92mcalculate_cart_total([[], [], 5]) -> 0.0 vs. 0.0\u001b[0m\n",
      "   \u001b[92mcalculate_cart_total([[10, 20], [1], 50]) -> 5.0 vs. 5.0\u001b[0m\n",
      "[Problem gift_box_diagonal] Try 1/3\n"
     ]
    },
    {
     "name": "stderr",
     "output_type": "stream",
     "text": [
      "WARNING:root:[llms] The following keys were not replaced: ['name', '\"apple\", \"banana\", \"cherry\"', '\"abc\", \"def\", \"ghi\"', '\"c\", \"d\", \"c\"']\n"
     ]
    },
    {
     "name": "stdout",
     "output_type": "stream",
     "text": [
      "   \u001b[92mgift_box_diagonal([1, 2, 2]) -> 3.0 vs. 3.0\u001b[0m\n",
      "   \u001b[92mgift_box_diagonal([3, 4, 12]) -> 13.0 vs. 13.0\u001b[0m\n",
      "   \u001b[92mgift_box_diagonal([1.5, 2.5, 3.5]) -> 4.555 vs. 4.555\u001b[0m\n",
      "   \u001b[92mgift_box_diagonal([0, 0, 0]) -> 0.0 vs. 0.0\u001b[0m\n",
      "   \u001b[92mgift_box_diagonal([0.333, 0.444, 0.555]) -> 0.785 vs. 0.785\u001b[0m\n",
      "[Problem batch_orders] Try 1/3\n"
     ]
    },
    {
     "name": "stderr",
     "output_type": "stream",
     "text": [
      "WARNING:root:[llms] The following keys were not replaced: ['name', '\"apple\", \"banana\", \"cherry\"', '\"abc\", \"def\", \"ghi\"', '\"c\", \"d\", \"c\"']\n"
     ]
    },
    {
     "name": "stdout",
     "output_type": "stream",
     "text": [
      "Cannot parse\n",
      "|{\"solution\": \"def batch_orders(orders, k):\\n    \\\"\\\"\\\"\\n    Group order ids into batches of at most *k* where each batch contains\\n    orders from the same country. The relative order of orders (and thereby\\n    of the batches themselves) must remain the same as in the original list.\\n\\n    Parameters\\n    ----------\\n    orders : list[tuple | list]\\n        Each element is a 2-item tuple/list: (order_id, country).\\n    k : int\\n        Maximum size of a batch.\\n\\n    Returns\\n    -------\\n    list[list]\\n        A list of batches where every batch is a list of order_ids.\\n    \\\"\\\"\\\"\\n    if k <= 0:\\n        raise ValueError(\\\"k must be a positive integer\\\")\\n\\n    batches = []          # final list of batches\\n    current_batch = []    # ids for the batch we're building\\n    current_country = None\\n\\n    for order_id, country in orders:\\n        # If we can append to current batch\\n        if current_batch and country == current_country and len(current_batch) < k:\\n            current_batch.append(order_id)\\n        else:\\n            # finalize previous batch if it exists\\n            if current_batch:\\n                batches.append(current_batch)\\n            # start new batch\\n            current_batch = [order_id]\\n            current_country = country\\n    # append the last batch if not empty\\n    if current_batch:\\n        batches.append(current_batch)\\n\\n    return batches\", \"tests\": [{\"type\": \"basic\", \"inputs\": [[(1, \\\"US\\\"), (2, \\\"US\\\"), (3, \\\"US\\\") , (4, \\\"CA\\\")], 2], \"output\": [[1, 2], [3], [4]]}, {\"type\": \"basic\", \"inputs\": [[(10, \\\"UK\\\"), (11, \\\"UK\\\"), (12, \\\"FR\\\"), (13, \\\"FR\\\"), (14, \\\"FR\\\")], 3], \"output\": [[10, 11], [12, 13, 14]]}, {\"type\": \"edge_case\", \"inputs\": [[], 5], \"output\": []}, {\"type\": \"edge_case\", \"inputs\": [[(100, \\\"DE\\\"), (101, \\\"FR\\\"), (102, \\\"DE\\\"), (103, \\\"FR\\\")], 1], \"output\": [[100], [101], [102], [103]]}, {\"type\": \"edge_case\", \"inputs\": [[(1, \\\"US\\\"), (2, \\\"US\\\"), (3, \\\"CA\\\"), (4, \\\"CA\\\"), (5, \\\"CA\\\"), (6, \\\"US\\\")], 10], \"output\": [[1, 2], [3, 4, 5], [6]]}]}|\n",
      "[Problem batch_orders] Try 2/3\n"
     ]
    },
    {
     "name": "stderr",
     "output_type": "stream",
     "text": [
      "WARNING:root:[llms] The following keys were not replaced: ['name', '\"apple\", \"banana\", \"cherry\"', '\"abc\", \"def\", \"ghi\"', '\"c\", \"d\", \"c\"']\n"
     ]
    },
    {
     "name": "stdout",
     "output_type": "stream",
     "text": [
      "Cannot parse\n",
      "|{\"solution\": \"def batch_orders(orders, k):\\n    \\\"\\\"\\\"Group order ids into batches of at most k where all belong to the same country.\\n       The relative order of orders must be preserved across batches.\\n\\n       Parameters:\\n       orders : list of tuples (order_id, country)\\n       k      : positive int, maximum size of each batch\\n\\n       Returns: list of lists, where each inner list contains order_ids.\\n    \\\"\\\"\\\"\\n    if k <= 0:\\n        raise ValueError(\\\"k must be positive\\\")\\n\\n    batches = []            # final result\\n    current_batch = []      # order_ids being collected\\n    current_country = None  # country of current_batch\\n\\n    for order_id, country in orders:\\n        if not current_batch:  # starting a new batch\\n            current_country = country\\n\\n        if country == current_country and len(current_batch) < k:\\n            current_batch.append(order_id)\\n        else:\\n            # finalize existing batch\\n            batches.append(current_batch)\\n            # start new batch with current order\\n            current_batch = [order_id]\\n            current_country = country\\n\\n        # if the current batch reaches size k, push it and reset\\n        if len(current_batch) == k:\\n            batches.append(current_batch)\\n            current_batch = []\\n            current_country = None\\n\\n    if current_batch:\\n        batches.append(current_batch)\\n\\n    return batches\",\n",
      "\"tests\": [{\"type\": \"basic\", \"inputs\": [[(1, \"US\"), (2, \"US\"), (3, \"CA\"), (4, \"CA\"), (5, \"CA\"), (6, \"US\")], 2], \"output\": [[1, 2], [3, 4], [5], [6]]}, {\"type\": \"basic\", \"inputs\": [[(1, \"US\"), (2, \"US\"), (3, \"US\"), (4, \"US\")], 3], \"output\": [[1, 2, 3], [4]]}, {\"type\": \"basic\", \"inputs\": [[(1, \"US\"), (2, \"CA\"), (3, \"MX\")], 3], \"output\": [[1], [2], [3]]}, {\"type\": \"edge_case\", \"inputs\": [[], 2], \"output\": []}, {\"type\": \"edge_case\", \"inputs\": [[(1, \"US\"), (2, \"US\")], 1], \"output\": [[1], [2]]}, {\"type\": \"edge_case\", \"inputs\": [[(1, \\\"US\\\"), (2, \\\"CA\\\"), (3, \\\"CA\\\"), (4, \\\"CA\\\"), (5, \\\"US\\\"), (6, \\\"US\\\"), (7, \\\"US\\\")], 2], \\\"output\\\": [[1], [2, 3], [4], [5, 6], [7]]}] }|\n",
      "[Problem batch_orders] Try 3/3\n"
     ]
    },
    {
     "name": "stderr",
     "output_type": "stream",
     "text": [
      "WARNING:root:[llms] The following keys were not replaced: ['name', '\"apple\", \"banana\", \"cherry\"', '\"abc\", \"def\", \"ghi\"', '\"c\", \"d\", \"c\"']\n"
     ]
    },
    {
     "name": "stdout",
     "output_type": "stream",
     "text": [
      "Cannot parse\n",
      "|{\"solution\": \"def batch_orders(orders, k):\\n    \\\"\\\"\\\"Group order ids into batches of at most k where all belong to the same country.\\n    The original order of orders is preserved across the produced batches.\\n\\n    Parameters\\n    ----------\\n    orders : list[tuple[int,str]]\\n        A list of (order_id, country_code) pairs in their original arrival order.\\n    k : int\\n        Maximum number of orders allowed in a single batch. Must be positive.\\n\\n    Returns\\n    -------\\n    list[list[int]]\\n        A list of batches, each batch being a list of order ids.\\n    \\\"\\\"\\\"\\n    if k <= 0:\\n        raise ValueError(\\\"k must be a positive integer\\\")\\n\\n    batches = []            # final list of batches to return\\n    current_batch = []      # accumulating ids for the current batch\\n    current_country = None  # country of the current batch\\n\\n    for order_id, country in orders:\\n        # Need a new batch if country changes or batch is full\\n        if (current_country is None) or (country != current_country) or (len(current_batch) == k):\\n            if current_batch:                 # flush the existing batch if not empty\\n                batches.append(current_batch)\\n            current_batch = [order_id]        # start new batch with current order\\n            current_country = country\\n        else:\\n            current_batch.append(order_id)    # add to current batch\\n\\n    if current_batch:                         # flush the last batch, if any\\n        batches.append(current_batch)\\n\\n    return batches\",\n",
      "\"tests\": [{\"type\": \"basic\", \"inputs\": [[(1, \"US\"), (2, \"US\"), (3, \"US\")], 5], \"output\": [[1, 2, 3]]}, {\"type\": \"basic\", \"inputs\": [[(1, \"US\"), (2, \"US\"), (3, \"CA\"), (4, \"CA\")], 2], \"output\": [[1, 2], [3, 4]]}, {\"type\": \"basic\", \"inputs\": [[(1, \"US\"), (2, \"CA\")], 1], \"output\": [[1], [2]]}, {\"type\": \"edge_case\", \"inputs\": [[(1, \"US\"), (2, \"CA\"), (3, \"US\"), (4, \"US\")], 2], \"output\": [[1], [2], [3, 4]]}, {\"type\": \"edge_case\", \"inputs\": [[(1, \"US\"), (2, \"US\"), (3, \"US\")], 2], \"output\": [[1, 2], [3]]}, {\"type\": \"edge_case\", \"inputs\": [[], 3], \"output\": []}]}\n",
      "|\n",
      "[Problem possible_anagrams_count] Try 1/3\n"
     ]
    },
    {
     "name": "stderr",
     "output_type": "stream",
     "text": [
      "WARNING:root:[llms] The following keys were not replaced: ['name', '\"apple\", \"banana\", \"cherry\"', '\"abc\", \"def\", \"ghi\"', '\"c\", \"d\", \"c\"']\n"
     ]
    },
    {
     "name": "stdout",
     "output_type": "stream",
     "text": [
      "\u001b[91mError executing code: name 'MOD' is not defined\u001b[0m\n",
      "[Problem possible_anagrams_count] Try 2/3\n"
     ]
    },
    {
     "name": "stderr",
     "output_type": "stream",
     "text": [
      "WARNING:root:[llms] The following keys were not replaced: ['name', '\"apple\", \"banana\", \"cherry\"', '\"abc\", \"def\", \"ghi\"', '\"c\", \"d\", \"c\"']\n"
     ]
    },
    {
     "name": "stdout",
     "output_type": "stream",
     "text": [
      "\u001b[91mError executing code: name 'MOD' is not defined\u001b[0m\n",
      "[Problem possible_anagrams_count] Try 3/3\n"
     ]
    },
    {
     "name": "stderr",
     "output_type": "stream",
     "text": [
      "WARNING:root:[llms] The following keys were not replaced: ['name', '\"apple\", \"banana\", \"cherry\"', '\"abc\", \"def\", \"ghi\"', '\"c\", \"d\", \"c\"']\n"
     ]
    },
    {
     "name": "stdout",
     "output_type": "stream",
     "text": [
      "   \u001b[92mpossible_anagrams_count(['abc']) -> 6 vs. 6\u001b[0m\n",
      "   \u001b[92mpossible_anagrams_count(['aab']) -> 3 vs. 3\u001b[0m\n",
      "   \u001b[92mpossible_anagrams_count(['zzzz']) -> 1 vs. 1\u001b[0m\n",
      "   \u001b[92mpossible_anagrams_count(['abab']) -> 6 vs. 6\u001b[0m\n",
      "   \u001b[92mpossible_anagrams_count(['']) -> 1 vs. 1\u001b[0m\n",
      "[Problem closest_palindrome_date] Try 1/3\n"
     ]
    },
    {
     "name": "stderr",
     "output_type": "stream",
     "text": [
      "WARNING:root:[llms] The following keys were not replaced: ['name', '\"apple\", \"banana\", \"cherry\"', '\"abc\", \"def\", \"ghi\"', '\"c\", \"d\", \"c\"']\n"
     ]
    },
    {
     "name": "stdout",
     "output_type": "stream",
     "text": [
      "   \u001b[92mclosest_palindrome_date(['2021-12-01']) -> 2021-12-02 vs. 2021-12-02\u001b[0m\n",
      "   \u001b[92mclosest_palindrome_date(['2015-05-10']) -> 2020-02-02 vs. 2020-02-02\u001b[0m\n",
      "   \u001b[92mclosest_palindrome_date(['2021-12-02']) -> 2030-03-02 vs. 2030-03-02\u001b[0m\n",
      "   \u001b[92mclosest_palindrome_date(['2099-12-31']) -> 2101-10-12 vs. 2101-10-12\u001b[0m\n",
      "   \u001b[92mclosest_palindrome_date(['1999-12-31']) -> 2001-10-02 vs. 2001-10-02\u001b[0m\n",
      "\u001b[91mError executing code: date value out of range\u001b[0m\n",
      "[Problem closest_palindrome_date] Try 2/3\n"
     ]
    },
    {
     "name": "stderr",
     "output_type": "stream",
     "text": [
      "WARNING:root:[llms] The following keys were not replaced: ['name', '\"apple\", \"banana\", \"cherry\"', '\"abc\", \"def\", \"ghi\"', '\"c\", \"d\", \"c\"']\n"
     ]
    },
    {
     "name": "stdout",
     "output_type": "stream",
     "text": [
      "   \u001b[92mclosest_palindrome_date(['2021-12-01']) -> 2021-12-02 vs. 2021-12-02\u001b[0m\n",
      "   \u001b[92mclosest_palindrome_date(['2021-12-02']) -> 2030-03-02 vs. 2030-03-02\u001b[0m\n",
      "   \u001b[92mclosest_palindrome_date(['1999-12-31']) -> 2001-10-02 vs. 2001-10-02\u001b[0m\n",
      "   \u001b[92mclosest_palindrome_date(['2011-11-11']) -> 2020-02-02 vs. 2020-02-02\u001b[0m\n",
      "   \u001b[92mclosest_palindrome_date(['2001-10-01']) -> 2001-10-02 vs. 2001-10-02\u001b[0m\n",
      "[Problem ipa_symbol_extractor] Try 1/3\n"
     ]
    },
    {
     "name": "stderr",
     "output_type": "stream",
     "text": [
      "WARNING:root:[llms] The following keys were not replaced: ['name', '\"apple\", \"banana\", \"cherry\"', '\"abc\", \"def\", \"ghi\"', '\"c\", \"d\", \"c\"']\n"
     ]
    },
    {
     "name": "stdout",
     "output_type": "stream",
     "text": [
      "   \u001b[92mipa_symbol_extractor(['The word /kæt/ means cat.']) -> ['k', 'æ', 't'] vs. ['k', 'æ', 't']\u001b[0m\n",
      "   \u001b[92mipa_symbol_extractor(['English /ðə/ word for /kat/ is cat.']) -> ['ð', 'ə', 'k', 'a', 't'] vs. ['ð', 'ə', 'k', 'a', 't']\u001b[0m\n",
      "   \u001b[92mipa_symbol_extractor(['I said /bæt/ and /bæd/.']) -> ['b', 'æ', 't', 'd'] vs. ['b', 'æ', 't', 'd']\u001b[0m\n",
      "   \u001b[92mipa_symbol_extractor([\"The phrase /həˈloʊ wɜːld/ is 'hello world'.\"]) -> ['h', 'ə', 'ˈ', 'l', 'o', 'ʊ', 'w', 'ɜ', 'ː', 'd'] vs. ['h', 'ə', 'ˈ', 'l', 'o', 'ʊ', 'w', 'ɜ', 'ː', 'd']\u001b[0m\n",
      "   \u001b[91mipa_symbol_extractor(['/səmˈtaɪmz/ slashes can /əˈpɪə/ more than once.']) -> ['s', 'ə', 'm', 'ˈ', 't', 'a', 'ɪ', 'z', 'p'] vs. ['s', 'ə', 'm', 'ˈ', 't', 'a', 'ɪ', 'z', 'l', 'a', 'ʃ', 'e', 'c', 'n', 'p', 'ɪ', 'r']\u001b[0m\n",
      "[Problem ipa_symbol_extractor] Try 2/3\n"
     ]
    },
    {
     "name": "stderr",
     "output_type": "stream",
     "text": [
      "WARNING:root:[llms] The following keys were not replaced: ['name', '\"apple\", \"banana\", \"cherry\"', '\"abc\", \"def\", \"ghi\"', '\"c\", \"d\", \"c\"']\n"
     ]
    },
    {
     "name": "stdout",
     "output_type": "stream",
     "text": [
      "   \u001b[92mipa_symbol_extractor(['English cat is /kæt/ and bat is /bæt/.']) -> ['k', 'æ', 't', 'b'] vs. ['k', 'æ', 't', 'b']\u001b[0m\n",
      "   \u001b[92mipa_symbol_extractor(['/pɪn/ to /pɪŋ/ vs /pɪn/']) -> ['p', 'ɪ', 'n', 'ŋ'] vs. ['p', 'ɪ', 'n', 'ŋ']\u001b[0m\n",
      "   \u001b[92mipa_symbol_extractor(['Pronounce / t ʃ / or /dʒ /']) -> ['t', 'ʃ', 'd', 'ʒ'] vs. ['t', 'ʃ', 'd', 'ʒ']\u001b[0m\n",
      "   \u001b[92mipa_symbol_extractor(['Start /s p']) -> ['s', 'p'] vs. ['s', 'p']\u001b[0m\n",
      "   \u001b[92mipa_symbol_extractor(['']) -> [] vs. []\u001b[0m\n",
      "[Problem find_word_variant] Try 1/3\n"
     ]
    },
    {
     "name": "stderr",
     "output_type": "stream",
     "text": [
      "WARNING:root:[llms] The following keys were not replaced: ['name', '\"apple\", \"banana\", \"cherry\"', '\"abc\", \"def\", \"ghi\"', '\"c\", \"d\", \"c\"']\n"
     ]
    },
    {
     "name": "stdout",
     "output_type": "stream",
     "text": [
      "   \u001b[92mfind_word_variant([['café', 'jalapeño', 'piñata', 'résumé'], 'resume', {'é': 'e', 'ñ': 'n', 'í': 'i', 'á': 'a', 'ó': 'o'}]) -> 3 vs. 3\u001b[0m\n",
      "   \u001b[92mfind_word_variant([['año', 'árbol', 'niño'], 'arbol', {'ñ': 'n', 'á': 'a'}]) -> 1 vs. 1\u001b[0m\n",
      "   \u001b[92mfind_word_variant([['café', 'jalapeño', 'piñata', 'résumé'], 'cafeine', {'é': 'e', 'ñ': 'n', 'í': 'i', 'á': 'a', 'ó': 'o'}]) -> -1 vs. -1\u001b[0m\n",
      "   \u001b[92mfind_word_variant([[], 'anything', {'é': 'e'}]) -> -1 vs. -1\u001b[0m\n",
      "   \u001b[92mfind_word_variant([['él', 'ella', 'ellos'], 'el', {'é': 'e'}]) -> 0 vs. 0\u001b[0m\n",
      "[Problem phonetic_hash] Try 1/3\n"
     ]
    },
    {
     "name": "stderr",
     "output_type": "stream",
     "text": [
      "WARNING:root:[llms] The following keys were not replaced: ['name', '\"apple\", \"banana\", \"cherry\"', '\"abc\", \"def\", \"ghi\"', '\"c\", \"d\", \"c\"']\n"
     ]
    },
    {
     "name": "stdout",
     "output_type": "stream",
     "text": [
      "   \u001b[92mphonetic_hash(['Robert']) -> R163 vs. R163\u001b[0m\n",
      "   \u001b[92mphonetic_hash(['Rupert']) -> R163 vs. R163\u001b[0m\n",
      "   \u001b[92mphonetic_hash(['Rubin']) -> R150 vs. R150\u001b[0m\n",
      "   \u001b[92mphonetic_hash(['Ashcraft']) -> A261 vs. A261\u001b[0m\n",
      "   \u001b[92mphonetic_hash(['Pfister']) -> P236 vs. P236\u001b[0m\n",
      "   \u001b[92mphonetic_hash(['Tymczak']) -> T522 vs. T522\u001b[0m\n",
      "[Problem common_visible_stars] Try 1/3\n"
     ]
    },
    {
     "name": "stderr",
     "output_type": "stream",
     "text": [
      "WARNING:root:[llms] The following keys were not replaced: ['name', '\"apple\", \"banana\", \"cherry\"', '\"abc\", \"def\", \"ghi\"', '\"c\", \"d\", \"c\"']\n"
     ]
    },
    {
     "name": "stdout",
     "output_type": "stream",
     "text": [
      "   \u001b[92mcommon_visible_stars([[[1, 2, 3], [2, 3, 4], [2, 5]]]) -> [2] vs. [2]\u001b[0m\n",
      "   \u001b[92mcommon_visible_stars([[[10, 20, 30], [30, 20, 10]]]) -> [10, 20, 30] vs. [10, 20, 30]\u001b[0m\n",
      "   \u001b[92mcommon_visible_stars([[]]) -> [] vs. []\u001b[0m\n",
      "   \u001b[92mcommon_visible_stars([[[5, 3, 1]]]) -> [1, 3, 5] vs. [1, 3, 5]\u001b[0m\n",
      "   \u001b[92mcommon_visible_stars([[[1, 2], [3, 4]]]) -> [] vs. []\u001b[0m\n",
      "[Problem encode_constellation_pattern] Try 1/3\n"
     ]
    },
    {
     "name": "stderr",
     "output_type": "stream",
     "text": [
      "WARNING:root:[llms] The following keys were not replaced: ['name', '\"apple\", \"banana\", \"cherry\"', '\"abc\", \"def\", \"ghi\"', '\"c\", \"d\", \"c\"']\n"
     ]
    },
    {
     "name": "stdout",
     "output_type": "stream",
     "text": [
      "Cannot parse\n",
      "|{\"solution\": \"def encode_constellation_pattern(stars):\\n    \\\"\\\"\\\"Encode a list of star indices (0–15) into a 16-bit integer.\\n\\n    Each bit i (0-indexed from the least-significant bit) is set to 1\\n    if star i is present in the input list. Duplicate indices are\\n    ignored. The function assumes all provided indices are within the\\n    valid range 0–15.\\n    \\\"\\\"\\\"\\n    pattern = 0\\n    for idx in stars:\\n        # Set bit idx\\n        pattern |= 1 << idx\\n    return pattern\\n\", \"tests\": [{\"type\": \"basic\", \"inputs\": [[0, 2, 5]], \"output\": 37}, {\"type\": \"basic\", \"inputs\": [[3, 3, 3]], \"output\": 8}, {\"type\": \"edge_case\", \"inputs\": [[]], \"output\": 0}, {\"type\": \"edge_case\", \"inputs\": [[i for i in range(16)]], \"output\": 65535}, {\"type\": \"basic\", \"inputs\": [[15, 0, 7]], \"output\": 32897}] }|\n",
      "[Problem encode_constellation_pattern] Try 2/3\n"
     ]
    },
    {
     "name": "stderr",
     "output_type": "stream",
     "text": [
      "WARNING:root:[llms] The following keys were not replaced: ['name', '\"apple\", \"banana\", \"cherry\"', '\"abc\", \"def\", \"ghi\"', '\"c\", \"d\", \"c\"']\n"
     ]
    },
    {
     "name": "stdout",
     "output_type": "stream",
     "text": [
      "   \u001b[92mencode_constellation_pattern([[0, 1, 2]]) -> 7 vs. 7\u001b[0m\n",
      "   \u001b[92mencode_constellation_pattern([[3, 3, 3]]) -> 8 vs. 8\u001b[0m\n",
      "   \u001b[92mencode_constellation_pattern([[]]) -> 0 vs. 0\u001b[0m\n",
      "   \u001b[92mencode_constellation_pattern([[0, 2, 4, 6, 8, 10, 12, 14]]) -> 21845 vs. 21845\u001b[0m\n",
      "   \u001b[92mencode_constellation_pattern([[15]]) -> 32768 vs. 32768\u001b[0m\n",
      "[Problem meteor_shower_sim] Try 1/3\n"
     ]
    },
    {
     "name": "stderr",
     "output_type": "stream",
     "text": [
      "WARNING:root:[llms] The following keys were not replaced: ['name', '\"apple\", \"banana\", \"cherry\"', '\"abc\", \"def\", \"ghi\"', '\"c\", \"d\", \"c\"']\n"
     ]
    },
    {
     "name": "stdout",
     "output_type": "stream",
     "text": [
      "   \u001b[92mmeteor_shower_sim([[10, 10, 10]]) -> [8, 16, 20] vs. [8, 16, 20]\u001b[0m\n",
      "   \u001b[92mmeteor_shower_sim([[1, 2, 3]]) -> [1, 3, 4] vs. [1, 3, 4]\u001b[0m\n",
      "   \u001b[92mmeteor_shower_sim([[]]) -> [] vs. []\u001b[0m\n",
      "   \u001b[92mmeteor_shower_sim([[0, 0, 0]]) -> [0, 0, 0] vs. [0, 0, 0]\u001b[0m\n",
      "   \u001b[92mmeteor_shower_sim([[5.5, 2.2]]) -> [5, 7] vs. [5, 7]\u001b[0m\n",
      "[Problem binary_star_orbit_steps] Try 1/3\n"
     ]
    },
    {
     "name": "stderr",
     "output_type": "stream",
     "text": [
      "WARNING:root:[llms] The following keys were not replaced: ['name', '\"apple\", \"banana\", \"cherry\"', '\"abc\", \"def\", \"ghi\"', '\"c\", \"d\", \"c\"']\n"
     ]
    },
    {
     "name": "stdout",
     "output_type": "stream",
     "text": [
      "   \u001b[92mbinary_star_orbit_steps([1, 1, 5]) -> [1, 1, 2, 3, 5, 8] vs. [1, 1, 2, 3, 5, 8]\u001b[0m\n",
      "   \u001b[92mbinary_star_orbit_steps([2, 3, 4]) -> [2, 3, 5, 8, 13] vs. [2, 3, 5, 8, 13]\u001b[0m\n",
      "   \u001b[92mbinary_star_orbit_steps([7, 10, 0]) -> [7] vs. [7]\u001b[0m\n",
      "   \u001b[92mbinary_star_orbit_steps([0, 0, 3]) -> [0, 0, 0, 0] vs. [0, 0, 0, 0]\u001b[0m\n",
      "   \u001b[92mbinary_star_orbit_steps([5, 8, 1]) -> [5, 8] vs. [5, 8]\u001b[0m\n",
      "[Problem count_eclipses_in_range] Try 1/3\n"
     ]
    },
    {
     "name": "stderr",
     "output_type": "stream",
     "text": [
      "WARNING:root:[llms] The following keys were not replaced: ['name', '\"apple\", \"banana\", \"cherry\"', '\"abc\", \"def\", \"ghi\"', '\"c\", \"d\", \"c\"']\n"
     ]
    },
    {
     "name": "stdout",
     "output_type": "stream",
     "text": [
      "   \u001b[92mcount_eclipses_in_range([['2020-06-21', '2020-12-14', '2021-06-10', '2021-12-04', '2022-04-30'], '2020-01-01', '2020-12-31']) -> 2 vs. 2\u001b[0m\n",
      "   \u001b[92mcount_eclipses_in_range([['2020-06-21', '2020-12-14', '2021-06-10', '2021-12-04', '2022-04-30'], '2019-01-01', '2019-12-31']) -> 0 vs. 0\u001b[0m\n",
      "   \u001b[92mcount_eclipses_in_range([['2020-06-21', '2020-12-14', '2021-06-10', '2021-12-04', '2022-04-30'], '2020-06-21', '2022-04-30']) -> 5 vs. 5\u001b[0m\n",
      "   \u001b[92mcount_eclipses_in_range([[], '2020-01-01', '2022-12-31']) -> 0 vs. 0\u001b[0m\n",
      "   \u001b[92mcount_eclipses_in_range([['2020-06-21', '2021-06-10'], '2021-07-01', '2021-01-01']) -> 0 vs. 0\u001b[0m\n",
      "[Problem team_selection_budget] Try 1/3\n"
     ]
    },
    {
     "name": "stderr",
     "output_type": "stream",
     "text": [
      "WARNING:root:[llms] The following keys were not replaced: ['name', '\"apple\", \"banana\", \"cherry\"', '\"abc\", \"def\", \"ghi\"', '\"c\", \"d\", \"c\"']\n"
     ]
    },
    {
     "name": "stdout",
     "output_type": "stream",
     "text": [
      "   \u001b[92mteam_selection_budget([50, [10, 20, 30], [5, 10, 15]]) -> 2 vs. 2\u001b[0m\n",
      "   \u001b[92mteam_selection_budget([100, [30, 20, 50, 10], [3, 2, 5, 1]]) -> 3 vs. 3\u001b[0m\n",
      "   \u001b[92mteam_selection_budget([5, [10, 20], [1, 2]]) -> 0 vs. 0\u001b[0m\n",
      "   \u001b[92mteam_selection_budget([0, [5, 5], [1, 1]]) -> 0 vs. 0\u001b[0m\n",
      "   \u001b[91mteam_selection_budget([100, [30, 40, 25], [10, 40, 10]]) -> 3 vs. 2\u001b[0m\n",
      "[Problem team_selection_budget] Try 2/3\n"
     ]
    },
    {
     "name": "stderr",
     "output_type": "stream",
     "text": [
      "WARNING:root:[llms] The following keys were not replaced: ['name', '\"apple\", \"banana\", \"cherry\"', '\"abc\", \"def\", \"ghi\"', '\"c\", \"d\", \"c\"']\n"
     ]
    },
    {
     "name": "stdout",
     "output_type": "stream",
     "text": [
      "Cannot parse\n",
      "|{\"solution\": \"def team_selection_budget(budget, players):\\n    \\\"\\\"\\\"Return the maximum number of players that can be bought without\\n    exceeding the given budget using a greedy strategy based on the\\n    cost/skill ratio (lower ratio first).  If several players share the\\n    same ratio, they are ordered by lower cost first, then by higher\\n    skill (to spend budget more efficiently while keeping the same\\n    ratio).\\n\\n    Parameters\\n    ----------\\n    budget : int\\n        Available amount of money that can be spent.\\n    players : list[tuple[int, int]]\\n        Each tuple contains (cost, skill) for a player.\\n\\n    Returns\\n    -------\\n    int\\n        The number of players selected.\\n    \\\"\\\"\\\"\\n    # Guard against empty player list or non-positive budget early.\\n    if budget <= 0 or not players:\\n        return 0\\n\\n    # Prepare list with their ratios; avoid division by zero (skill == 0)\\n    processed = []  # (ratio, cost, -skill, cost)  the last field keeps original cost\\n    for cost, skill in players:\\n        ratio = cost / skill if skill != 0 else float('inf')\\n        processed.append((ratio, cost, -skill, cost))\\n\\n    # Sort by ratio, then by lower cost, then by higher skill (because of -skill)\\n    processed.sort()\\n\\n    total_cost = 0\\n    selected = 0\\n    for _, cost, _, _ in processed:\\n        if total_cost + cost <= budget:\\n            total_cost += cost\\n            selected += 1\\n        # Greedy: keep going even if this one cannot be taken — there might be\\n        # cheaper ones later only when ratios equal; but ratios are non-decreasing,\\n        # so once we cannot afford, we also cannot afford any subsequent player\\n        # with same or larger cost, so we can break.  However, because costs are\\n        # not guaranteed to be non-decreasing, we simply continue.\\n        # (Safe but maybe slightly slower on large inputs.)\\n\\n    return selected\\n\", \"tests\": [{\"type\": \"basic\", \"inputs\": [100, [(20, 5), (50, 10), (30, 8)]], \"output\": 3}, {\"type\": \"basic\", \"inputs\": [60, [(40, 10), (30, 5), (20, 5)]], \"output\": 2}, {\"type\": \"edge_case\", \"inputs\": [50, []], \"output\": 0}, {\"type\": \"edge_case\", \"inputs\": [0, [(10, 5), (15, 3)]], \"output\": 0}, {\"type\": \"edge_case\", \"inputs\": [10, [(5, 0), (4, 2)]], \"output\": 2}]}|\n",
      "[Problem team_selection_budget] Try 3/3\n"
     ]
    },
    {
     "name": "stderr",
     "output_type": "stream",
     "text": [
      "WARNING:root:[llms] The following keys were not replaced: ['name', '\"apple\", \"banana\", \"cherry\"', '\"abc\", \"def\", \"ghi\"', '\"c\", \"d\", \"c\"']\n"
     ]
    },
    {
     "name": "stdout",
     "output_type": "stream",
     "text": [
      "Cannot parse\n",
      "|{\"solution\": \"def team_selection_budget(budget, players):\\n    \\\"\\\"\\\"Return the maximum number of players that can be bought without\\n    exceeding the given budget.  Each player is represented by a tuple\\n    (cost, skill). Players are considered for purchase in increasing\\n    order of their cost/skill ratio (greedy heuristic).\\n    \\n    Parameters\\n    ----------\\n    budget : int\\n        The total amount of money that can be spent.\\n    players : list[tuple[int, int]]\\n        A list where each element is a tuple (cost, skill).\\n    \\n    Returns\\n    -------\\n    int\\n        The maximum number of players that can be bought using the\\n        greedy strategy.\\n    \\\"\\\"\\\"\\n    # Guard-clauses for trivial situations\\n    if budget <= 0 or not players:\\n        return 0\\n\\n    # Sort by ratio cost/skill; if ratios tie, prefer cheaper cost first\\n    players_sorted = sorted(players, key=lambda cs: (cs[0] / cs[1], cs[0]))\\n\\n    count = 0\\n    remaining = budget\\n\\n    for cost, _ in players_sorted:\\n        if cost <= remaining:\\n            count += 1\\n            remaining -= cost\\n        # Early exit if no budget left\\n        if remaining == 0:\\n            break\\n\\n    return count\\n\", \"tests\": [{\"type\": \"basic\", \"inputs\": [100, [(50, 10), (40, 10), (30, 5)]], \"output\": 2}, {\"type\": \"basic\", \"inputs\": [50, [(20, 5), (20, 4), (10, 1)]], \"output\": 3}, {\"type\": \"edge_case\", \"inputs\": [0, [(5, 2), (3, 1)]], \"output\": 0}, {\"type\": \"edge_case\", \"inputs\": [30, []], \"output\": 0}, {\"type\": \"edge_case\", \"inputs\": [25, [(10, 2), (15, 3), (5, 1)]], \"output\": 2}]}|\n",
      "[Problem scoreboard_string] Try 1/3\n"
     ]
    },
    {
     "name": "stderr",
     "output_type": "stream",
     "text": [
      "WARNING:root:[llms] The following keys were not replaced: ['name', '\"apple\", \"banana\", \"cherry\"', '\"abc\", \"def\", \"ghi\"', '\"c\", \"d\", \"c\"']\n"
     ]
    },
    {
     "name": "stdout",
     "output_type": "stream",
     "text": [
      "Cannot parse\n",
      "|{\"solution\": \"def scoreboard_string(matches):\\n    \\\"\\\"\\\"Given a list/tuple with two (team, score) tuples, return a string of the\\n    form 'TeamA 3-1 TeamB' where the team with the higher score is listed first.\\n\\n    If the scores are tied, the original order is preserved.\\n    \\\"\\\"\\\"\\n    # Basic validation\\n    if not isinstance(matches, (list, tuple)) or len(matches) != 2:\\n        raise ValueError(\\\"Input must be a list/tuple containing exactly two (team, score) pairs\\\")\\n\\n    # Attach original indices so we can preserve original order on ties\\n    indexed = list(enumerate(matches))  # [(idx, (team, score)), ...]\\n\\n    # Sort primarily by score descending; secondarily by original index (to keep order on ties)\\n    indexed.sort(key=lambda item: (-item[1][1], item[0]))\\n\\n    # Unpack the two sorted pairs\\n    (team1, score1) = indexed[0][1]\\n    (team2, score2) = indexed[1][1]\\n\\n    return f\\\"{team1} {score1}-{score2} {team2}\\\"\", \"tests\": [{\"type\": \"basic\", \"inputs\": [[(\"Manchester\", 2), (\"Liverpool\", 3)]], \"output\": \"Liverpool 3-2 Manchester\"}, {\"type\": \"basic\", \"inputs\": [[(\"A\", 5), (\"B\", 4)]], \"output\": \"A 5-4 B\"}, {\"type\": \"edge_case\", \"inputs\": [[(\"TeamX\", 2), (\"TeamY\", 2)]], \"output\": \"TeamX 2-2 TeamY\"}, {\"type\": \"edge_case\", \"inputs\": [[(\"Red\", 0), (\"Blue\", 0)]], \"output\": \"Red 0-0 Blue\"}, {\"type\": \"edge_case\", \"inputs\": [[(\"Alpha\", 10), (\"Beta\", 3)]], \"output\": \"Alpha 10-3 Beta\"}]}|\n",
      "[Problem scoreboard_string] Try 2/3\n"
     ]
    },
    {
     "name": "stderr",
     "output_type": "stream",
     "text": [
      "WARNING:root:[llms] The following keys were not replaced: ['name', '\"apple\", \"banana\", \"cherry\"', '\"abc\", \"def\", \"ghi\"', '\"c\", \"d\", \"c\"']\n"
     ]
    },
    {
     "name": "stdout",
     "output_type": "stream",
     "text": [
      "Cannot parse\n",
      "|{\"solution\": \"def scoreboard_string(match):\\n    \\\"\\\"\\\"Convert a pair of (team, score) tuples into a scoreboard string.\\n    The team with the higher score is placed first; if scores are tied,\\n    the original order is preserved.\\n\\n    Parameters\\n    ----------\\n    match : list[tuple] | tuple[tuple]\\n        An iterable with exactly two elements, each of which is a tuple\\n        of the form (team_name: str, score: int).\\n\\n    Returns\\n    -------\\n    str\\n        A string formatted as 'TeamA x-y TeamB'.\\n    \\\"\\\"\\\"\\n    if len(match) != 2:\\n        raise ValueError(\\\"Input must contain exactly two (team, score) pairs\\\")\\n\\n    (team1, score1), (team2, score2) = match\\n\\n    # Decide order: higher score first; if tied, keep original order\\n    if score1 > score2:\\n        first_team, first_score, second_team, second_score = team1, score1, team2, score2\\n    elif score2 > score1:\\n        first_team, first_score, second_team, second_score = team2, score2, team1, score1\\n    else:  # tie, preserve given order\\n        first_team, first_score, second_team, second_score = team1, score1, team2, score2\\n\\n    return f\\\"{first_team} {first_score}-{second_score} {second_team}\\\"\\n\", \"tests\": [{\"type\": \"basic\", \"inputs\": [[(\"Lions\", 3), (\"Tigers\", 1)]], \"output\": \"Lions 3-1 Tigers\"}, {\"type\": \"basic\", \"inputs\": [[(\"A\", 1), (\"B\", 2)]], \"output\": \"B 2-1 A\"}, {\"type\": \"edge_case\", \"inputs\": [[(\"Alpha\", 0), (\"Beta\", 0)]], \"output\": \"Alpha 0-0 Beta\"}, {\"type\": \"basic\", \"inputs\": [[(\"Red\", 5), (\"Blue\", 4)]], \"output\": \"Red 5-4 Blue\"}, {\"type\": \"edge_case\", \"inputs\": [[(\\\"Team X\\\", -1), (\\\"Team Y\\\", -3)]], \"output\": \"Team X -1--3 Team Y\"}]}|\n",
      "[Problem scoreboard_string] Try 3/3\n"
     ]
    },
    {
     "name": "stderr",
     "output_type": "stream",
     "text": [
      "WARNING:root:[llms] The following keys were not replaced: ['name', '\"apple\", \"banana\", \"cherry\"', '\"abc\", \"def\", \"ghi\"', '\"c\", \"d\", \"c\"']\n"
     ]
    },
    {
     "name": "stdout",
     "output_type": "stream",
     "text": [
      "Cannot parse\n",
      "|{\"solution\": \"def scoreboard_string(match):\\n    \\\"\\\"\\\"Given a list or tuple with exactly two (team, score) pairs, return a string\\n    formatted like 'WinningTeam 3-1 LosingTeam'. If the second team has a higher\\n    score, it is presented first. If scores are equal, original order is kept.\\n    Examples\\n    --------\\n    >>> scoreboard_string([(\\\"A\\\", 3), (\\\"B\\\", 1)])\\n    'A 3-1 B'\\n    >>> scoreboard_string([(\\\"A\\\", 1), (\\\"B\\\", 4)])\\n    'B 4-1 A'\\n    >>> scoreboard_string([(\\\"A\\\", 2), (\\\"B\\\", 2)])\\n    'A 2-2 B'\\n    \\\"\\\"\\\"\\n    if len(match) != 2:\\n        raise ValueError(\\\"Exactly two teams must be provided\\\")\\n\\n    # Ensure we have mutable sequence (could be tuple);\\n    (team1, score1), (team2, score2) = match\\n\\n    # Swap order if the second team has the higher score\\n    if score2 > score1:\\n        team1, team2 = team2, team1\\n        score1, score2 = score2, score1\\n\\n    return f\\\"{team1} {score1}-{score2} {team2}\\\"\",\n",
      " \"tests\": [\n",
      "    {\"type\": \"basic\", \"inputs\": [[(\"TeamA\", 3), (\"TeamB\", 1)]], \"output\": \"TeamA 3-1 TeamB\"},\n",
      "    {\"type\": \"basic\", \"inputs\": [[(\"Lions\", 0), (\"Tigers\", 2)]], \"output\": \"Tigers 2-0 Lions\"},\n",
      "    {\"type\": \"edge_case\", \"inputs\": [[(\"Alpha\", 2), (\"Beta\", 2)]], \"output\": \"Alpha 2-2 Beta\"},\n",
      "    {\"type\": \"edge_case\", \"inputs\": [[(\"Home\", 10), (\"Away\", 0)]], \"output\": \"Home 10-0 Away\"},\n",
      "    {\"type\": \"edge_case\", \"inputs\": [[(\"X\", 1), (\"Y\", 3)]], \"output\": \"Y 3-1 X\"}\n",
      " ]\n",
      "}|\n",
      "[Problem validate_badminton_score] Try 1/3\n"
     ]
    },
    {
     "name": "stderr",
     "output_type": "stream",
     "text": [
      "WARNING:root:[llms] The following keys were not replaced: ['name', '\"apple\", \"banana\", \"cherry\"', '\"abc\", \"def\", \"ghi\"', '\"c\", \"d\", \"c\"']\n"
     ]
    },
    {
     "name": "stdout",
     "output_type": "stream",
     "text": [
      "   \u001b[92mvalidate_badminton_score([21, 18]) -> True vs. True\u001b[0m\n",
      "   \u001b[92mvalidate_badminton_score([22, 20]) -> True vs. True\u001b[0m\n",
      "   \u001b[92mvalidate_badminton_score([21, 20]) -> False vs. False\u001b[0m\n",
      "   \u001b[92mvalidate_badminton_score([30, 29]) -> True vs. True\u001b[0m\n",
      "   \u001b[92mvalidate_badminton_score([30, 28]) -> False vs. False\u001b[0m\n",
      "   \u001b[92mvalidate_badminton_score([25, 17]) -> False vs. False\u001b[0m\n",
      "[Problem player_moving_average] Try 1/3\n"
     ]
    },
    {
     "name": "stderr",
     "output_type": "stream",
     "text": [
      "WARNING:root:[llms] The following keys were not replaced: ['name', '\"apple\", \"banana\", \"cherry\"', '\"abc\", \"def\", \"ghi\"', '\"c\", \"d\", \"c\"']\n"
     ]
    },
    {
     "name": "stdout",
     "output_type": "stream",
     "text": [
      "Cannot parse\n",
      "|{\"solution\": \"from collections import deque\\n\\ndef player_moving_average(records, k):\\n    \\\"\\\"\\\"Compute the moving average of the last k game points for each player.\\n\\n    Parameters\\n    ----------\\n    records : list[tuple[int, (int | float)]]\\n        Chronologically ordered list of (player_id, points) tuples.\\n    k : int\\n        Window size for the moving average.\\n\\n    Returns\\n    -------\\n    dict[int, float]\\n        Mapping from player_id to the average of their last ``k`` (or fewer) game points.\\n    \\\"\\\"\\\"\\n    if k <= 0:\\n        raise ValueError(\\\"k must be a positive integer\\\")\\n\\n    # For each player keep a deque of the most recent k scores and running sum\\n    windows = {}\\n    sums = {}\\n\\n    for pid, pts in records:\\n        if pid not in windows:\\n            windows[pid] = deque()\\n            sums[pid] = 0.0\\n\\n        q = windows[pid]\\n        sums[pid] += pts\\n        q.append(pts)\\n\\n        # Maintain window size\\n        if len(q) > k:\\n            removed = q.popleft()\\n            sums[pid] -= removed\\n\\n    # Compute averages\\n    return {pid: (sums[pid] / len(q) if q else 0.0) for pid, q in windows.items()}\", \"tests\": [{\"type\": \"basic\", \"inputs\": [[(1, 10), (2, 5), (1, 20), (1, 15), (2, 25)], 2], \"output\": {1: 17.5, 2: 15.0}}, {\"type\": \"basic\", \"inputs\": [[(1, 10), (1, 20)], 3], \"output\": {1: 15.0}}, {\"type\": \"edge_case\", \"inputs\": [[], 3], \"output\": {}}, {\"type\": \"edge_case\", \"inputs\": [[(3, 8), (3, 12), (3, 20)], 1], \"output\": {3: 20.0}}, {\"type\": \"edge_case\", \"inputs\": [[(1, 5), (2, 7), (1, 9), (3, 4), (2, 8), (3, 6)], 2], \"output\": {1: 9.0, 2: 7.5, 3: 5.0}}]}|\n",
      "[Problem player_moving_average] Try 2/3\n"
     ]
    },
    {
     "name": "stderr",
     "output_type": "stream",
     "text": [
      "WARNING:root:[llms] The following keys were not replaced: ['name', '\"apple\", \"banana\", \"cherry\"', '\"abc\", \"def\", \"ghi\"', '\"c\", \"d\", \"c\"']\n"
     ]
    },
    {
     "name": "stdout",
     "output_type": "stream",
     "text": [
      "Cannot parse\n",
      "|{\"solution\": \"from collections import defaultdict, deque\\n\\ndef player_moving_average(records, k):\\n    \\\"\\\"\\\"Compute the average of the last *k* game points for every player.\\n\\n    Parameters\\n    ----------\\n    records : list[tuple[int, int]]\\n        A chronological list of tuples (player_id, points_scored).\\n    k : int\\n        The window size for the moving average (must be > 0).\\n\\n    Returns\\n    -------\\n    dict[int, float]\\n        Mapping from player_id to the average of their last *k* points.  If a\\n        player appears fewer than *k* times, the average of all of their\\n        available points is returned.\\n    \\\"\\\"\\\"\\n    if k <= 0:\\n        raise ValueError(\\\"k must be a positive integer\\\")\\n\\n    # keep a fixed-size queue per player to hold their last k scores\\n    queues = defaultdict(lambda: deque(maxlen=k))\\n\\n    for pid, pts in records:\\n        queues[pid].append(pts)\\n\\n    # compute the average of the stored points for each player\\n    result = {}\\n    for pid, q in queues.items():\\n        if q:  # q might be empty only if no records, but guard anyway\\n            result[pid] = sum(q) / len(q)\\n    return result\\n\", \"tests\": [{\"type\": \"basic\", \"inputs\": [[(1, 10), (2, 20), (1, 30), (1, 40), (2, 50)], 2], \"output\": {1: 35.0, 2: 35.0}}, {\"type\": \"basic\", \"inputs\": [[(5, 10), (5, 20)], 5], \"output\": {5: 15.0}}, {\"type\": \"edge_case\", \"inputs\": [[(1, 5), (1, 7)], 1], \"output\": {1: 7.0}}, {\"type\": \"edge_case\", \"inputs\": [[], 3], \"output\": {}}, {\"type\": \"edge_case\", \"inputs\": [[(1, 1), (2, 2), (1, 3), (3, 9)], 2], \"output\": {1: 2.0, 2: 2.0, 3: 9.0}}]}|\n",
      "[Problem player_moving_average] Try 3/3\n"
     ]
    },
    {
     "name": "stderr",
     "output_type": "stream",
     "text": [
      "WARNING:root:[llms] The following keys were not replaced: ['name', '\"apple\", \"banana\", \"cherry\"', '\"abc\", \"def\", \"ghi\"', '\"c\", \"d\", \"c\"']\n"
     ]
    },
    {
     "name": "stdout",
     "output_type": "stream",
     "text": [
      "Cannot parse\n",
      "|{\"solution\": \"from collections import defaultdict, deque\\n\\ndef player_moving_average(records, k):\\n    \\\"\\\"\\\"Compute the moving average of the last k game points for each player.\\n    Args:\\n        records (list[tuple]): Chronological list of (player_id, points) tuples.\\n        k (int): Window size for moving average (must be >=1).\\n    Returns:\\n        dict: Mapping player_id -> average of the last k recorded points.\\n    \\\"\\\"\\\"\\n    if k <= 0:\\n        raise ValueError(\\\"k must be a positive integer\\\")\\n\\n    # For each player maintain a deque of the last k scores and a running sum\\n    windows = defaultdict(lambda: deque(maxlen=k))\\n    sums = defaultdict(int)\\n\\n    for pid, pts in records:\\n        window = windows[pid]\\n        # If the window is full, subtract the point that will be popped out\\n        if len(window) == k:\\n            sums[pid] -= window[0]\\n        window.append(pts)\\n        sums[pid] += pts\\n\\n    # Build the averages\\n    averages = {}\\n    for pid, window in windows.items():\\n        if window:  # should always be true, but guard against empty\\n            averages[pid] = sums[pid] / len(window)\\n    return averages\\n\", \"tests\": [{\"type\": \"basic\", \"inputs\": [[('A', 10), ('B', 5), ('A', 20), ('A', 30), ('B', 15)], 2], \"output\": {\"A\": 25.0, \"B\": 10.0}}, {\"type\": \"edge_case\", \"inputs\": [[('A', 7), ('A', 5)], 5], \"output\": {\"A\": 6.0}}, {\"type\": \"edge_case\", \"inputs\": [[], 3], \"output\": {}}, {\"type\": \"basic\", \"inputs\": [[('P', 3), ('Q', 4), ('P', 5), ('Q', 6), ('P', 7), ('R', 10)], 1], \"output\": {\"P\": 7.0, \"Q\": 6.0, \"R\": 10.0}}]}|\n",
      "[Problem filter_home_games] Try 1/3\n"
     ]
    },
    {
     "name": "stderr",
     "output_type": "stream",
     "text": [
      "WARNING:root:[llms] The following keys were not replaced: ['name', '\"apple\", \"banana\", \"cherry\"', '\"abc\", \"def\", \"ghi\"', '\"c\", \"d\", \"c\"']\n"
     ]
    },
    {
     "name": "stdout",
     "output_type": "stream",
     "text": [
      "   \u001b[92mfilter_home_games([[{'home': 'TeamA', 'away': 'TeamB'}, {'home': 'TeamC', 'away': 'TeamA'}, {'home': 'TeamA', 'away': 'TeamD'}], 'TeamA']) -> [{'home': 'TeamA', 'away': 'TeamB'}, {'home': 'TeamA', 'away': 'TeamD'}] vs. [{'home': 'TeamA', 'away': 'TeamB'}, {'home': 'TeamA', 'away': 'TeamD'}]\u001b[0m\n",
      "   \u001b[92mfilter_home_games([[{'home': 'TeamA', 'away': 'TeamB'}, {'home': 'TeamC', 'away': 'TeamA'}, {'home': 'TeamA', 'away': 'TeamD'}], 'TeamB']) -> [] vs. []\u001b[0m\n",
      "   \u001b[92mfilter_home_games([[], 'AnyTeam']) -> [] vs. []\u001b[0m\n",
      "   \u001b[92mfilter_home_games([[{'homeTeam': 'Lions', 'awayTeam': 'Tigers'}, {'homeTeam': 'Bears', 'awayTeam': 'Lions'}], 'Lions']) -> [{'homeTeam': 'Lions', 'awayTeam': 'Tigers'}] vs. [{'homeTeam': 'Lions', 'awayTeam': 'Tigers'}]\u001b[0m\n",
      "   \u001b[92mfilter_home_games([[{'home': 'AAA', 'away': 'BBB'}, {'home': 'AAA', 'away': 'CCC'}, {'home': 'DDD', 'away': 'AAA'}, {'home': 'AAA', 'away': 'EEE'}], 'AAA']) -> [{'home': 'AAA', 'away': 'BBB'}, {'home': 'AAA', 'away': 'CCC'}, {'home': 'AAA', 'away': 'EEE'}] vs. [{'home': 'AAA', 'away': 'BBB'}, {'home': 'AAA', 'away': 'CCC'}, {'home': 'AAA', 'away': 'EEE'}]\u001b[0m\n",
      "[Problem sort_tracks_by_bpm] Try 1/3\n"
     ]
    },
    {
     "name": "stderr",
     "output_type": "stream",
     "text": [
      "WARNING:root:[llms] The following keys were not replaced: ['name', '\"apple\", \"banana\", \"cherry\"', '\"abc\", \"def\", \"ghi\"', '\"c\", \"d\", \"c\"']\n"
     ]
    },
    {
     "name": "stdout",
     "output_type": "stream",
     "text": [
      "Cannot parse\n",
      "|{\"solution\": \"def sort_tracks_by_bpm(tracks):\\n    \\\"\\\"\\\"Sort a list of track dictionaries by BPM (ascending). If two tracks have the\\n    same BPM, they are ordered by popularity (descending).\\n\\n    Parameters\\n    ----------\\n    tracks : list[dict]\\n        Each dictionary must contain at least the keys 'bpm' (numeric) and\\n        'popularity' (numeric).\\n\\n    Returns\\n    -------\\n    list[dict]\\n        A new list with tracks sorted as specified.\\n    \\\"\\\"\\\"\\n    if not isinstance(tracks, list):\\n        raise TypeError(\\\"Input must be a list of dictionaries\\\")\\n\\n    # Use tuple (bpm, -popularity) for desired order\\n    return sorted(tracks, key=lambda t: (t.get('bpm'), -t.get('popularity')))\", \"tests\": [{\"type\": \"basic\", \"inputs\": [[{\\\"title\\\": \\\"A\\\", \\\"bpm\\\": 120, \\\"popularity\\\": 50}, {\\\"title\\\": \\\"B\\\", \\\"bpm\\\": 110, \\\"popularity\\\": 70}, {\\\"title\\\": \\\"C\\\", \\\"bpm\\\": 130, \\\"popularity\\\": 60}]], \"output\": [{\\\"title\\\": \\\"B\\\", \\\"bpm\\\": 110, \\\"popularity\\\": 70}, {\\\"title\\\": \\\"A\\\", \\\"bpm\\\": 120, \\\"popularity\\\": 50}, {\\\"title\\\": \\\"C\\\", \\\"bpm\\\": 130, \\\"popularity\\\": 60}]}, {\"type\": \"basic\", \"inputs\": [[{\\\"title\\\": \\\"X\\\", \\\"bpm\\\": 100, \\\"popularity\\\": 40}, {\\\"title\\\": \\\"Y\\\", \\\"bpm\\\": 100, \\\"popularity\\\": 90}, {\\\"title\\\": \\\"Z\\\", \\\"bpm\\\": 105, \\\"popularity\\\": 80}]], \"output\": [{\\\"title\\\": \\\"Y\\\", \\\"bpm\\\": 100, \\\"popularity\\\": 90}, {\\\"title\\\": \\\"X\\\", \\\"bpm\\\": 100, \\\"popularity\\\": 40}, {\\\"title\\\": \\\"Z\\\", \\\"bpm\\\": 105, \\\"popularity\\\": 80}]}, {\"type\": \"edge_case\", \"inputs\": [[]], \"output\": []}, {\"type\": \"edge_case\", \"inputs\": [[{\\\"title\\\": \\\"Slow\\\", \\\"bpm\\\": 60.0, \\\"popularity\\\": 10}, {\\\"title\\\": \\\"Medium\\\", \\\"bpm\\\": 60.5, \\\"popularity\\\": 20}, {\\\"title\\\": \\\"Fast\\\", \\\"bpm\\\": 60.0, \\\"popularity\\\": 15}]], \"output\": [{\\\"title\\\": \\\"Fast\\\", \\\"bpm\\\": 60.0, \\\"popularity\\\": 15}, {\\\"title\\\": \\\"Slow\\\", \\\"bpm\\\": 60.0, \\\"popularity\\\": 10}, {\\\"title\\\": \\\"Medium\\\", \\\"bpm\\\": 60.5, \\\"popularity\\\": 20}]}, {\"type\": \"edge_case\", \"inputs\": [[{\\\"title\\\": \\\"Only\\\", \\\"bpm\\\": 90, \\\"popularity\\\": 1}]], \"output\": [{\\\"title\\\": \\\"Only\\\", \\\"bpm\\\": 90, \\\"popularity\\\": 1}]}]}|\n",
      "[Problem sort_tracks_by_bpm] Try 2/3\n"
     ]
    },
    {
     "name": "stderr",
     "output_type": "stream",
     "text": [
      "WARNING:root:[llms] The following keys were not replaced: ['name', '\"apple\", \"banana\", \"cherry\"', '\"abc\", \"def\", \"ghi\"', '\"c\", \"d\", \"c\"']\n"
     ]
    },
    {
     "name": "stdout",
     "output_type": "stream",
     "text": [
      "   \u001b[92msort_tracks_by_bpm([[{'title': 'Track A', 'bpm': 120, 'popularity': 80}, {'title': 'Track B', 'bpm': 110, 'popularity': 90}, {'title': 'Track C', 'bpm': 120, 'popularity': 85}]]) -> [{'title': 'Track B', 'bpm': 110, 'popularity': 90}, {'title': 'Track C', 'bpm': 120, 'popularity': 85}, {'title': 'Track A', 'bpm': 120, 'popularity': 80}] vs. [{'title': 'Track B', 'bpm': 110, 'popularity': 90}, {'title': 'Track C', 'bpm': 120, 'popularity': 85}, {'title': 'Track A', 'bpm': 120, 'popularity': 80}]\u001b[0m\n",
      "   \u001b[92msort_tracks_by_bpm([[{'title': 'T1', 'bpm': 100, 'popularity': 50}, {'title': 'T2', 'bpm': 100, 'popularity': 60}]]) -> [{'title': 'T2', 'bpm': 100, 'popularity': 60}, {'title': 'T1', 'bpm': 100, 'popularity': 50}] vs. [{'title': 'T2', 'bpm': 100, 'popularity': 60}, {'title': 'T1', 'bpm': 100, 'popularity': 50}]\u001b[0m\n",
      "   \u001b[92msort_tracks_by_bpm([[]]) -> [] vs. []\u001b[0m\n",
      "   \u001b[92msort_tracks_by_bpm([[{'title': 'Solo', 'bpm': 128, 'popularity': 70}]]) -> [{'title': 'Solo', 'bpm': 128, 'popularity': 70}] vs. [{'title': 'Solo', 'bpm': 128, 'popularity': 70}]\u001b[0m\n",
      "   \u001b[92msort_tracks_by_bpm([[{'title': 'LowPop', 'bpm': 90, 'popularity': -5}, {'title': 'HighPop', 'bpm': 90, 'popularity': 0}, {'title': 'Fast', 'bpm': 150, 'popularity': 100}]]) -> [{'title': 'HighPop', 'bpm': 90, 'popularity': 0}, {'title': 'LowPop', 'bpm': 90, 'popularity': -5}, {'title': 'Fast', 'bpm': 150, 'popularity': 100}] vs. [{'title': 'HighPop', 'bpm': 90, 'popularity': 0}, {'title': 'LowPop', 'bpm': 90, 'popularity': -5}, {'title': 'Fast', 'bpm': 150, 'popularity': 100}]\u001b[0m\n",
      "[Problem clean_lyrics] Try 1/3\n"
     ]
    },
    {
     "name": "stderr",
     "output_type": "stream",
     "text": [
      "WARNING:root:[llms] The following keys were not replaced: ['name', '\"apple\", \"banana\", \"cherry\"', '\"abc\", \"def\", \"ghi\"', '\"c\", \"d\", \"c\"']\n"
     ]
    },
    {
     "name": "stdout",
     "output_type": "stream",
     "text": [
      "   \u001b[92mclean_lyrics(['[Intro] La la la\\nLa la la\\nLa la la']) -> La la la vs. La la la\u001b[0m\n",
      "   \u001b[92mclean_lyrics(['Hello (whisper)\\nHello\\nWorld']) -> Hello\n",
      "World vs. Hello\n",
      "World\u001b[0m\n",
      "   \u001b[92mclean_lyrics(['Boom\\n\\nBoom\\nBoom']) -> Boom\n",
      "\n",
      "Boom vs. Boom\n",
      "\n",
      "Boom\u001b[0m\n",
      "   \u001b[92mclean_lyrics(['Love [Chorus: x2]\\nLove\\n(Love)\\nLove']) -> Love\n",
      "\n",
      "Love vs. Love\n",
      "\n",
      "Love\u001b[0m\n",
      "   \u001b[92mclean_lyrics(['']) ->  vs. \u001b[0m\n",
      "[Problem transpose_chords] Try 1/3\n"
     ]
    },
    {
     "name": "stderr",
     "output_type": "stream",
     "text": [
      "WARNING:root:[llms] The following keys were not replaced: ['name', '\"apple\", \"banana\", \"cherry\"', '\"abc\", \"def\", \"ghi\"', '\"c\", \"d\", \"c\"']\n"
     ]
    },
    {
     "name": "stdout",
     "output_type": "stream",
     "text": [
      "   \u001b[92mtranspose_chords([['C', 'G', 'Am', 'F'], 2]) -> ['D', 'A', 'Bm', 'G'] vs. ['D', 'A', 'Bm', 'G']\u001b[0m\n",
      "   \u001b[92mtranspose_chords([['F#m', 'B', 'E'], -2]) -> ['Em', 'A', 'D'] vs. ['Em', 'A', 'D']\u001b[0m\n",
      "   \u001b[92mtranspose_chords([['C'], 14]) -> ['D'] vs. ['D']\u001b[0m\n",
      "   \u001b[92mtranspose_chords([['Bb', 'Ebm'], 3]) -> ['C#', 'F#m'] vs. ['C#', 'F#m']\u001b[0m\n",
      "   \u001b[91mtranspose_chords([['G#'], -13]) -> ['G'] vs. ['B']\u001b[0m\n",
      "[Problem transpose_chords] Try 2/3\n"
     ]
    },
    {
     "name": "stderr",
     "output_type": "stream",
     "text": [
      "WARNING:root:[llms] The following keys were not replaced: ['name', '\"apple\", \"banana\", \"cherry\"', '\"abc\", \"def\", \"ghi\"', '\"c\", \"d\", \"c\"']\n"
     ]
    },
    {
     "name": "stdout",
     "output_type": "stream",
     "text": [
      "   \u001b[92mtranspose_chords([['C', 'G', 'Am'], 2]) -> ['D', 'A', 'Bm'] vs. ['D', 'A', 'Bm']\u001b[0m\n",
      "   \u001b[92mtranspose_chords([['F#', 'C#m', 'G#'], -1]) -> ['F', 'Cm', 'G'] vs. ['F', 'Cm', 'G']\u001b[0m\n",
      "   \u001b[92mtranspose_chords([['Bb', 'Eb', 'F'], 3]) -> ['C#', 'F#', 'G#'] vs. ['C#', 'F#', 'G#']\u001b[0m\n",
      "   \u001b[92mtranspose_chords([['C', 'Dm', 'E'], 0]) -> ['C', 'Dm', 'E'] vs. ['C', 'Dm', 'E']\u001b[0m\n",
      "   \u001b[92mtranspose_chords([['D', 'Em', 'Gb'], 14]) -> ['E', 'F#m', 'G#'] vs. ['E', 'F#m', 'G#']\u001b[0m\n",
      "[Problem speaker_array_layout] Try 1/3\n"
     ]
    },
    {
     "name": "stderr",
     "output_type": "stream",
     "text": [
      "WARNING:root:[llms] The following keys were not replaced: ['name', '\"apple\", \"banana\", \"cherry\"', '\"abc\", \"def\", \"ghi\"', '\"c\", \"d\", \"c\"']\n"
     ]
    },
    {
     "name": "stdout",
     "output_type": "stream",
     "text": [
      "Cannot parse\n",
      "|{\"solution\": \"import math\\n\\ndef speaker_array_layout(n, r):\\n    \\\"\\\"\\\"Return a list of (x, y) coordinates for n equally spaced speakers\\n    on a circle of radius r centred at the origin, starting at angle 0\\n    along the positive x-axis and proceeding counter-clockwise.\\n    \\\"\\\"\\\"\\n    # basic validation\\n    if not isinstance(n, int) or n <= 0:\\n        raise ValueError(\\\"n must be a positive integer\\\")\\n    if r < 0:\\n        raise ValueError(\\\"r must be non-negative\\\")\\n\\n    coords = []\\n    step = 2 * math.pi / n\\n    for k in range(n):\\n        angle = k * step\\n        x = round(r * math.cos(angle), 10)\\n        y = round(r * math.sin(angle), 10)\\n        # convert -0.0 to 0.0 for neatness\\n        if x == -0.0:\\n            x = 0.0\\n        if y == -0.0:\\n            y = 0.0\\n        coords.append((x, y))\\n    return coords\\n\", \"tests\": [{\"type\": \"basic\", \"inputs\": [4, 1], \"output\": [(1.0, 0.0), (0.0, 1.0), (-1.0, 0.0), (0.0, -1.0)]}, {\"type\": \"basic\", \"inputs\": [1, 3], \"output\": [(3.0, 0.0)]}, {\"type\": \"basic\", \"inputs\": [8, 2], \"output\": [(2.0, 0.0), (1.4142135623, 1.4142135623), (0.0, 2.0), (-1.4142135623, 1.4142135623), (-2.0, 0.0), (-1.4142135623, -1.4142135623), (0.0, -2.0), (1.4142135623, -1.4142135623)]}, {\"type\": \"edge_case\", \"inputs\": [5, 0], \"output\": [(0.0, 0.0), (0.0, 0.0), (0.0, 0.0), (0.0, 0.0), (0.0, 0.0)]}, {\"type\": \"edge_case\", \"inputs\": [2, 1], \"output\": [(1.0, 0.0), (-1.0, 0.0)]}]}|\n",
      "[Problem speaker_array_layout] Try 2/3\n"
     ]
    },
    {
     "name": "stderr",
     "output_type": "stream",
     "text": [
      "WARNING:root:[llms] The following keys were not replaced: ['name', '\"apple\", \"banana\", \"cherry\"', '\"abc\", \"def\", \"ghi\"', '\"c\", \"d\", \"c\"']\n"
     ]
    },
    {
     "name": "stdout",
     "output_type": "stream",
     "text": [
      "Cannot parse\n",
      "|{\"solution\": \"import math\\n\\ndef speaker_array_layout(n, r):\\n    \\\"\\\"\\\"Return coordinates of n speakers equally spaced on a circle of radius r.\\n    Speakers are placed counter-clockwise starting from (r, 0).\\n    Args:\\n        n (int): number of speakers (>=0)\\n        r (float): circle radius (>=0)\\n    Returns:\\n        list[tuple[float,float]]: list of (x, y) coordinates.\\n    \\\"\\\"\\\"\\n    if n <= 0:\\n        return []\\n    # Pre-compute step in radians\\n    step = 2 * math.pi / n\\n    return [(r * math.cos(step * k), r * math.sin(step * k)) for k in range(n)]\",\n",
      "\"tests\": [{\"type\": \"basic\", \"inputs\": [4, 1], \"output\": [(1.0, 0.0), (6.123233995736766e-17, 1.0), (-1.0, 1.2246467991473532e-16), (-1.8369701987210297e-16, -1.0)]},\n",
      "{\"type\": \"basic\", \"inputs\": [1, 5], \"output\": [(5.0, 0.0)]},\n",
      "{\"type\": \"edge_case\", \"inputs\": [0, 3], \"output\": []},\n",
      "{\"type\": \"basic\", \"inputs\": [3, 2], \"output\": [(2.0, 0.0), (-1.0000000000000002, 1.7320508075688772), (-0.9999999999999996, -1.7320508075688774)]},\n",
      "{\"type\": \"edge_case\", \"inputs\": [5, 0], \"output\": [(0.0, 0.0), (0.0, 0.0), (0.0, 0.0), (0.0, 0.0), (0.0, 0.0)]}\n",
      "]}|\n",
      "[Problem speaker_array_layout] Try 3/3\n"
     ]
    },
    {
     "name": "stderr",
     "output_type": "stream",
     "text": [
      "WARNING:root:[llms] The following keys were not replaced: ['name', '\"apple\", \"banana\", \"cherry\"', '\"abc\", \"def\", \"ghi\"', '\"c\", \"d\", \"c\"']\n"
     ]
    },
    {
     "name": "stdout",
     "output_type": "stream",
     "text": [
      "Cannot parse\n",
      "|{\"solution\": \"import math\\n\\ndef speaker_array_layout(n, r):\\n    \\\"\\\"\\\"Return a list of (x, y) coordinates for `n` speakers equally spaced\\n    around a circle of radius `r` centered at the origin. The first speaker\\n    is placed on the positive x-axis (angle 0), and subsequent speakers are\\n    placed counter-clockwise at equal angular intervals.\\n    The coordinates are rounded to 10 decimal places to avoid tiny floating\\n    point artifacts (e.g., 6.1232339957e-17 instead of 0).\\n    \\\"\\\"\\\"\\n    if n <= 0:\\n        return []\\n\\n    step = 2 * math.pi / n\\n    coords = []\\n    for i in range(n):\\n        theta = step * i\\n        x = round(r * math.cos(theta), 10)\\n        y = round(r * math.sin(theta), 10)\\n        coords.append((x, y))\\n    return coords\\n\", \"tests\": [{\"type\": \"basic\", \"inputs\": [4, 1], \"output\": [(1.0, 0.0), (0.0, 1.0), (-1.0, 0.0), (0.0, -1.0)]}, {\"type\": \"basic\", \"inputs\": [3, 2], \"output\": [(2.0, 0.0), (-1.0, 1.7320508076), (-1.0, -1.7320508076)]}, {\"type\": \"edge_case\", \"inputs\": [1, 5], \"output\": [(5.0, 0.0)]}, {\"type\": \"edge_case\", \"inputs\": [0, 3], \"output\": []}, {\"type\": \"edge_case\", \"inputs\": [6, 0], \"output\": [(0.0, 0.0), (0.0, 0.0), (0.0, 0.0), (0.0, 0.0), (0.0, 0.0), (0.0, 0.0)]}]}|\n",
      "[Problem segment_playlist] Try 1/3\n"
     ]
    },
    {
     "name": "stderr",
     "output_type": "stream",
     "text": [
      "WARNING:root:[llms] The following keys were not replaced: ['name', '\"apple\", \"banana\", \"cherry\"', '\"abc\", \"def\", \"ghi\"', '\"c\", \"d\", \"c\"']\n"
     ]
    },
    {
     "name": "stdout",
     "output_type": "stream",
     "text": [
      "   \u001b[92msegment_playlist([[4, 2, 3, 5], 6]) -> [2, 1, 1] vs. [2, 1, 1]\u001b[0m\n",
      "   \u001b[92msegment_playlist([[1, 2, 3], 3]) -> [2, 1] vs. [2, 1]\u001b[0m\n",
      "   \u001b[92msegment_playlist([[], 10]) -> [] vs. []\u001b[0m\n",
      "   \u001b[92msegment_playlist([[5, 5, 5], 20]) -> [3] vs. [3]\u001b[0m\n",
      "   \u001b[92msegment_playlist([[7], 10]) -> [1] vs. [1]\u001b[0m\n",
      "[Problem weather_outfit_options] Try 1/3\n"
     ]
    },
    {
     "name": "stderr",
     "output_type": "stream",
     "text": [
      "WARNING:root:[llms] The following keys were not replaced: ['name', '\"apple\", \"banana\", \"cherry\"', '\"abc\", \"def\", \"ghi\"', '\"c\", \"d\", \"c\"']\n"
     ]
    },
    {
     "name": "stdout",
     "output_type": "stream",
     "text": [
      "Cannot parse\n",
      "|{\"solution\": \"def weather_outfit_options(tops, bottoms, accessories):\\n    \\\"\\\"\\\"Return the number of possible outfits composed of:\\n    • exactly one top,\\n    • exactly one bottom,\\n    • 0-2 distinct accessories (order does not matter).\\n    \\n    Parameters\\n    ----------\\n    tops : list\\n        List of available tops.\\n    bottoms : list\\n        List of available bottoms.\\n    accessories : list\\n        List of available accessories (items assumed distinct; duplicates are treated as distinct positions).\\n    \\n    Returns\\n    -------\\n    int\\n        Total number of valid outfit combinations.\\n    \\\"\\\"\\\"\\n    n_tops = len(tops)\\n    n_bottoms = len(bottoms)\\n    n_acc = len(accessories)\\n\\n    # If no tops or bottoms, no outfit can be formed\\n    if n_tops == 0 or n_bottoms == 0:\\n        return 0\\n\\n    # combinations of accessories: choose 0, 1 or 2 (without order)\\n    # C(n,0) = 1, C(n,1) = n, C(n,2) = n*(n-1)//2 for n>=2 else 0\\n    comb_0 = 1  # choosing no accessory\\n    comb_1 = n_acc                       # choosing any single accessory\\n    comb_2 = n_acc * (n_acc - 1) // 2    # choosing any unordered pair\\n\\n    total_accessory_choices = comb_0 + comb_1 + comb_2\\n\\n    return n_tops * n_bottoms * total_accessory_choices\\n\", \"tests\": [{\"type\": \"basic\", \"inputs\": [[\\\"t1\\\", \\\"t2\\\"], [\\\"b1\\\"], [\\\"a1\\\", \\\"a2\\\", \\\"a3\\\"]], \"output\": 2 * 1 * (1 + 3 + 3)}, {\"type\": \"basic\", \"inputs\": [[\\\"shirt\\\"], [\\\"jeans\\\", \\\"shorts\\\"], []], \"output\": 1 * 2 * 1}, {\"type\": \"edge_case\", \"inputs\": [[], [\\\"b1\\\"], [\\\"a1\\\"]], \"output\": 0}, {\"type\": \"edge_case\", \"inputs\": [[\\\"t1\\\"], [\\\"b1\\\"], [\\\"a1\\\"]], \"output\": 1 * 1 * (1 + 1 + 0)}, {\"type\": \"edge_case\", \"inputs\": [[\\\"t1\\\"], [\\\"b1\\\"], [\\\"a1\\\", \\\"a2\\\"]], \"output\": 1 * 1 * (1 + 2 + 1)}]}|\n",
      "[Problem weather_outfit_options] Try 2/3\n"
     ]
    },
    {
     "name": "stderr",
     "output_type": "stream",
     "text": [
      "WARNING:root:[llms] The following keys were not replaced: ['name', '\"apple\", \"banana\", \"cherry\"', '\"abc\", \"def\", \"ghi\"', '\"c\", \"d\", \"c\"']\n"
     ]
    },
    {
     "name": "stdout",
     "output_type": "stream",
     "text": [
      "   \u001b[92mweather_outfit_options([['t1', 't2'], ['b1'], ['a1', 'a2']]) -> 8 vs. 8\u001b[0m\n",
      "   \u001b[92mweather_outfit_options([['top'], ['bottom1', 'bottom2', 'bottom3'], []]) -> 3 vs. 3\u001b[0m\n",
      "   \u001b[92mweather_outfit_options([['shirt'], ['jeans'], ['watch']]) -> 2 vs. 2\u001b[0m\n",
      "   \u001b[92mweather_outfit_options([[], ['b1'], ['a1', 'a2', 'a3']]) -> 0 vs. 0\u001b[0m\n",
      "   \u001b[92mweather_outfit_options([['t1'], ['b1'], ['a1', 'a2', 'a3', 'a4']]) -> 11 vs. 11\u001b[0m\n",
      "[Problem sunrise_sequence_breaks] Try 1/3\n"
     ]
    },
    {
     "name": "stderr",
     "output_type": "stream",
     "text": [
      "WARNING:root:[llms] The following keys were not replaced: ['name', '\"apple\", \"banana\", \"cherry\"', '\"abc\", \"def\", \"ghi\"', '\"c\", \"d\", \"c\"']\n"
     ]
    },
    {
     "name": "stdout",
     "output_type": "stream",
     "text": [
      "   \u001b[92msunrise_sequence_breaks([['06:30', '06:29', '06:28']]) -> 2 vs. 2\u001b[0m\n",
      "   \u001b[92msunrise_sequence_breaks([['07:00', '07:05', '07:10']]) -> 0 vs. 0\u001b[0m\n",
      "   \u001b[92msunrise_sequence_breaks([[]]) -> 0 vs. 0\u001b[0m\n",
      "   \u001b[92msunrise_sequence_breaks([['05:50']]) -> 0 vs. 0\u001b[0m\n",
      "   \u001b[92msunrise_sequence_breaks([['06:00', '05:59', '06:01', '05:58']]) -> 2 vs. 2\u001b[0m\n",
      "   \u001b[92msunrise_sequence_breaks([['23:59', '00:00']]) -> 1 vs. 1\u001b[0m\n",
      "[Problem decode_weather_station] Try 1/3\n"
     ]
    },
    {
     "name": "stderr",
     "output_type": "stream",
     "text": [
      "WARNING:root:[llms] The following keys were not replaced: ['name', '\"apple\", \"banana\", \"cherry\"', '\"abc\", \"def\", \"ghi\"', '\"c\", \"d\", \"c\"']\n"
     ]
    },
    {
     "name": "stdout",
     "output_type": "stream",
     "text": [
      "   \u001b[92mdecode_weather_station(['123|52.5 13.4|20']) -> {'id': 123, 'lat': 52.5, 'lon': 13.4, 'tempF': 68.0} vs. {'id': 123, 'lat': 52.5, 'lon': 13.4, 'tempF': 68.0}\u001b[0m\n",
      "   \u001b[92mdecode_weather_station(['7|-34.5 -58.4|25.6']) -> {'id': 7, 'lat': -34.5, 'lon': -58.4, 'tempF': 78.08} vs. {'id': 7, 'lat': -34.5, 'lon': -58.4, 'tempF': 78.08}\u001b[0m\n",
      "   \u001b[92mdecode_weather_station(['42| 0 0 | -40']) -> {'id': 42, 'lat': 0.0, 'lon': 0.0, 'tempF': -40.0} vs. {'id': 42, 'lat': 0.0, 'lon': 0.0, 'tempF': -40.0}\u001b[0m\n",
      "   \u001b[92mdecode_weather_station(['0|90 -180|100']) -> {'id': 0, 'lat': 90.0, 'lon': -180.0, 'tempF': 212.0} vs. {'id': 0, 'lat': 90.0, 'lon': -180.0, 'tempF': 212.0}\u001b[0m\n",
      "   \u001b[92mdecode_weather_station(['999|  12.345   67.89  |  15.5  ']) -> {'id': 999, 'lat': 12.345, 'lon': 67.89, 'tempF': 59.9} vs. {'id': 999, 'lat': 12.345, 'lon': 67.89, 'tempF': 59.9}\u001b[0m\n",
      "[Problem locate_calm_period] Try 1/3\n"
     ]
    },
    {
     "name": "stderr",
     "output_type": "stream",
     "text": [
      "WARNING:root:[llms] The following keys were not replaced: ['name', '\"apple\", \"banana\", \"cherry\"', '\"abc\", \"def\", \"ghi\"', '\"c\", \"d\", \"c\"']\n"
     ]
    },
    {
     "name": "stdout",
     "output_type": "stream",
     "text": [
      "   \u001b[92mlocate_calm_period([[3, 4, 2, 1, 5], 2, 3]) -> 2 vs. 2\u001b[0m\n",
      "   \u001b[92mlocate_calm_period([[1, 1, 1], 3, 2]) -> 0 vs. 0\u001b[0m\n",
      "   \u001b[92mlocate_calm_period([[4, 5, 6], 1, 4]) -> -1 vs. -1\u001b[0m\n",
      "   \u001b[92mlocate_calm_period([[1, 2], 3, 5]) -> -1 vs. -1\u001b[0m\n",
      "   \u001b[92mlocate_calm_period([[0, 1, 5, 1, 0], 2, 2]) -> 0 vs. 0\u001b[0m\n",
      "[Problem weather_cache_key] Try 1/3\n"
     ]
    },
    {
     "name": "stderr",
     "output_type": "stream",
     "text": [
      "WARNING:root:[llms] The following keys were not replaced: ['name', '\"apple\", \"banana\", \"cherry\"', '\"abc\", \"def\", \"ghi\"', '\"c\", \"d\", \"c\"']\n"
     ]
    },
    {
     "name": "stdout",
     "output_type": "stream",
     "text": [
      "   \u001b[92mweather_cache_key([{}]) -> da39a3ee5e6b4b0d vs. da39a3ee5e6b4b0d\u001b[0m\n",
      "   \u001b[92mweather_cache_key([{}]) -> da39a3ee5e6b4b0d vs. da39a3ee5e6b4b0d\u001b[0m\n",
      "   \u001b[92mweather_cache_key([{}]) -> da39a3ee5e6b4b0d vs. da39a3ee5e6b4b0d\u001b[0m\n",
      "   \u001b[92mweather_cache_key([{}]) -> da39a3ee5e6b4b0d vs. da39a3ee5e6b4b0d\u001b[0m\n",
      "[Problem iot_shared_sensors] Try 1/3\n"
     ]
    },
    {
     "name": "stderr",
     "output_type": "stream",
     "text": [
      "WARNING:root:[llms] The following keys were not replaced: ['name', '\"apple\", \"banana\", \"cherry\"', '\"abc\", \"def\", \"ghi\"', '\"c\", \"d\", \"c\"']\n"
     ]
    },
    {
     "name": "stdout",
     "output_type": "stream",
     "text": [
      "   \u001b[92miot_shared_sensors([[[1, 2, 3], [3, 4], [5]]]) -> [3] vs. [3]\u001b[0m\n",
      "   \u001b[92miot_shared_sensors([[[1, 2], [2, 3], [2, 4], [5]]]) -> [2] vs. [2]\u001b[0m\n",
      "   \u001b[92miot_shared_sensors([[[1, 1, 1], [1], [2, 2], [2]]]) -> [1, 2] vs. [1, 2]\u001b[0m\n",
      "   \u001b[92miot_shared_sensors([[[1], [2], [3]]]) -> [] vs. []\u001b[0m\n",
      "   \u001b[92miot_shared_sensors([[[1, 2], [1, 2], [1, 2]]]) -> [1, 2] vs. [1, 2]\u001b[0m\n",
      "[Problem encode_device_status] Try 1/3\n"
     ]
    },
    {
     "name": "stderr",
     "output_type": "stream",
     "text": [
      "WARNING:root:[llms] The following keys were not replaced: ['name', '\"apple\", \"banana\", \"cherry\"', '\"abc\", \"def\", \"ghi\"', '\"c\", \"d\", \"c\"']\n"
     ]
    },
    {
     "name": "stdout",
     "output_type": "stream",
     "text": [
      "Cannot parse\n",
      "|{\"solution\": \"def encode_device_status(online, battery_low, fault):\\n    \\\"\\\"\\\"Pack three boolean-like flags into a 3-bit integer.\\n    Bit 0 -> online        (LSB)\\n    Bit 1 -> battery_low\\n    Bit 2 -> fault\\n    Each input is cast to bool so any truthy / falsy value is accepted.\\n    \\\"\\\"\\\"\\n    return (bool(online) << 0) | (bool(battery_low) << 1) | (bool(fault) << 2)\\n\", \"tests\": [{\"type\": \"basic\", \"inputs\": [True, False, False], \"output\": 1}, {\"type\": \"basic\", \"inputs\": [True, True, False], \"output\": 3}, {\"type\": \"basic\", \"inputs\": [False, True, True], \"output\": 6}, {\"type\": \"edge_case\", \"inputs\": [False, False, False], \"output\": 0}, {\"type\": \"edge_case\", \"inputs\": [True, True, True], \"output\": 7}, {\"type\": \"edge_case\", \"inputs\": [1, 0, 1], \"output\": 5}]}|\n",
      "[Problem encode_device_status] Try 2/3\n"
     ]
    },
    {
     "name": "stderr",
     "output_type": "stream",
     "text": [
      "WARNING:root:[llms] The following keys were not replaced: ['name', '\"apple\", \"banana\", \"cherry\"', '\"abc\", \"def\", \"ghi\"', '\"c\", \"d\", \"c\"']\n"
     ]
    },
    {
     "name": "stdout",
     "output_type": "stream",
     "text": [
      "Cannot parse\n",
      "|{\"solution\": \"def encode_device_status(online, battery_low, fault):\\n    \\\"\\\"\\\"Return an integer whose bits encode the three device status flags.\\n    Bit 0 (LSB): online\\n    Bit 1: battery_low\\n    Bit 2: fault\\n    Accepts booleans or truthy/falsey values; converts them to ints (0 or 1).\\n    \\\"\\\"\\\"\\n    return (int(bool(fault)) << 2) | (int(bool(battery_low)) << 1) | int(bool(online))\",\n",
      " \"tests\": [{\"type\": \"basic\", \"inputs\": [True, False, False], \"output\": 1}, {\"type\": \"basic\", \"inputs\": [False, True, False], \"output\": 2}, {\"type\": \"basic\", \"inputs\": [True, True, True], \"output\": 7}, {\"type\": \"edge_case\", \"inputs\": [False, False, False], \"output\": 0}, {\"type\": \"edge_case\", \"inputs\": [False, False, True], \"output\": 4}, {\"type\": \"edge_case\", \"inputs\": [1, 1, 0], \"output\": 3}]}|\n",
      "[Problem encode_device_status] Try 3/3\n"
     ]
    },
    {
     "name": "stderr",
     "output_type": "stream",
     "text": [
      "WARNING:root:[llms] The following keys were not replaced: ['name', '\"apple\", \"banana\", \"cherry\"', '\"abc\", \"def\", \"ghi\"', '\"c\", \"d\", \"c\"']\n"
     ]
    },
    {
     "name": "stdout",
     "output_type": "stream",
     "text": [
      "Cannot parse\n",
      "|{\"solution\": \"def encode_device_status(online, battery_low, fault):\\n    \\\"\\\"\\\"Return an integer whose bit 0 represents `online`, bit 1 represents\\n    `battery_low`, and bit 2 represents `fault`.\\n    Each argument is interpreted truth-value wise.\\n    \\\"\\\"\\\"\\n    return (bool(fault) << 2) | (bool(battery_low) << 1) | bool(online)\\n\", \"tests\": [{\"type\": \"basic\", \"inputs\": [True, False, False], \"output\": 1}, {\"type\": \"basic\", \"inputs\": [True, True, False], \"output\": 3}, {\"type\": \"basic\", \"inputs\": [False, False, True], \"output\": 4}, {\"type\": \"edge_case\", \"inputs\": [True, True, True], \"output\": 7}, {\"type\": \"edge_case\", \"inputs\": [False, False, False], \"output\": 0}]}|\n",
      "[Problem simulate_temperature_control] Try 1/3\n"
     ]
    },
    {
     "name": "stderr",
     "output_type": "stream",
     "text": [
      "WARNING:root:[llms] The following keys were not replaced: ['name', '\"apple\", \"banana\", \"cherry\"', '\"abc\", \"def\", \"ghi\"', '\"c\", \"d\", \"c\"']\n"
     ]
    },
    {
     "name": "stdout",
     "output_type": "stream",
     "text": [
      "   \u001b[92msimulate_temperature_control([20, [19, 20, 21]]) -> ['ON', 'ON', 'OFF'] vs. ['ON', 'ON', 'OFF']\u001b[0m\n",
      "   \u001b[92msimulate_temperature_control([22.5, [23, 22, 22.3, 23.1]]) -> ['OFF', 'OFF', 'OFF', 'OFF'] vs. ['OFF', 'OFF', 'OFF', 'OFF']\u001b[0m\n",
      "   \u001b[92msimulate_temperature_control([18, []]) -> [] vs. []\u001b[0m\n",
      "   \u001b[92msimulate_temperature_control([18, [17, 17, 18, 19, 18, 17]]) -> ['ON', 'ON', 'ON', 'OFF', 'OFF', 'ON'] vs. ['ON', 'ON', 'ON', 'OFF', 'OFF', 'ON']\u001b[0m\n",
      "   \u001b[91msimulate_temperature_control([15, [14.5, 15, 15.5, 15.6, 14.4]]) -> ['OFF', 'OFF', 'OFF', 'OFF', 'ON'] vs. ['ON', 'ON', 'ON', 'OFF', 'ON']\u001b[0m\n",
      "[Problem simulate_temperature_control] Try 2/3\n"
     ]
    },
    {
     "name": "stderr",
     "output_type": "stream",
     "text": [
      "WARNING:root:[llms] The following keys were not replaced: ['name', '\"apple\", \"banana\", \"cherry\"', '\"abc\", \"def\", \"ghi\"', '\"c\", \"d\", \"c\"']\n"
     ]
    },
    {
     "name": "stdout",
     "output_type": "stream",
     "text": [
      "   \u001b[92msimulate_temperature_control([22.0, [21.0, 21.3, 22.6, 22.4, 21.4]]) -> ['ON', 'ON', 'OFF', 'OFF', 'ON'] vs. ['ON', 'ON', 'OFF', 'OFF', 'ON']\u001b[0m\n",
      "   \u001b[91msimulate_temperature_control([20, [19.4, 19.6, 20.5, 19.7]]) -> ['ON', 'ON', 'ON', 'ON'] vs. ['ON', 'ON', 'OFF', 'OFF']\u001b[0m\n",
      "[Problem simulate_temperature_control] Try 3/3\n"
     ]
    },
    {
     "name": "stderr",
     "output_type": "stream",
     "text": [
      "WARNING:root:[llms] The following keys were not replaced: ['name', '\"apple\", \"banana\", \"cherry\"', '\"abc\", \"def\", \"ghi\"', '\"c\", \"d\", \"c\"']\n"
     ]
    },
    {
     "name": "stdout",
     "output_type": "stream",
     "text": [
      "   \u001b[92msimulate_temperature_control([20, [19, 19.5, 20, 21]]) -> ['ON', 'ON', 'ON', 'OFF'] vs. ['ON', 'ON', 'ON', 'OFF']\u001b[0m\n",
      "   \u001b[92msimulate_temperature_control([22, [23, 22.6, 22, 21.4]]) -> ['OFF', 'OFF', 'OFF', 'ON'] vs. ['OFF', 'OFF', 'OFF', 'ON']\u001b[0m\n",
      "   \u001b[92msimulate_temperature_control([18.5, []]) -> [] vs. []\u001b[0m\n",
      "   \u001b[92msimulate_temperature_control([25, [24, 24.4, 24.49, 24.51, 24.9, 25.6, 25.4, 25]]) -> ['ON', 'ON', 'ON', 'ON', 'ON', 'OFF', 'OFF', 'OFF'] vs. ['ON', 'ON', 'ON', 'ON', 'ON', 'OFF', 'OFF', 'OFF']\u001b[0m\n",
      "[Problem device_tree_paths] Try 1/3\n"
     ]
    },
    {
     "name": "stderr",
     "output_type": "stream",
     "text": [
      "WARNING:root:[llms] The following keys were not replaced: ['name', '\"apple\", \"banana\", \"cherry\"', '\"abc\", \"def\", \"ghi\"', '\"c\", \"d\", \"c\"']\n"
     ]
    },
    {
     "name": "stdout",
     "output_type": "stream",
     "text": [
      "Cannot parse\n",
      "|{\"solution\": \"def device_tree_paths(child_mapping):\\n    \\\"\\\"\\\"Return all root-to-leaf paths in the device tree described by a parent->children dict.\\n\\n    Each path is represented as a list of node IDs.  The collection of paths is\\n    returned as a list of lists.  The order of the returned paths is\\n    deterministic (lexicographically sorted).\\n    \\\"\\\"\\\"\\n    if not child_mapping:\\n        return []\\n\\n    # All nodes that ever appear.\\n    all_nodes = set(child_mapping.keys())\\n    for children in child_mapping.values():\\n        all_nodes.update(children)\\n\\n    # Nodes that appear as children.\\n    non_roots = {child for children in child_mapping.values() for child in children}\\n    # Roots are nodes that never appear as a child.\\n    roots = sorted(all_nodes - non_roots)\\n\\n    paths = []\\n\\n    def dfs(node, cur_path):\\n        children = child_mapping.get(node, [])\\n        if not children:  # Leaf node\\n            paths.append(cur_path + [node])\\n            return\\n        for child in children:\\n            dfs(child, cur_path + [node])\\n\\n    for r in roots:\\n        dfs(r, [])\\n\\n    # Sort paths for deterministic output\\n    paths.sort()\\n    return paths\", \"tests\": [{\"type\": \"basic\", \"inputs\": [{\"1\": [2, 3], 2: [4], 3: []}], \"output\": [[1, 2, 4], [1, 3]]}, {\"type\": \"basic\", \"inputs\": [{\"1\": [2], 3: [4, 5]}], \"output\": [[1, 2], [3, 4], [3, 5]]}, {\"type\": \"edge_case\", \"inputs\": [{\"1\": []}], \"output\": [[1]]}, {\"type\": \"edge_case\", \"inputs\": [{\"1\": [2]}], \"output\": [[1, 2]]}, {\"type\": \"edge_case\", \"inputs\": [{}], \"output\": []}] }|\n",
      "[Problem device_tree_paths] Try 2/3\n"
     ]
    },
    {
     "name": "stderr",
     "output_type": "stream",
     "text": [
      "WARNING:root:[llms] The following keys were not replaced: ['name', '\"apple\", \"banana\", \"cherry\"', '\"abc\", \"def\", \"ghi\"', '\"c\", \"d\", \"c\"']\n"
     ]
    },
    {
     "name": "stdout",
     "output_type": "stream",
     "text": [
      "Cannot parse\n",
      "|{\"solution\": \"def device_tree_paths(child_map):\\n    \\\"\\\"\\\"Return all root-to-leaf paths in the given device tree.\\n\\n    child_map: dict where each key is a node id and its value is a list of child ids.\\n    The function returns a list of lists, each inner list representing a path from a\\n    root node to a leaf node (inclusive). A leaf is a node that either doesn't appear\\n    as a key in child_map or is mapped to an empty list. Roots are nodes that appear\\n    as keys but never as children of any other node.\\n    \\\"\\\"\\\"\\n    # Empty input yields no paths\\n    if not child_map:\\n        return []\\n\\n    # Determine roots (keys that are not listed as children anywhere)\\n    all_children = set()\\n    for children in child_map.values():\\n        all_children.update(children)\\n    roots = [node for node in child_map if node not in all_children]\\n\\n    paths = []\\n\\n    # Depth-first traversal to collect paths\\n    def dfs(node, current_path):\\n        # If node is a leaf (no children recorded or empty child list)\\n        if node not in child_map or not child_map[node]:\\n            paths.append(current_path[:])\\n            return\\n        # Recurse into each child, maintaining path\\n        for child in child_map[node]:\\n            dfs(child, current_path + [child])\\n\\n    for root in roots:\\n        dfs(root, [root])\\n    return paths\",\n",
      "\"tests\": [{\"type\": \"basic\", \"inputs\": [{1: [2, 3], 2: [4], 3: [], 4: []}], \"output\": [[1, 2, 4], [1, 3]]}, {\"type\": \"edge_case\", \"inputs\": [{1: [2], 3: []}], \"output\": [[1, 2], [3]]}, {\"type\": \"edge_case\", \"inputs\": [{1: [2]}], \"output\": [[1, 2]]}, {\"type\": \"edge_case\", \"inputs\": [{}], \"output\": []}, {\"type\": \"edge_case\", \"inputs\": [{1: []}], \"output\": [[1]]}] }|\n",
      "[Problem device_tree_paths] Try 3/3\n"
     ]
    },
    {
     "name": "stderr",
     "output_type": "stream",
     "text": [
      "WARNING:root:[llms] The following keys were not replaced: ['name', '\"apple\", \"banana\", \"cherry\"', '\"abc\", \"def\", \"ghi\"', '\"c\", \"d\", \"c\"']\n"
     ]
    },
    {
     "name": "stdout",
     "output_type": "stream",
     "text": [
      "   \u001b[91mdevice_tree_paths([{'1': [2, 3], '2': [4], '3': [], '4': []}]) -> [['1', 2], ['1', 3], ['2', 4], ['3'], ['4']] vs. [[1, 2, 4], [1, 3]]\u001b[0m\n",
      "[Problem count_firmware_versions] Try 1/3\n"
     ]
    },
    {
     "name": "stderr",
     "output_type": "stream",
     "text": [
      "WARNING:root:[llms] The following keys were not replaced: ['name', '\"apple\", \"banana\", \"cherry\"', '\"abc\", \"def\", \"ghi\"', '\"c\", \"d\", \"c\"']\n"
     ]
    },
    {
     "name": "stdout",
     "output_type": "stream",
     "text": [
      "   \u001b[92mcount_firmware_versions([['1.0', '1.0', '2.0', '3.1', '3.1', '3.1']]) -> {'1.0': 2, '3.1': 3} vs. {'1.0': 2, '3.1': 3}\u001b[0m\n",
      "   \u001b[92mcount_firmware_versions([['A', 'B', 'A', 'C', 'B', 'A']]) -> {'A': 3, 'B': 2} vs. {'A': 3, 'B': 2}\u001b[0m\n",
      "   \u001b[92mcount_firmware_versions([[]]) -> {} vs. {}\u001b[0m\n",
      "   \u001b[92mcount_firmware_versions([['v1']]) -> {} vs. {}\u001b[0m\n",
      "   \u001b[92mcount_firmware_versions([['x', 'y', 'z', 'z']]) -> {'z': 2} vs. {'z': 2}\u001b[0m\n",
      "[Problem min_patches_for_security] Try 1/3\n"
     ]
    },
    {
     "name": "stderr",
     "output_type": "stream",
     "text": [
      "WARNING:root:[llms] The following keys were not replaced: ['name', '\"apple\", \"banana\", \"cherry\"', '\"abc\", \"def\", \"ghi\"', '\"c\", \"d\", \"c\"']\n"
     ]
    },
    {
     "name": "stdout",
     "output_type": "stream",
     "text": [
      "   \u001b[92mmin_patches_for_security([2, [1, 2, 5, 7]]) -> [7, 5] vs. [7, 5]\u001b[0m\n",
      "   \u001b[92mmin_patches_for_security([3, [10, 20, 30]]) -> [30, 20, 10] vs. [30, 20, 10]\u001b[0m\n",
      "   \u001b[92mmin_patches_for_security([5, [4, 8]]) -> [8, 4] vs. [8, 4]\u001b[0m\n",
      "   \u001b[92mmin_patches_for_security([0, [1, 2, 3]]) -> [] vs. []\u001b[0m\n",
      "   \u001b[92mmin_patches_for_security([-1, [1, 5]]) -> [] vs. []\u001b[0m\n",
      "[Problem format_hex_dump] Try 1/3\n"
     ]
    },
    {
     "name": "stderr",
     "output_type": "stream",
     "text": [
      "WARNING:root:[llms] The following keys were not replaced: ['name', '\"apple\", \"banana\", \"cherry\"', '\"abc\", \"def\", \"ghi\"', '\"c\", \"d\", \"c\"']\n"
     ]
    },
    {
     "name": "stdout",
     "output_type": "stream",
     "text": [
      "Cannot parse\n",
      "|{\"solution\": \"def format_hex_dump(data: bytes) -> str:\\n    \\\"\\\"\\\"Return a classic hex-dump representation of *data*.\\n\\n    Each output line contains:\\n      1. The offset of the first byte in hexadecimal, zero-padded.\\n      2. Two spaces.\\n      3. Sixteen two-digit, space separated, upper-case hex values.\\n         For the final line the missing byte positions are filled with\\n         three spaces each so that the ASCII preview lines up.\\n      4. Two spaces.\\n      5. An ASCII preview where non-printable bytes are replaced by '.'.\\n    \\\"\\\"\\\"\\n    if not data:\\n        return \\\"\\\"\\n\\n    # Determine how many hexadecimal digits are required for the largest offset\\n    highest_offset = len(data) - 1\\n    addr_width = max(4, len(f\\\"{highest_offset:X}\\\"))  # at least 4 characters (0000)\\n\\n    lines = []\\n    for offset in range(0, len(data), 16):\\n        chunk = data[offset:offset + 16]\\n\\n        # Address part\\n        address = f\\\"{offset:0{addr_width}X}\\\"\\n\\n        # Hexadecimal part\\n        hex_bytes = ' '.join(f\\\"{b:02X}\\\" for b in chunk)\\n        if len(chunk) < 16:\\n            # Pad so that ASCII preview starts in the same column\\n            hex_bytes += '   ' * (16 - len(chunk))\\n\\n        # ASCII preview part\\n        ascii_preview = ''.join(chr(b) if 32 <= b <= 126 else '.' for b in chunk)\\n\\n        lines.append(f\\\"{address}  {hex_bytes}  {ascii_preview}\\\")\\n\\n    return '\\\\n'.join(lines)\\n\", \"tests\": [{\"type\": \"basic\", \"inputs\": [[bytes(range(16))]], \"output\": \"0000  00 01 02 03 04 05 06 07 08 09 0A 0B 0C 0D 0E 0F  ................\"}, {\"type\": \"basic\", \"inputs\": [[bytes(range(32))]], \"output\": \"0000  00 01 02 03 04 05 06 07 08 09 0A 0B 0C 0D 0E 0F  ................\\\\n0010  10 11 12 13 14 15 16 17 18 19 1A 1B 1C 1D 1E 1F  ................\"}, {\"type\": \"edge_case\", \"inputs\": [[b\\\"\\\"]], \"output\": \\\"\\\"}, {\"type\": \"edge_case\", \"inputs\": [[b\\\"ABCDEFGHIJKLMNOP\\\"]], \"output\": \"0000  41 42 43 44 45 46 47 48 49 4A 4B 4C 4D 4E 4F 50  ABCDEFGHIJKLMNOP\"}]}|\n",
      "[Problem format_hex_dump] Try 2/3\n"
     ]
    },
    {
     "name": "stderr",
     "output_type": "stream",
     "text": [
      "WARNING:root:[llms] The following keys were not replaced: ['name', '\"apple\", \"banana\", \"cherry\"', '\"abc\", \"def\", \"ghi\"', '\"c\", \"d\", \"c\"']\n"
     ]
    },
    {
     "name": "stdout",
     "output_type": "stream",
     "text": [
      "Cannot parse\n",
      "|{\"solution\": \"def format_hex_dump(data):\\n    \\\"\\\"\\\"Return a formatted hex dump for the given bytes-like object.\\n\\n    Each line contains:\\n      - a 4-digit hexadecimal address (offset)\\n      - a colon followed by a space\\n      - up to sixteen two-digit, uppercase hexadecimal byte values separated by spaces\\n      - a space, a vertical bar, another space\\n      - an ASCII preview in which non-printable characters are replaced by '.'\\n    \\\"\\\"\\\"\\n    # Accept bytes, bytearray or any iterable of ints (0-255)\\n    if isinstance(data, (bytes, bytearray)):\\n        b = data\\n    else:\\n        b = bytes(data)\\n\\n    if not b:\\n        return \\\"\\\"\\n\\n    lines = []\\n    for offset in range(0, len(b), 16):\\n        chunk = b[offset:offset + 16]\\n        addr = f\\\"{offset:04X}\\\"\\n        hex_part = ' '.join(f\\\"{byte:02X}\\\" for byte in chunk)\\n        ascii_part = ''.join(chr(byte) if 32 <= byte <= 126 else '.' for byte in chunk)\\n        lines.append(f\\\"{addr}: {hex_part} | {ascii_part}\\\")\\n\\n    return '\\\\n'.join(lines)\\n\", \"tests\": [{\"type\": \"basic\", \"inputs\": [b\\\"ABCD\\\"], \"output\": \"0000: 41 42 43 44 | ABCD\"}, {\"type\": \"basic\", \"inputs\": [b\\\"Hello, World!\\\"], \"output\": \"0000: 48 65 6C 6C 6F 2C 20 57 6F 72 6C 64 21 | Hello, World!\"}, {\"type\": \"basic\", \"inputs\": [b\\\"0123456789abcdef\\\"], \"output\": \"0000: 30 31 32 33 34 35 36 37 38 39 61 62 63 64 65 66 | 0123456789abcdef\"}, {\"type\": \"edge_case\", \"inputs\": [bytes(range(20))], \"output\": \"0000: 00 01 02 03 04 05 06 07 08 09 0A 0B 0C 0D 0E 0F | ................\\\\n0010: 10 11 12 13 | ....\"}, {\"type\": \"edge_case\", \"inputs\": [b\\\"\\\"] , \"output\": \"\"}] }|\n",
      "[Problem format_hex_dump] Try 3/3\n"
     ]
    },
    {
     "name": "stderr",
     "output_type": "stream",
     "text": [
      "WARNING:root:[llms] The following keys were not replaced: ['name', '\"apple\", \"banana\", \"cherry\"', '\"abc\", \"def\", \"ghi\"', '\"c\", \"d\", \"c\"']\n"
     ]
    },
    {
     "name": "stdout",
     "output_type": "stream",
     "text": [
      "Cannot parse\n",
      "|{\"solution\": \"def format_hex_dump(data):\\n    \\\"\\\"\\\"Return a hex dump string for the given bytes/bytearray object.\\n    Each line contains up to 16 bytes, starts with the 4-digit offset in\\n    hexadecimal (uppercase) followed by a colon and a space, then the\\n    hexadecimal byte values (uppercase, separated by spaces), two spaces,\\n    and finally an ASCII preview where non-printable characters are shown\\n    as a dot ('.').\\n    \\\"\\\"\\\"\\n    # Accept both bytes and bytearray. Any other iterable of ints is\\n    # converted to bytes so long as it supports the bytes constructor.\\n    if not data:\\n        return \\\"\\\"\\n\\n    if not isinstance(data, (bytes, bytearray)):\\n        data = bytes(data)\\n\\n    lines = []\\n    for offset in range(0, len(data), 16):\\n        chunk = data[offset:offset + 16]\\n        # Hexadecimal representation for the 16-byte chunk\\n        hex_bytes = ' '.join(f\\\"{b:02X}\\\" for b in chunk)\\n        # ASCII preview: printable bytes (32-126) keep their char, others become '.'\\n        ascii_preview = ''.join(chr(b) if 32 <= b < 127 else '.' for b in chunk)\\n        # Compose the line and append\\n        lines.append(f\\\"{offset:04X}: {hex_bytes} |{ascii_preview}|\\\")\\n\\n    return '\\\\n'.join(lines)\\n\", \"tests\": [{\"type\": \"basic\", \"inputs\": [[0, 1, 2, 3, 4, 5, 6, 7, 8, 9, 10, 11, 12, 13, 14, 15]], \"output\": \"0000: 00 01 02 03 04 05 06 07 08 09 0A 0B 0C 0D 0E 0F |................|\"}, {\"type\": \"edge_case\", \"inputs\": [\"Hello\"], \"output\": \"0000: 48 65 6C 6C 6F |Hello|\"}, {\"type\": \"basic\", \"inputs\": [[*range(20)]], \"output\": \"0000: 00 01 02 03 04 05 06 07 08 09 0A 0B 0C 0D 0E 0F |................|\\\\n0010: 10 11 12 13 |....|\"}, {\"type\": \"edge_case\", \"inputs\": [[]], \"output\": \"\"}, {\"type\": \"basic\", \"inputs\": [[65, 66, 10, 67]], \"output\": \"0000: 41 42 0A 43 |AB.C|\"}]}|\n",
      "[Problem validate_password_rules] Try 1/3\n"
     ]
    },
    {
     "name": "stderr",
     "output_type": "stream",
     "text": [
      "WARNING:root:[llms] The following keys were not replaced: ['name', '\"apple\", \"banana\", \"cherry\"', '\"abc\", \"def\", \"ghi\"', '\"c\", \"d\", \"c\"']\n"
     ]
    },
    {
     "name": "stdout",
     "output_type": "stream",
     "text": [
      "   \u001b[92mvalidate_password_rules(['StrongPass123!', ['password', '123456']]) -> True vs. True\u001b[0m\n",
      "   \u001b[92mvalidate_password_rules(['Short1!', []]) -> False vs. False\u001b[0m\n",
      "   \u001b[92mvalidate_password_rules(['StrongPass123', []]) -> False vs. False\u001b[0m\n",
      "   \u001b[92mvalidate_password_rules(['MyPasswordIsStrong123!', ['password']]) -> False vs. False\u001b[0m\n",
      "   \u001b[92mvalidate_password_rules(['NoDigitPass!', []]) -> False vs. False\u001b[0m\n",
      "   \u001b[92mvalidate_password_rules(['ValidOne#2023', []]) -> True vs. True\u001b[0m\n",
      "[Problem failed_login_rate] Try 1/3\n"
     ]
    },
    {
     "name": "stderr",
     "output_type": "stream",
     "text": [
      "WARNING:root:[llms] The following keys were not replaced: ['name', '\"apple\", \"banana\", \"cherry\"', '\"abc\", \"def\", \"ghi\"', '\"c\", \"d\", \"c\"']\n"
     ]
    },
    {
     "name": "stdout",
     "output_type": "stream",
     "text": [
      "Cannot parse\n",
      "|{\"solution\": \"def failed_login_rate(attempts, reference_time):\\n    \\\"\\\"\\\"Compute the percentage of failed login attempts that occurred within the\\n    last hour (i.e., the 3600-second window ending at `reference_time`).\\n\\n    Parameters\\n    ----------\\n    attempts : list of tuples (timestamp: int/float, success: bool)\\n        Each tuple represents a login attempt where `timestamp` is the epoch\\n        time in seconds and `success` is True when the attempt succeeded and\\n        False otherwise.\\n    reference_time : int/float\\n        The moment (epoch seconds) that marks the end of the one-hour window.\\n\\n    Returns\\n    -------\\n    float\\n        The failure rate as a percentage (0 to 100). If no attempts were made\\n        in the window, 0.0 is returned.\\n    \\\"\\\"\\\"\\n    window_start = reference_time - 3600\\n    # Filter attempts that fall inside the window (exclusive of start, inclusive of end)\\n    recent = [success for ts, success in attempts if window_start < ts <= reference_time]\\n\\n    total = len(recent)\\n    if total == 0:\\n        return 0.0\\n\\n    failures = sum(1 for success in recent if not success)\\n    return (failures / total) * 100.0\\n\", \"tests\": [{\"type\": \"basic\", \"inputs\": [[(1000, True), (1500, False)], 2000], \"output\": 50.0}, {\"type\": \"basic\", \"inputs\": [[(100, True), (200, True), (300, False)], 400], \"output\": 33.33333333333333}, {\"type\": \"edge_case\", \"inputs\": [[(0, False), (10, False)], 3600], \"output\": 0.0}, {\"type\": \"edge_case\", \"inputs\": [[(3200, False), (3300, False), (3400, False)], 3500], \"output\": 100.0}, {\"type\": \"edge_case\", \"inputs\": [[(1000, True), (2000, True), (5000, False)], 4600], \"output\": 0.0}]}|\n",
      "[Problem failed_login_rate] Try 2/3\n"
     ]
    },
    {
     "name": "stderr",
     "output_type": "stream",
     "text": [
      "WARNING:root:[llms] The following keys were not replaced: ['name', '\"apple\", \"banana\", \"cherry\"', '\"abc\", \"def\", \"ghi\"', '\"c\", \"d\", \"c\"']\n"
     ]
    },
    {
     "name": "stdout",
     "output_type": "stream",
     "text": [
      "Cannot parse\n",
      "|{\"solution\": \"def failed_login_rate(attempts, reference_time):\\n    \\\"\\\"\\\"Calculate the percentage of failed login attempts within the\\n    60-minute window that ends at (and includes) *reference_time*.\\n\\n    Parameters\\n    ----------\\n    attempts : list of tuple\\n        Each tuple is (timestamp:int|float, success:bool). ``success`` is\\n        True if the login attempt succeeded, False otherwise.\\n    reference_time : int | float\\n        The point in time (seconds since epoch, or any monotonic scale)\\n        that serves as the right-hand boundary of the 1-hour window.\\n\\n    Returns\\n    -------\\n    float\\n        Failure rate expressed as a percentage (0–100). If there are\\n        no attempts in the window, 0.0 is returned.\\n    \\\"\\\"\\\"\\n\\n    # Define left boundary (exclusive) and right boundary (inclusive)\\n    window_start = reference_time - 3600\\n\\n    total = 0\\n    failures = 0\\n\\n    for ts, success in attempts:\\n        if window_start < ts <= reference_time:\\n            total += 1\\n            if not success:\\n                failures += 1\\n\\n    if total == 0:\\n        return 0.0\\n\\n    return failures * 100.0 / total\", \"tests\": [{\"type\": \"basic\", \"inputs\": [[(1000, True), (1200, False), (1500, False), (1900, True)], 1900], \"output\": 50.0}, {\"type\": \"edge_case\", \"inputs\": [[], 5000], \"output\": 0.0}, {\"type\": \"edge_case\", \"inputs\": [[(100, False), (200, False)], 5000], \"output\": 0.0}, {\"type\": \"basic\", \"inputs\": [[(10000, False), (13000, False), (16000, False)], 16000], \"output\": 100.0}, {\"type\": \"basic\", \"inputs\": [[(9000, True), (12000, True), (14000, False), (17000, True)], 17000], \"output\": 25.0}, {\"type\": \"edge_case\", \"inputs\": [[(2000, False), (3000, True), (5400, False)], 5600], \"output\": 50.0} ]}|\n",
      "[Problem failed_login_rate] Try 3/3\n"
     ]
    },
    {
     "name": "stderr",
     "output_type": "stream",
     "text": [
      "WARNING:root:[llms] The following keys were not replaced: ['name', '\"apple\", \"banana\", \"cherry\"', '\"abc\", \"def\", \"ghi\"', '\"c\", \"d\", \"c\"']\n"
     ]
    },
    {
     "name": "stdout",
     "output_type": "stream",
     "text": [
      "Cannot parse\n",
      "|{\"solution\": \"def failed_login_rate(attempts, reference_time):\\n    \\\"\\\"\\\"Compute the percentage of failed login attempts that occurred during the\\n    last hour (3600 seconds) leading up to and including `reference_time`.\\n\\n    Parameters\\n    ----------\\n    attempts : list[tuple[int, bool]]\\n        Each tuple contains (timestamp, success_flag).\\n        `timestamp` is an integer/float representing seconds (e.g., Unix time).\\n        `success_flag` is True for a successful login, False for a failure.\\n    reference_time : int | float\\n        The point in time (same unit as timestamps) used as the window's upper\\n        bound.\\n\\n    Returns\\n    -------\\n    float\\n        The failure rate as a percentage, rounded to two decimal places.\\n        If there are no attempts in the window, returns 0.0.\\n    \\\"\\\"\\\"\\n    # Define the start of the 1-hour window (3600 seconds)\\n    window_start = reference_time - 3600\\n\\n    # Filter attempts that fall within (window_start, reference_time]\\n    relevant_attempts = [attempt for attempt in attempts if window_start < attempt[0] <= reference_time]\\n\\n    total = len(relevant_attempts)\\n    if total == 0:\\n        return 0.0\\n\\n    failures = sum(1 for _, success in relevant_attempts if not success)\\n    # Compute percentage and round to two decimals for consistency\\n    return round(failures * 100 / total, 2)\\n\", \"tests\": [{\"type\": \"basic\", \"inputs\": [[(4700, false), (4800, true), (4900, false)], 5000], \"output\": 66.67}, {\"type\": \"edge_case\", \"inputs\": [[], 10000], \"output\": 0.0}, {\"type\": \"edge_case\", \"inputs\": [[(100, false), (200, true)], 5000], \"output\": 0.0}, {\"type\": \"edge_case\", \"inputs\": [[(4950, false), (4970, false)], 5000], \"output\": 100.0}, {\"type\": \"edge_case\", \"inputs\": [[(4950, true), (4970, true), (4990, true)], 5000], \"output\": 0.0}]}|\n",
      "[Problem filter_ip_range] Try 1/3\n"
     ]
    },
    {
     "name": "stderr",
     "output_type": "stream",
     "text": [
      "WARNING:root:[llms] The following keys were not replaced: ['name', '\"apple\", \"banana\", \"cherry\"', '\"abc\", \"def\", \"ghi\"', '\"c\", \"d\", \"c\"']\n"
     ]
    },
    {
     "name": "stdout",
     "output_type": "stream",
     "text": [
      "   \u001b[92mfilter_ip_range([['192.168.1.1', '10.0.0.5', '172.16.0.1'], ['192.168.0.0/16']]) -> ['10.0.0.5', '172.16.0.1'] vs. ['10.0.0.5', '172.16.0.1']\u001b[0m\n",
      "   \u001b[92mfilter_ip_range([['8.8.8.8', '1.1.1.1'], []]) -> ['8.8.8.8', '1.1.1.1'] vs. ['8.8.8.8', '1.1.1.1']\u001b[0m\n",
      "   \u001b[92mfilter_ip_range([[], ['10.0.0.0/8']]) -> [] vs. []\u001b[0m\n",
      "   \u001b[92mfilter_ip_range([['10.0.1.1', '192.0.2.1'], ['10.0.0.0/8', '10.0.0.0/16']]) -> ['192.0.2.1'] vs. ['192.0.2.1']\u001b[0m\n",
      "   \u001b[92mfilter_ip_range([['203.0.113.5', '203.0.113.6'], ['203.0.113.5/32']]) -> ['203.0.113.6'] vs. ['203.0.113.6']\u001b[0m\n",
      "[Problem sort_bus_routes] Try 1/3\n"
     ]
    },
    {
     "name": "stderr",
     "output_type": "stream",
     "text": [
      "WARNING:root:[llms] The following keys were not replaced: ['name', '\"apple\", \"banana\", \"cherry\"', '\"abc\", \"def\", \"ghi\"', '\"c\", \"d\", \"c\"']\n"
     ]
    },
    {
     "name": "stdout",
     "output_type": "stream",
     "text": [
      "Cannot parse\n",
      "|{\"solution\": \"def sort_bus_routes(routes):\\n    \\\"\\\"\\\"Sort bus route tuples primarily by ascending distance and secondarily\\n    by the numeric part of the line identifier.\\n\\n    Each route is a tuple in the form (line, start, end, distance).\\n    \\\"\\\"\\\"\\n    def numeric_part(line):\\n        # Extract leading digits; default to 0 if none found\\n        num = 0\\n        i = 0\\n        while i < len(line) and line[i].isdigit():\\n            num = num * 10 + int(line[i])\\n            i += 1\\n        return num\\n\\n    return sorted(routes, key=lambda r: (r[3], numeric_part(r[0])))\",\n",
      "\"tests\": [{\"type\": \"basic\", \"inputs\": [[('12A', 'X', 'Y', 10), ('03', 'A', 'B', 5), ('45', 'C', 'D', 20)]], \"output\": [('03', 'A', 'B', 5), ('12A', 'X', 'Y', 10), ('45', 'C', 'D', 20)]}, {\"type\": \"basic\", \"inputs\": [[('20', 'a', 'b', 15), ('3C', 'c', 'd', 15), ('5', 'e', 'f', 12)]], \"output\": [('5', 'e', 'f', 12), ('3C', 'c', 'd', 15), ('20', 'a', 'b', 15)]}, {\"type\": \"edge_case\", \"inputs\": [[('12B', 'x', 'y', 8), ('12A', 'p', 'q', 8), ('13', 'r', 's', 10)]], \"output\": [('12B', 'x', 'y', 8), ('12A', 'p', 'q', 8), ('13', 'r', 's', 10)]}, {\"type\": \"edge_case\", \"inputs\": [[]], \"output\": []}]}|\n",
      "[Problem sort_bus_routes] Try 2/3\n"
     ]
    },
    {
     "name": "stderr",
     "output_type": "stream",
     "text": [
      "WARNING:root:[llms] The following keys were not replaced: ['name', '\"apple\", \"banana\", \"cherry\"', '\"abc\", \"def\", \"ghi\"', '\"c\", \"d\", \"c\"']\n"
     ]
    },
    {
     "name": "stdout",
     "output_type": "stream",
     "text": [
      "Cannot parse\n",
      "|{\"solution\": \"import re\\ndef sort_bus_routes(routes):\\n    \\\"\\\"\\\"Sort bus route tuples (line, start, end, distance)\\n    primarily by ascending distance, secondarily by the numeric part\\n    of the line string (as an integer), and finally by the full line\\n    string to ensure deterministic ordering.\\n    \\\"\\\"\\\"\\n    def numeric_part(line):\\n        # Extract the first sequence of digits from the line identifier\\n        match = re.search(r\\\"\\\\d+\\\", str(line))\\n        return int(match.group()) if match else 0\\n\\n    return sorted(routes, key=lambda r: (r[3], numeric_part(r[0]), r[0]))\", \"tests\": [{\"type\": \"basic\", \"inputs\": [[(\"B12\", \"Station A\", \"Station B\", 15), (\"X9\", \"Station C\", \"Station D\", 10), (\"A1\", \"Start\", \"End\", 10), (\"Z100\", \"Q\", \"R\", 20)]], \"output\": [(\"A1\", \"Start\", \"End\", 10), (\"X9\", \"Station C\", \"Station D\", 10), (\"B12\", \"Station A\", \"Station B\", 15), (\"Z100\", \"Q\", \"R\", 20)]}, {\"type\": \"basic\", \"inputs\": [[(\"Line 20\", \"S\", \"E\", 5), (\"Route 3\", \"S\", \"E\", 5), (\"Bus 20A\", \"S\", \"E\", 5)]], \"output\": [(\"Route 3\", \"S\", \"E\", 5), (\"Bus 20A\", \"S\", \"E\", 5), (\"Line 20\", \"S\", \"E\", 5)]}, {\"type\": \"edge_case\", \"inputs\": [[(\"Alpha\", \"S\", \"E\", 8), (\"Express\", \"S\", \"E\", 8), (\"Z1\", \"S\", \"E\", 7)]], \"output\": [(\"Z1\", \"S\", \"E\", 7), (\"Alpha\", \"S\", \"E\", 8), (\"Express\", \"S\", \"E\", 8)]}, {\"type\": \"edge_case\", \"inputs\": [[]], \"output\": []}, {\"type\": \"edge_case\", \"inputs\": [[(\"NoDigits\", \"A\", \"B\", 12)]], \"output\": [(\"NoDigits\", \"A\", \"B\", 12)]}]}|\n",
      "[Problem sort_bus_routes] Try 3/3\n"
     ]
    },
    {
     "name": "stderr",
     "output_type": "stream",
     "text": [
      "WARNING:root:[llms] The following keys were not replaced: ['name', '\"apple\", \"banana\", \"cherry\"', '\"abc\", \"def\", \"ghi\"', '\"c\", \"d\", \"c\"']\n"
     ]
    },
    {
     "name": "stdout",
     "output_type": "stream",
     "text": [
      "Cannot parse\n",
      "|{\"solution\": \"import re\\n\\ndef sort_bus_routes(routes):\\n    \\\"\\\"\\\"Sort a list of bus route tuples by ascending distance and then by the\\n    numeric part of the line identifier.\\n\\n    Each route is a tuple (line, start, end, distance).\\n    \\\"\\\"\\\"\\n\\n    def numeric_part(line):\\n        # Find all consecutive digits, join them and convert to int.\\n        nums = re.findall(r\\\"\\\\d+\\\", str(line))\\n        return int(nums[0]) if nums else 0\\n\\n    return sorted(routes, key=lambda r: (r[3], numeric_part(r[0])))\",\n",
      "\"tests\": [\n",
      "    {\"type\": \"basic\", \"inputs\": [[(\"Line10\",\"A\",\"B\",15), (\"Line2\",\"C\",\"D\",10), (\"Line5\",\"E\",\"F\",10)]], \"output\": [(\"Line2\",\"C\",\"D\",10), (\"Line5\",\"E\",\"F\",10), (\"Line10\",\"A\",\"B\",15)]},\n",
      "    {\"type\": \"basic\", \"inputs\": [[(\"1\",\"A\",\"B\",5), (\"2\",\"C\",\"D\",3)]], \"output\": [(\"2\",\"C\",\"D\",3), (\"1\",\"A\",\"B\",5)]},\n",
      "    {\"type\": \"edge_case\", \"inputs\": [[(\"Express\",\"A\",\"B\",10), (\"Line1\",\"C\",\"D\",10)]], \"output\": [(\"Express\",\"A\",\"B\",10), (\"Line1\",\"C\",\"D\",10)]},\n",
      "    {\"type\": \"edge_case\", \"inputs\": [[(\"Line1\",\"A\",\"B\",10), (\"Line1\",\"C\",\"D\",10)]], \"output\": [(\"Line1\",\"A\",\"B\",10), (\"Line1\",\"C\",\"D\",10)]},\n",
      "    {\"type\": \"edge_case\", \"inputs\": [[]], \"output\": []}\n",
      "]}|\n",
      "[Problem normalize_license_plate] Try 1/3\n"
     ]
    },
    {
     "name": "stderr",
     "output_type": "stream",
     "text": [
      "WARNING:root:[llms] The following keys were not replaced: ['name', '\"apple\", \"banana\", \"cherry\"', '\"abc\", \"def\", \"ghi\"', '\"c\", \"d\", \"c\"']\n"
     ]
    },
    {
     "name": "stdout",
     "output_type": "stream",
     "text": [
      "   \u001b[92mnormalize_license_plate(['abc 123']) -> ABC123 vs. ABC123\u001b[0m\n",
      "   \u001b[92mnormalize_license_plate(['ab-c- 123']) -> ABC123 vs. ABC123\u001b[0m\n",
      "   \u001b[92mnormalize_license_plate(['ABC123']) -> ABC123 vs. ABC123\u001b[0m\n",
      "   \u001b[92mnormalize_license_plate(['  abc-123  ']) -> ABC123 vs. ABC123\u001b[0m\n",
      "   \u001b[92mnormalize_license_plate(['ab@12-c']) -> AB@12C vs. AB@12C\u001b[0m\n",
      "[Problem fuel_consumption_estimate] Try 1/3\n"
     ]
    },
    {
     "name": "stderr",
     "output_type": "stream",
     "text": [
      "WARNING:root:[llms] The following keys were not replaced: ['name', '\"apple\", \"banana\", \"cherry\"', '\"abc\", \"def\", \"ghi\"', '\"c\", \"d\", \"c\"']\n"
     ]
    },
    {
     "name": "stdout",
     "output_type": "stream",
     "text": [
      "Cannot parse\n",
      "|{\"solution\": \"import math\\n\\ndef fuel_consumption_estimate(trip_segments):\\n    \\\"\\\"\\\"Calculate the total fuel (in liters) needed for the given trip segments.\\n\\n    Parameters\\n    ----------\\n    trip_segments : list[tuple[float, float]]\\n        A list where each tuple contains two numbers:\\n        (distance_in_km, efficiency_in_km_per_liter).\\n\\n    Returns\\n    -------\\n    float\\n        The total liters required, after adding a 5% safety margin and\\n        rounding up to the nearest 0.1 liter.\\n    \\\"\\\"\\\"\\n    if not trip_segments:\\n        return 0.0\\n\\n    total_liters = 0.0\\n    for distance, efficiency in trip_segments:\\n        # Guard against zero or negative efficiency values\\n        if efficiency <= 0:\\n            raise ValueError(\\\"Efficiency must be greater than zero.\\\")\\n        total_liters += distance / efficiency\\n\\n    # Apply 5% safety margin\\n    total_liters *= 1.05\\n\\n    # Round up to one decimal place\\n    total_liters = math.ceil(total_liters * 10) / 10.0\\n    return float(f\\\"{total_liters:.1f}\\\")\\n\", \"tests\": [{\"type\": \"basic\", \"inputs\": [[(100, 10)]], \"output\": 10.5}, {\"type\": \"basic\", \"inputs\": [[(50, 10), (150, 15)]], \"output\": 15.8}, {\"type\": \"edge_case\", \"inputs\": [[]], \"output\": 0.0}, {\"type\": \"edge_case\", \"inputs\": [[(1, 3)]], \"output\": 0.4}, {\"type\": \"edge_case\", \"inputs\": [[(0, 12), (0, 15)]], \"output\": 0.0}] }|\n",
      "[Problem fuel_consumption_estimate] Try 2/3\n"
     ]
    },
    {
     "name": "stderr",
     "output_type": "stream",
     "text": [
      "WARNING:root:[llms] The following keys were not replaced: ['name', '\"apple\", \"banana\", \"cherry\"', '\"abc\", \"def\", \"ghi\"', '\"c\", \"d\", \"c\"']\n"
     ]
    },
    {
     "name": "stdout",
     "output_type": "stream",
     "text": [
      "   \u001b[92mfuel_consumption_estimate([[100, 150], 10]) -> 26.3 vs. 26.3\u001b[0m\n",
      "   \u001b[92mfuel_consumption_estimate([[50], 8]) -> 6.6 vs. 6.6\u001b[0m\n",
      "   \u001b[92mfuel_consumption_estimate([[], 12]) -> 0.0 vs. 0.0\u001b[0m\n",
      "   \u001b[92mfuel_consumption_estimate([[105], 10]) -> 11.1 vs. 11.1\u001b[0m\n",
      "   \u001b[91mfuel_consumption_estimate([[33.3, 66.7], 15]) -> 7.1 vs. 7.0\u001b[0m\n",
      "[Problem fuel_consumption_estimate] Try 3/3\n"
     ]
    },
    {
     "name": "stderr",
     "output_type": "stream",
     "text": [
      "WARNING:root:[llms] The following keys were not replaced: ['name', '\"apple\", \"banana\", \"cherry\"', '\"abc\", \"def\", \"ghi\"', '\"c\", \"d\", \"c\"']\n"
     ]
    },
    {
     "name": "stdout",
     "output_type": "stream",
     "text": [
      "   \u001b[92mfuel_consumption_estimate([[100], 10]) -> 10.5 vs. 10.5\u001b[0m\n",
      "   \u001b[92mfuel_consumption_estimate([[50, 75], 12]) -> 11.0 vs. 11.0\u001b[0m\n",
      "   \u001b[92mfuel_consumption_estimate([[], 15]) -> 0.0 vs. 0.0\u001b[0m\n",
      "   \u001b[92mfuel_consumption_estimate([[33.3], 13.3]) -> 2.7 vs. 2.7\u001b[0m\n",
      "   \u001b[92mfuel_consumption_estimate([[0, 0], 5]) -> 0.0 vs. 0.0\u001b[0m\n",
      "[Problem intersection_area_two_circles] Try 1/3\n"
     ]
    },
    {
     "name": "stderr",
     "output_type": "stream",
     "text": [
      "WARNING:root:[llms] The following keys were not replaced: ['name', '\"apple\", \"banana\", \"cherry\"', '\"abc\", \"def\", \"ghi\"', '\"c\", \"d\", \"c\"']\n"
     ]
    },
    {
     "name": "stdout",
     "output_type": "stream",
     "text": [
      "Cannot parse\n",
      "|{\"solution\": \"import math\\n\\ndef intersection_area_two_circles(c1, c2):\\n    \\\"\\\"\\\"Return the area of intersection of two circles rounded to 4 decimals.\\n    Each circle is given as (x, y, r).\\\"\\\"\\\"\\n    x0, y0, r0 = c1\\n    x1, y1, r1 = c2\\n\\n    # Euclidean distance between centres\\n    d = math.hypot(x1 - x0, y1 - y0)\\n\\n    # One circle is completely inside the other\\n    if d <= abs(r0 - r1):\\n        area = math.pi * min(r0, r1) ** 2\\n    # Circles do not overlap (should not happen per statement, but handled)\\n    elif d >= r0 + r1:\\n        area = 0.0\\n    # Partial overlap\\n    else:\\n        # angle for circle 0\\n        alpha = 2 * math.acos((d**2 + r0**2 - r1**2) / (2 * d * r0))\\n        # angle for circle 1\\n        beta = 2 * math.acos((d**2 + r1**2 - r0**2) / (2 * d * r1))\\n\\n        area = 0.5 * (\\n            r0**2 * (alpha - math.sin(alpha)) +\\n            r1**2 * (beta - math.sin(beta))\\n        )\\n\\n    return round(area, 4)\\n\", \"tests\": [{\"type\": \"basic\", \"inputs\": [[(0, 0, 1), (0, 0, 1)]], \"output\": 3.1416}, {\"type\": \"basic\", \"inputs\": [[(0, 0, 1), (1, 0, 1)]], \"output\": 1.2284}, {\"type\": \"edge_case\", \"inputs\": [[(0, 0, 5), (1, 1, 2)]], \"output\": 12.5664}, {\"type\": \"basic\", \"inputs\": [[(0, 0, 5), (8, 0, 5)]], \"output\": 8.1558}, {\"type\": \"edge_case\", \"inputs\": [[(0, 0, 1), (1.9, 0, 1)]], \"output\": 0.0417}]}|\n",
      "[Problem intersection_area_two_circles] Try 2/3\n"
     ]
    },
    {
     "name": "stderr",
     "output_type": "stream",
     "text": [
      "WARNING:root:[llms] The following keys were not replaced: ['name', '\"apple\", \"banana\", \"cherry\"', '\"abc\", \"def\", \"ghi\"', '\"c\", \"d\", \"c\"']\n"
     ]
    },
    {
     "name": "stdout",
     "output_type": "stream",
     "text": [
      "   \u001b[92mintersection_area_two_circles([0, 0, 2, 3, 0, 2]) -> 1.8132 vs. 1.8132\u001b[0m\n",
      "   \u001b[92mintersection_area_two_circles([0, 0, 3, 5, 0, 4]) -> 6.6417 vs. 6.6417\u001b[0m\n",
      "   \u001b[92mintersection_area_two_circles([0, 0, 1, 1.5, 0, 1]) -> 0.4533 vs. 0.4533\u001b[0m\n",
      "   \u001b[92mintersection_area_two_circles([0, 0, 5, 1, 1, 2]) -> 12.5664 vs. 12.5664\u001b[0m\n",
      "   \u001b[92mintersection_area_two_circles([0, 0, 1, 0, 0, 1]) -> 3.1416 vs. 3.1416\u001b[0m\n",
      "[Problem merge_route_stops] Try 1/3\n"
     ]
    },
    {
     "name": "stderr",
     "output_type": "stream",
     "text": [
      "WARNING:root:[llms] The following keys were not replaced: ['name', '\"apple\", \"banana\", \"cherry\"', '\"abc\", \"def\", \"ghi\"', '\"c\", \"d\", \"c\"']\n"
     ]
    },
    {
     "name": "stdout",
     "output_type": "stream",
     "text": [
      "   \u001b[92mmerge_route_stops([['Alpha', 'Bravo', 'Charlie'], ['Bravo', 'Delta']]) -> ['Alpha', 'Bravo', 'Charlie', 'Delta'] vs. ['Alpha', 'Bravo', 'Charlie', 'Delta']\u001b[0m\n",
      "   \u001b[92mmerge_route_stops([['Central', 'Main'], ['central', 'Park', 'main']]) -> ['Central', 'Main', 'Park'] vs. ['Central', 'Main', 'Park']\u001b[0m\n",
      "   \u001b[92mmerge_route_stops([[], ['A', 'B']]) -> ['A', 'B'] vs. ['A', 'B']\u001b[0m\n",
      "   \u001b[92mmerge_route_stops([[], []]) -> [] vs. []\u001b[0m\n",
      "   \u001b[92mmerge_route_stops([['Avenue', 'Street'], ['Boulevard', 'street', 'Terrace']]) -> ['Avenue', 'Boulevard', 'Street', 'Terrace'] vs. ['Avenue', 'Boulevard', 'Street', 'Terrace']\u001b[0m\n",
      "[Problem crop_rotation_patterns] Try 1/3\n"
     ]
    },
    {
     "name": "stderr",
     "output_type": "stream",
     "text": [
      "WARNING:root:[llms] The following keys were not replaced: ['name', '\"apple\", \"banana\", \"cherry\"', '\"abc\", \"def\", \"ghi\"', '\"c\", \"d\", \"c\"']\n"
     ]
    },
    {
     "name": "stdout",
     "output_type": "stream",
     "text": [
      "   \u001b[92mcrop_rotation_patterns([1, 3]) -> 3 vs. 3\u001b[0m\n",
      "   \u001b[92mcrop_rotation_patterns([2, 2]) -> 2 vs. 2\u001b[0m\n",
      "   \u001b[92mcrop_rotation_patterns([4, 3]) -> 24 vs. 24\u001b[0m\n",
      "   \u001b[92mcrop_rotation_patterns([0, 5]) -> 1 vs. 1\u001b[0m\n",
      "   \u001b[92mcrop_rotation_patterns([3, 1]) -> 0 vs. 0\u001b[0m\n",
      "[Problem next_harvest_moon] Try 1/3\n"
     ]
    },
    {
     "name": "stderr",
     "output_type": "stream",
     "text": [
      "WARNING:root:[llms] The following keys were not replaced: ['name', '\"apple\", \"banana\", \"cherry\"', '\"abc\", \"def\", \"ghi\"', '\"c\", \"d\", \"c\"']\n"
     ]
    },
    {
     "name": "stdout",
     "output_type": "stream",
     "text": [
      "   \u001b[92mnext_harvest_moon([2019]) -> 2019-09-14 vs. 2019-09-14\u001b[0m\n",
      "   \u001b[92mnext_harvest_moon([2021]) -> 2021-09-20 vs. 2021-09-20\u001b[0m\n",
      "   \u001b[92mnext_harvest_moon([2023]) -> 2023-09-29 vs. 2023-09-29\u001b[0m\n",
      "   \u001b[92mnext_harvest_moon([2025]) -> 2025-10-06 vs. 2025-10-06\u001b[0m\n",
      "   \u001b[92mnext_harvest_moon([2018]) -> 2018-09-24 vs. 2018-09-24\u001b[0m\n",
      "[Problem parse_soil_report] Try 1/3\n"
     ]
    },
    {
     "name": "stderr",
     "output_type": "stream",
     "text": [
      "WARNING:root:[llms] The following keys were not replaced: ['name', '\"apple\", \"banana\", \"cherry\"', '\"abc\", \"def\", \"ghi\"', '\"c\", \"d\", \"c\"']\n"
     ]
    },
    {
     "name": "stdout",
     "output_type": "stream",
     "text": [
      "   \u001b[91mparse_soil_report(['pH: 6.8\\\\nNitrogen: 45 ppm\\\\nPhosphorus: 20 mg/kg\\\\nPotassium: 150']) -> {'pH': 6.8, 'nitrogen': None, 'phosphorus': None, 'potassium': None} vs. {'pH': 6.8, 'nitrogen': 45, 'phosphorus': 20, 'potassium': 150}\u001b[0m\n",
      "[Problem parse_soil_report] Try 2/3\n"
     ]
    },
    {
     "name": "stderr",
     "output_type": "stream",
     "text": [
      "WARNING:root:[llms] The following keys were not replaced: ['name', '\"apple\", \"banana\", \"cherry\"', '\"abc\", \"def\", \"ghi\"', '\"c\", \"d\", \"c\"']\n"
     ]
    },
    {
     "name": "stdout",
     "output_type": "stream",
     "text": [
      "Cannot parse\n",
      "|{\"solution\": \"import re\\n\\ndef parse_soil_report(report_text):\\n    \\\"\\\"\\\"Extract numeric values for pH, nitrogen, phosphorus and potassium from a\\n    multiline soil report. If a value is not present, None is returned for that\\n    key.\\n\\n    Parameters\\n    ----------\\n    report_text : str\\n        Raw, multiline string coming from a soil analysis report.\\n\\n    Returns\\n    -------\\n    dict\\n        Dictionary with keys 'pH', 'nitrogen', 'phosphorus', 'potassium'.\\n    \\\"\\\"\\\"\\n\\n    # Build one regular-expression for each sought metric.  Each RE tries to be\\n    # tolerant to common formats such as:\\n    #   pH: 6.4\\n    #   Nitrogen (N): 42 mg/kg\\n    #   P (phosphorus) ..... 15.1\\n    #   Potassium- 88ppm\\n    patterns = {\\n        'pH': r\\\"\\\\bpH\\\\b[^0-9\\\\-+]*([-+]?\\\\d+(?:\\\\.\\\\d+)?)\\\",\\n        'nitrogen': r\\\"\\\\b(?:Nitrogen|N)\\\\b[^0-9\\\\-+]*([-+]?\\\\d+(?:\\\\.\\\\d+)?)\\\",\\n        'phosphorus': r\\\"\\\\b(?:Phosphorus|P)\\\\b[^0-9\\\\-+]*([-+]?\\\\d+(?:\\\\.\\\\d+)?)\\\",\\n        'potassium': r\\\"\\\\b(?:Potassium|K)\\\\b[^0-9\\\\-+]*([-+]?\\\\d+(?:\\\\.\\\\d+)?)\\\",\\n    }\\n\\n    result = {key: None for key in patterns}\\n\\n    for key, pat in patterns.items():\\n        match = re.search(pat, report_text, flags=re.IGNORECASE)\\n        if match:\\n            val_str = match.group(1)\\n            # Convert to int when possible, else float.\\n            try:\\n                num = float(val_str)\\n                if num.is_integer():\\n                    num = int(num)\\n                result[key] = num\\n            except ValueError:\\n                # Fallback to None if conversion unexpectedly fails\\n                result[key] = None\\n    return result\\n\", \"tests\": [{\"type\": \"basic\", \"inputs\": [\"pH: 6.5\\\\nNitrogen (N): 42 mg/kg\\\\nPhosphorus: 15 ppm\\\\nPotassium: 88 ppm\"], \"output\": {\"pH\": 6.5, \"nitrogen\": 42, \"phosphorus\": 15, \"potassium\": 88}}, {\"type\": \"edge_case\", \"inputs\": [\"Sample report\\\\npH 7.0\\\\nN: 30 ppm\\\\nP: 12\\\\n\"], \"output\": {\"pH\": 7.0, \"nitrogen\": 30, \"phosphorus\": 12, \"potassium\": None}}, {\"type\": \"edge_case\", \"inputs\": [\"Potassium 101\\\\nPhosphorus 9.9\\\\nNitrogen 0.5\\\\npH=5.75\"], \"output\": {\"pH\": 5.75, \"nitrogen\": 0.5, \"phosphorus\": 9.9, \"potassium\": 101}}, {\"type\": \"basic\", \"inputs\": [\"N:45 P:20 K:55 pH:6\"], \"output\": {\"pH\": 6, \"nitrogen\": 45, \"phosphorus\": 20, \"potassium\": 55}}, {\"type\": \"edge_case\", \"inputs\": [\"\"], \"output\": {\"pH\": None, \"nitrogen\": None, \"phosphorus\": None, \"potassium\": None}} ]}|\n",
      "[Problem parse_soil_report] Try 3/3\n"
     ]
    },
    {
     "name": "stderr",
     "output_type": "stream",
     "text": [
      "WARNING:root:[llms] The following keys were not replaced: ['name', '\"apple\", \"banana\", \"cherry\"', '\"abc\", \"def\", \"ghi\"', '\"c\", \"d\", \"c\"']\n"
     ]
    },
    {
     "name": "stdout",
     "output_type": "stream",
     "text": [
      "Cannot parse\n",
      "|{\"solution\": \"import re\\n\\ndef parse_soil_report(report: str):\\n    \\\"\\\"\\\"Extract pH, nitrogen, phosphorus and potassium numeric values from a soil report.\\n\\n    Parameters\\n    ----------\\n    report : str\\n        Multiline text containing the soil analysis.\\n\\n    Returns\\n    -------\\n    dict\\n        Dictionary with keys 'pH', 'nitrogen', 'phosphorus', 'potassium'. If a value\\n        is not found it is set to None. The numbers are returned as float if they\\n        contain a decimal point, otherwise as int.\\n    \\\"\\\"\\\"\\n    # Prepare output dictionary with default None\\n    result = {\\n        'pH': None,\\n        'nitrogen': None,\\n        'phosphorus': None,\\n        'potassium': None\\n    }\\n\\n    # Mapping of nutrient names to regex patterns for extraction\\n    patterns = {\\n        'pH': r\\\"pH\\\\s*[:=]?\\\\s*([0-9]+(?:\\\\.[0-9]+)?)\\\",\\n        'nitrogen': r\\\"nitrogen\\\\b[^0-9\\\\n\\\\r]*([0-9]+(?:\\\\.[0-9]+)?)\\\",\\n        'phosphorus': r\\\"phosphorus\\\\b[^0-9\\\\n\\\\r]*([0-9]+(?:\\\\.[0-9]+)?)\\\",\\n        'potassium': r\\\"potassium\\\\b[^0-9\\\\n\\\\r]*([0-9]+(?:\\\\.[0-9]+)?)\\\"\\n    }\\n\\n    for nutrient, pattern in patterns.items():\\n        match = re.search(pattern, report, flags=re.IGNORECASE)\\n        if match:\\n            num_str = match.group(1)\\n            # Convert to int or float depending on presence of decimal point\\n            value = float(num_str) if '.' in num_str else int(num_str)\\n            result[nutrient] = value\\n\\n    return result\\n\", \"tests\": [{\"type\": \"basic\", \"inputs\": [\"Soil Report\\\\npH: 6.5\\\\nNitrogen: 40 mg/kg\\\\nPhosphorus: 25 ppm\\\\nPotassium: 55ppm\"], \"output\": {\"pH\": 6.5, \"nitrogen\": 40, \"phosphorus\": 25, \"potassium\": 55}}, {\"type\": \"edge_case\", \"inputs\": [\"Results -> pH = 7\\\\nNitrogen content is 30ppm\\\\nPotassium around 42 mg/kg\"], \"output\": {\"pH\": 7, \"nitrogen\": 30, \"phosphorus\": None, \"potassium\": 42}}, {\"type\": \"edge_case\", \"inputs\": [\"Analysis:\\\\nPhosphorus : 18\\\\nNitrogen - 22.5 units\\\\npH 5.8\\\\nPotassium 31\"], \"output\": {\"pH\": 5.8, \"nitrogen\": 22.5, \"phosphorus\": 18, \"potassium\": 31}}, {\"type\": \"basic\", \"inputs\": [\"\"], \"output\": {\"pH\": None, \"nitrogen\": None, \"phosphorus\": None, \"potassium\": None}}, {\"type\": \"edge_case\", \"inputs\": [\"Soil Quality\\\\nPH: 8.1\\\\nNITROGEN: 12.0\\\\nPHOSPHORUS: 13.0\\\\nPOTASSIUM: 14.0\"], \"output\": {\"pH\": 8.1, \"nitrogen\": 12.0, \"phosphorus\": 13.0, \"potassium\": 14.0}}]}|\n",
      "[Problem locate_weeds_cluster] Try 1/3\n"
     ]
    },
    {
     "name": "stderr",
     "output_type": "stream",
     "text": [
      "WARNING:root:[llms] The following keys were not replaced: ['name', '\"apple\", \"banana\", \"cherry\"', '\"abc\", \"def\", \"ghi\"', '\"c\", \"d\", \"c\"']\n"
     ]
    },
    {
     "name": "stdout",
     "output_type": "stream",
     "text": [
      "   \u001b[92mlocate_weeds_cluster([[[1, 0, 0], [1, 1, 0], [0, 0, 1]]]) -> 3 vs. 3\u001b[0m\n",
      "   \u001b[92mlocate_weeds_cluster([[[0, 0], [0, 0]]]) -> 0 vs. 0\u001b[0m\n",
      "   \u001b[92mlocate_weeds_cluster([[[1]]]) -> 1 vs. 1\u001b[0m\n",
      "   \u001b[92mlocate_weeds_cluster([[]]) -> 0 vs. 0\u001b[0m\n",
      "   \u001b[92mlocate_weeds_cluster([[[1, 1], [1, 1]]]) -> 4 vs. 4\u001b[0m\n",
      "[Problem seed_lot_identifier] Try 1/3\n"
     ]
    },
    {
     "name": "stderr",
     "output_type": "stream",
     "text": [
      "WARNING:root:[llms] The following keys were not replaced: ['name', '\"apple\", \"banana\", \"cherry\"', '\"abc\", \"def\", \"ghi\"', '\"c\", \"d\", \"c\"']\n"
     ]
    },
    {
     "name": "stdout",
     "output_type": "stream",
     "text": [
      "   \u001b[92mseed_lot_identifier(['', '', '']) -> e3b0c442-98fc-4c14-9afb-f4c8996fb924 vs. e3b0c442-98fc-4c14-9afb-f4c8996fb924\u001b[0m\n",
      "   \u001b[92mseed_lot_identifier(['', '', 'a']) -> ca978112-ca1b-4dca-bac2-31b39a23dc4d vs. ca978112-ca1b-4dca-bac2-31b39a23dc4d\u001b[0m\n",
      "   \u001b[92mseed_lot_identifier(['hello', '', '']) -> 2cf24dba-5fb0-430e-a6e8-3b2ac5b9e29e vs. 2cf24dba-5fb0-430e-a6e8-3b2ac5b9e29e\u001b[0m\n",
      "   \u001b[92mseed_lot_identifier(['a', 'b', 'c']) -> ba7816bf-8f01-4fea-8141-40de5dae2223 vs. ba7816bf-8f01-4fea-8141-40de5dae2223\u001b[0m\n",
      "[Problem shared_power_sources] Try 1/3\n"
     ]
    },
    {
     "name": "stderr",
     "output_type": "stream",
     "text": [
      "WARNING:root:[llms] The following keys were not replaced: ['name', '\"apple\", \"banana\", \"cherry\"', '\"abc\", \"def\", \"ghi\"', '\"c\", \"d\", \"c\"']\n"
     ]
    },
    {
     "name": "stdout",
     "output_type": "stream",
     "text": [
      "Cannot parse\n",
      "|{\"solution\": \"def shared_power_sources(plants):\\n    \\\"\\\"\\\"Return a set of power source names that appear in every plant's supply list.\\n\\n    Args:\\n        plants (list[list[str]]): List containing each plant's list of power source names.\\n\\n    Returns:\\n        set[str]: Set of names present in every plant's list. If the input list is empty,\\n                   or there is no common power source, an empty set is returned.\\n    \\\"\\\"\\\"\\n    # If there are no plants, nothing can be shared\\n    if not plants:\\n        return set()\\n\\n    # Start with the unique sources of the first plant\\n    common_sources = set(plants[0])\\n\\n    # Intersect with the unique sources of every subsequent plant\\n    for supply_list in plants[1:]:\\n        common_sources &= set(supply_list)\\n        # Early exit if intersection becomes empty\\n        if not common_sources:\\n            return set()\\n\\n    return common_sources\\n\", \"tests\": [{\"type\": \"basic\", \"inputs\": [[[\"Coal\", \"Gas\", \"Nuclear\"], [\"Gas\", \"Nuclear\", \"Hydro\"], [\"Wind\", \"Nuclear\", \"Gas\"]]], \"output\": {\"Gas\", \"Nuclear\"}}, {\"type\": \"basic\", \"inputs\": [[[\"Solar\", \"Wind\"], [\"Solar\", \"Wind\"], [\"Solar\", \"Wind\"]]], \"output\": {\"Solar\", \"Wind\"}}, {\"type\": \"edge_case\", \"inputs\": [[[\"Hydro\", \"Geothermal\"]]], \"output\": {\"Hydro\", \"Geothermal\"}}, {\"type\": \"edge_case\", \"inputs\": [[[\"A\", \"B\"], [\"B\", \"C\"], [\"C\", \"D\"]]], \"output\": set()}, {\"type\": \"edge_case\", \"inputs\": [[[\"A\", \"A\", \"B\"], [\"A\", \"B\", \"B\", \"C\"]]], \"output\": {\"A\", \"B\"}}]}|\n",
      "[Problem shared_power_sources] Try 2/3\n"
     ]
    },
    {
     "name": "stderr",
     "output_type": "stream",
     "text": [
      "WARNING:root:[llms] The following keys were not replaced: ['name', '\"apple\", \"banana\", \"cherry\"', '\"abc\", \"def\", \"ghi\"', '\"c\", \"d\", \"c\"']\n"
     ]
    },
    {
     "name": "stdout",
     "output_type": "stream",
     "text": [
      "Cannot parse\n",
      "|{\"solution\":\"def shared_power_sources(plants):\\n    \\\"\\\"\\\"Return the set of power source names that appear in every plant's supply list.\\n\\n    Parameters\\n    ----------\\n    plants : list of iterables (e.g., list of lists/sets/tuples)\\n        Each inner iterable contains the power source names (strings) for a single plant.\\n\\n    Returns\\n    -------\\n    set\\n        A set containing the power source names that are present in every plant's list.\\n        If `plants` is empty, or if no single power source is common to all plants,\\n        an empty set is returned.\\n    \\\"\\\"\\\"\\n    # If there are no plants, there can be no shared power sources.\\n    if not plants:\\n        return set()\\n\\n    # Start intersection with the first plant's sources converted to a set.\\n    shared = set(plants[0])\\n\\n    # Intersect with the sources of every other plant.\\n    for sources in plants[1:]:\\n        shared &= set(sources)\\n        # Early exit if intersection becomes empty.\\n        if not shared:\\n            break\\n\\n    return shared\",\"tests\":[{\"type\":\"basic\",\"inputs\":[[[\"Coal\",\"Solar\"],[\"Solar\",\"Wind\",\"Coal\"],[\"Solar\",\"Coal\"]]],\"output\":{\"Coal\",\"Solar\"}},{\"type\":\"basic\",\"inputs\":[[[\"Hydro\"],[\"Hydro\"],[\"Hydro\",\"Coal\"]]],\"output\":{\"Hydro\"}},{\"type\":\"edge_case\",\"inputs\":[[[\"Wind\",\"Solar\"],[\"Coal\",\"Gas\"]]],\"output\":set()},{\"type\":\"edge_case\",\"inputs\":[[]],\"output\":set()},{\"type\":\"edge_case\",\"inputs\":[[[],[\"Solar\",\"Wind\"]]],\"output\":set()}]}|\n",
      "[Problem shared_power_sources] Try 3/3\n"
     ]
    },
    {
     "name": "stderr",
     "output_type": "stream",
     "text": [
      "WARNING:root:[llms] The following keys were not replaced: ['name', '\"apple\", \"banana\", \"cherry\"', '\"abc\", \"def\", \"ghi\"', '\"c\", \"d\", \"c\"']\n"
     ]
    },
    {
     "name": "stdout",
     "output_type": "stream",
     "text": [
      "   \u001b[92mshared_power_sources([[['Coal', 'Solar', 'Wind'], ['Gas', 'Solar', 'Wind'], ['Solar', 'Wind', 'Hydro']]]) -> ['Solar', 'Wind'] vs. ['Solar', 'Wind']\u001b[0m\n",
      "   \u001b[92mshared_power_sources([[['Solar', 'Hydro']]]) -> ['Hydro', 'Solar'] vs. ['Hydro', 'Solar']\u001b[0m\n",
      "   \u001b[92mshared_power_sources([[]]) -> [] vs. []\u001b[0m\n",
      "   \u001b[92mshared_power_sources([[['Solar'], []]]) -> [] vs. []\u001b[0m\n",
      "   \u001b[92mshared_power_sources([[['Solar', 'Solar', 'Wind'], ['Wind', 'Solar', 'Wind'], ['Solar', 'Wind']]]) -> ['Solar', 'Wind'] vs. ['Solar', 'Wind']\u001b[0m\n",
      "[Problem energy_meter_flag_set] Try 1/3\n"
     ]
    },
    {
     "name": "stderr",
     "output_type": "stream",
     "text": [
      "WARNING:root:[llms] The following keys were not replaced: ['name', '\"apple\", \"banana\", \"cherry\"', '\"abc\", \"def\", \"ghi\"', '\"c\", \"d\", \"c\"']\n"
     ]
    },
    {
     "name": "stdout",
     "output_type": "stream",
     "text": [
      "   \u001b[92menergy_meter_flag_set([0]) -> 32 vs. 32\u001b[0m\n",
      "   \u001b[92menergy_meter_flag_set([4]) -> 32 vs. 32\u001b[0m\n",
      "   \u001b[92menergy_meter_flag_set([36]) -> 32 vs. 32\u001b[0m\n",
      "   \u001b[92menergy_meter_flag_set([255]) -> 251 vs. 251\u001b[0m\n",
      "   \u001b[92menergy_meter_flag_set([-1]) -> -5 vs. -5\u001b[0m\n",
      "[Problem battery_drain_sim] Try 1/3\n"
     ]
    },
    {
     "name": "stderr",
     "output_type": "stream",
     "text": [
      "WARNING:root:[llms] The following keys were not replaced: ['name', '\"apple\", \"banana\", \"cherry\"', '\"abc\", \"def\", \"ghi\"', '\"c\", \"d\", \"c\"']\n"
     ]
    },
    {
     "name": "stdout",
     "output_type": "stream",
     "text": [
      "Cannot parse\n",
      "|{\"solution\": \"def battery_drain_sim(rate, boosts, start=100):\\n    \\\"\\\"\\\"\\n    Simulate battery percentage decay.\\n    Arguments:\\n        rate (int | float): percentage points drained each hour (e.g. 20 => -20 per hour).\\n        boosts (list[tuple[int, int | float]]): list of (hour, +value) boosts. The boost is\\n            applied at the beginning of the specified hour, before the drain of that hour.\\n        start (int | float, optional): starting battery percentage. Defaults to 100.\\n\\n    Returns:\\n        list[float]: battery percentage at the end of every hour, starting with the initial\\n                      level and ending with 0 (battery empty).\\n    \\\"\\\"\\\"\\n    # Map boosts by hour for O(1) access. If multiple boosts occur at the same hour, sum them.\\n    boost_map = {}\\n    for hr, val in boosts:\\n        boost_map[hr] = boost_map.get(hr, 0) + val\\n\\n    battery = float(start)\\n    history = [battery]\\n    hour = 1  # simulation starts counting hours from 1 (hour 0 is the initial state)\\n\\n    while battery > 0:\\n        # Apply any boosts scheduled for this hour\\n        if hour in boost_map:\\n            battery += boost_map[hour]\\n            battery = min(battery, 100.0)  # battery percentage cannot exceed 100\\n\\n        # Drain the battery\\n        battery -= rate\\n        if battery <= 0:\\n            battery = 0\\n        history.append(battery)\\n        hour += 1\\n\\n    return history\",\"tests\": [{\"type\": \"basic\", \"inputs\": [20, []], \"output\": [100, 80, 60, 40, 20, 0]}, {\"type\": \"basic\", \"inputs\": [25, [(2, 10)]], \"output\": [100, 75, 60, 35, 10, 0]}, {\"type\": \"edge_case\", \"inputs\": [30, [(1, 50), (3, 60)]], \"output\": [100, 70, 40, 70, 40, 10, 0]}, {\"type\": \"edge_case\", \"inputs\": [100, []], \"output\": [100, 0]}, {\"type\": \"edge_case\", \"inputs\": [10, [(5, 100)]], \"output\": [100, 90, 80, 70, 60, 50, 40, 30, 20, 10, 100, 90, 80, 70, 60, 50, 40, 30, 20, 10, 0]} ]}|\n",
      "[Problem battery_drain_sim] Try 2/3\n"
     ]
    },
    {
     "name": "stderr",
     "output_type": "stream",
     "text": [
      "WARNING:root:[llms] The following keys were not replaced: ['name', '\"apple\", \"banana\", \"cherry\"', '\"abc\", \"def\", \"ghi\"', '\"c\", \"d\", \"c\"']\n"
     ]
    },
    {
     "name": "stdout",
     "output_type": "stream",
     "text": [
      "Cannot parse\n",
      "|{\"solution\": \"def battery_drain_sim(initial_percentage, rate, boosts):\\n    \\\"\\\"\\\"\\n    Simulate the battery percentage decay.\\n\\n    Parameters\\n    ----------\\n    initial_percentage : int or float\\n        Starting battery percentage (0-100).\\n    rate : int or float\\n        Fixed percentage–points drained every hour.\\n    boosts : list[(int, int/float)]\\n        Each tuple represents (hour, positive_value) that is added to the\\n        battery *after* the drain of that hour.  Battery level is capped\\n        at 100.\\n\\n    Returns\\n    -------\\n    list[float]\\n        Battery level after each hour, including the hour in which it\\n        reaches 0.\\n    \\\"\\\"\\\"\\n\\n    if initial_percentage <= 0 or rate <= 0 and not boosts:\\n        # No depletion possible or already empty – nothing to simulate.\\n        return []\\n\\n    # Aggregate boosts that occur at the same hour.\\n    boost_map = {}\\n    for hr, val in boosts:\\n        boost_map[hr] = boost_map.get(hr, 0) + val\\n\\n    battery = float(initial_percentage)\\n    hour = 0\\n    history = []\\n\\n    # Continue until battery is 0 (or below) **after** all operations of an hour.\\n    while battery > 0:\\n        hour += 1\\n        # Drain\\n        battery -= rate\\n        if battery < 0:\\n            battery = 0.0\\n\\n        # Boosts scheduled for this hour\\n        if hour in boost_map and battery > 0:  # a totally flat battery can't be revived\\n            battery += boost_map[hour]\\n            if battery > 100:\\n                battery = 100.0\\n\\n        history.append(battery)\\n\\n        if battery <= 0:\\n            break\\n\\n        # Extra safety: in case of impossible depletion (e.g., rate==0 with future boosts)\\n        if rate <= 0 and hour > 10000:  # arbitrary large cap to avoid infinite loops\\n            break\\n\\n    return history\",\n",
      "\"tests\": [{\"type\": \"basic\", \"inputs\": [100, 25, []], \"output\": [75.0, 50.0, 25.0, 0.0]}, {\"type\": \"basic\", \"inputs\": [50, 20, [(2, 30)]], \"output\": [30.0, 40.0, 20.0, 0.0]}, {\"type\": \"edge_case\", \"inputs\": [90, 50, [(1, 20)]], \"output\": [60.0, 10.0, 0.0]}, {\"type\": \"edge_case\", \"inputs\": [10, 15, []], \"output\": [0.0]}]\n",
      "}|\n",
      "[Problem battery_drain_sim] Try 3/3\n"
     ]
    },
    {
     "name": "stderr",
     "output_type": "stream",
     "text": [
      "WARNING:root:[llms] The following keys were not replaced: ['name', '\"apple\", \"banana\", \"cherry\"', '\"abc\", \"def\", \"ghi\"', '\"c\", \"d\", \"c\"']\n"
     ]
    },
    {
     "name": "stdout",
     "output_type": "stream",
     "text": [
      "Cannot parse\n",
      "|{\"solution\": \"import math\\n\\ndef battery_drain_sim(initial_battery: int, rate: float, boosts):\\n    \\\"\\\"\\\"\\n    Simulate the battery percentage decay.\\n\\n    Parameters\\n    ----------\\n    initial_battery : int\\n        Initial battery percentage (0-100).\\n    rate : float\\n        Percentage drained each hour (e.g. 20 means 20%).\\n    boosts : list[tuple[int, int]]\\n        List of tuples (hour, value) – a boost of `value` percent applied *after* the decay\\n        of the given hour.  Hour counting starts at 1.\\n\\n    Returns\\n    -------\\n    list[int]\\n        Battery level **after** each hour (post-decay, post-boost) until the battery is\\n        completely empty (0).  If the battery starts at 0 the returned list is empty.\\n    \\\"\\\"\\\"\\n\\n    if initial_battery <= 0:\\n        return []\\n\\n    boosts_dict = {h: v for h, v in boosts}\\n    battery = int(initial_battery)\\n    hour = 0\\n    history = []\\n\\n    while battery > 0:\\n        hour += 1\\n        # drain\\n        drained = math.ceil(battery * rate / 100)\\n        battery -= drained\\n        # apply boost for this hour if any\\n        if hour in boosts_dict:\\n            battery += boosts_dict[hour]\\n        # cap at 100\\n        battery = min(battery, 100)\\n        # no negative values\\n        if battery < 0:\\n            battery = 0\\n        history.append(battery)\\n    return history\\n\", \"tests\": [{\"type\": \"basic\", \"inputs\": [10, 50, []], \"output\": [5, 2, 1, 0]}, {\"type\": \"basic\", \"inputs\": [50, 30, [(2, 20)]], \"output\": [35, 44, 30, 21, 14, 9, 6, 4, 2, 1, 0]}, {\"type\": \"edge_case\", \"inputs\": [80, 100, []], \"output\": [0]}, {\"type\": \"edge_case\", \"inputs\": [90, 50, [(1, 20)]], \"output\": [65, 32, 16, 8, 4, 2, 1, 0]}, {\"type\": \"edge_case\", \"inputs\": [0, 10, []], \"output\": []}]}|\n",
      "[Problem power_grid_split] Try 1/3\n"
     ]
    },
    {
     "name": "stderr",
     "output_type": "stream",
     "text": [
      "WARNING:root:[llms] The following keys were not replaced: ['name', '\"apple\", \"banana\", \"cherry\"', '\"abc\", \"def\", \"ghi\"', '\"c\", \"d\", \"c\"']\n"
     ]
    },
    {
     "name": "stdout",
     "output_type": "stream",
     "text": [
      "\u001b[91mError executing code: name 'power_grid_split' is not defined\u001b[0m\n",
      "[Problem power_grid_split] Try 2/3\n"
     ]
    },
    {
     "name": "stderr",
     "output_type": "stream",
     "text": [
      "WARNING:root:[llms] The following keys were not replaced: ['name', '\"apple\", \"banana\", \"cherry\"', '\"abc\", \"def\", \"ghi\"', '\"c\", \"d\", \"c\"']\n"
     ]
    },
    {
     "name": "stdout",
     "output_type": "stream",
     "text": [
      "   \u001b[92mpower_grid_split([13]) -> [8, 4, 1] vs. [8, 4, 1]\u001b[0m\n",
      "   \u001b[92mpower_grid_split([1]) -> [1] vs. [1]\u001b[0m\n",
      "   \u001b[92mpower_grid_split([0]) -> [] vs. []\u001b[0m\n",
      "   \u001b[92mpower_grid_split([32]) -> [32] vs. [32]\u001b[0m\n",
      "   \u001b[92mpower_grid_split([19]) -> [16, 2, 1] vs. [16, 2, 1]\u001b[0m\n",
      "[Problem count_peak_hours] Try 1/3\n"
     ]
    },
    {
     "name": "stderr",
     "output_type": "stream",
     "text": [
      "WARNING:root:[llms] The following keys were not replaced: ['name', '\"apple\", \"banana\", \"cherry\"', '\"abc\", \"def\", \"ghi\"', '\"c\", \"d\", \"c\"']\n"
     ]
    },
    {
     "name": "stdout",
     "output_type": "stream",
     "text": [
      "   \u001b[92mcount_peak_hours([[1, 3, 2, 4, 1], 2]) -> 2 vs. 2\u001b[0m\n",
      "   \u001b[92mcount_peak_hours([[0, 5, 0, 6, 1, 7, 0], 4]) -> 3 vs. 3\u001b[0m\n",
      "   \u001b[92mcount_peak_hours([[5, 4, 3, 2, 1], 2]) -> 0 vs. 0\u001b[0m\n",
      "   \u001b[92mcount_peak_hours([[10, 9, 10, 9, 10], 10]) -> 0 vs. 0\u001b[0m\n",
      "   \u001b[92mcount_peak_hours([[5, 6], 4]) -> 0 vs. 0\u001b[0m\n",
      "[Problem schedule_show_times] Try 1/3\n"
     ]
    },
    {
     "name": "stderr",
     "output_type": "stream",
     "text": [
      "WARNING:root:[llms] The following keys were not replaced: ['name', '\"apple\", \"banana\", \"cherry\"', '\"abc\", \"def\", \"ghi\"', '\"c\", \"d\", \"c\"']\n"
     ]
    },
    {
     "name": "stdout",
     "output_type": "stream",
     "text": [
      "   \u001b[92mschedule_show_times([[30, 20, 10], 40]) -> [10, 20] vs. [10, 20]\u001b[0m\n",
      "   \u001b[92mschedule_show_times([[5, 10, 3], 8]) -> [3, 5] vs. [3, 5]\u001b[0m\n",
      "   \u001b[92mschedule_show_times([[15, 15, 15], 30]) -> [15, 15] vs. [15, 15]\u001b[0m\n",
      "   \u001b[92mschedule_show_times([[20, 30], 10]) -> [] vs. []\u001b[0m\n",
      "   \u001b[92mschedule_show_times([[], 100]) -> [] vs. []\u001b[0m\n",
      "[Problem format_cast_list] Try 1/3\n"
     ]
    },
    {
     "name": "stderr",
     "output_type": "stream",
     "text": [
      "WARNING:root:[llms] The following keys were not replaced: ['name', '\"apple\", \"banana\", \"cherry\"', '\"abc\", \"def\", \"ghi\"', '\"c\", \"d\", \"c\"']\n"
     ]
    },
    {
     "name": "stdout",
     "output_type": "stream",
     "text": [
      "   \u001b[92mformat_cast_list([['Brad Pitt']]) -> Brad Pitt vs. Brad Pitt\u001b[0m\n",
      "   \u001b[92mformat_cast_list([['Brad Pitt', 'Leonardo DiCaprio']]) -> Brad Pitt & Leonardo DiCaprio vs. Brad Pitt & Leonardo DiCaprio\u001b[0m\n",
      "   \u001b[92mformat_cast_list([['Brad Pitt', 'Leonardo DiCaprio', 'Margot Robbie']]) -> Brad Pitt, Leonardo DiCaprio, & Margot Robbie vs. Brad Pitt, Leonardo DiCaprio, & Margot Robbie\u001b[0m\n",
      "   \u001b[92mformat_cast_list([[]]) ->  vs. \u001b[0m\n",
      "   \u001b[92mformat_cast_list([['A', 'B', 'C', 'D']]) -> A, B, C, & D vs. A, B, C, & D\u001b[0m\n",
      "[Problem validate_rating_string] Try 1/3\n"
     ]
    },
    {
     "name": "stderr",
     "output_type": "stream",
     "text": [
      "WARNING:root:[llms] The following keys were not replaced: ['name', '\"apple\", \"banana\", \"cherry\"', '\"abc\", \"def\", \"ghi\"', '\"c\", \"d\", \"c\"']\n"
     ]
    },
    {
     "name": "stdout",
     "output_type": "stream",
     "text": [
      "   \u001b[92mvalidate_rating_string(['G']) -> True vs. True\u001b[0m\n",
      "   \u001b[92mvalidate_rating_string(['PG-13']) -> True vs. True\u001b[0m\n",
      "   \u001b[92mvalidate_rating_string(['pg']) -> False vs. False\u001b[0m\n",
      "   \u001b[92mvalidate_rating_string(['PG13']) -> False vs. False\u001b[0m\n",
      "   \u001b[92mvalidate_rating_string(['NC-17']) -> True vs. True\u001b[0m\n",
      "   \u001b[92mvalidate_rating_string(['NC -17']) -> False vs. False\u001b[0m\n",
      "[Problem box_office_percent_change] Try 1/3\n"
     ]
    },
    {
     "name": "stderr",
     "output_type": "stream",
     "text": [
      "WARNING:root:[llms] The following keys were not replaced: ['name', '\"apple\", \"banana\", \"cherry\"', '\"abc\", \"def\", \"ghi\"', '\"c\", \"d\", \"c\"']\n"
     ]
    },
    {
     "name": "stdout",
     "output_type": "stream",
     "text": [
      "Cannot parse\n",
      "|{\"solution\": \"def box_office_percent_change(earnings):\\n    \\\"\\\"\\\"Return list of week-over-week percentage changes for given gross earnings.\\n    The first element is always None since there is no previous week to compare.\\n    Changes are rounded to one decimal place. If the previous week's earnings are\\n    zero, the change is recorded as None to avoid division by zero.\\n    \\\"\\\"\\\"\\n    # Validate input is iterable; if not, let Python raise naturally when iterated.\\n    n = len(earnings)\\n    if n == 0:\\n        return []\\n\\n    changes = [None]  # First week has no previous week to compare.\\n\\n    for prev, curr in zip(earnings, earnings[1:]):\\n        if prev == 0:\\n            changes.append(None)  # Undefined percentage change.\\n        else:\\n            pct_change = (curr - prev) / prev * 100\\n            changes.append(round(pct_change, 1))\\n\\n    return changes\", \"tests\": [{\"type\": \"basic\", \"inputs\": [[100, 110, 121]], \"output\": [None, 10.0, 10.0]}, {\"type\": \"basic\", \"inputs\": [[200, 150]], \"output\": [None, -25.0]}, {\"type\": \"edge_case\", \"inputs\": [[]], \"output\": []}, {\"type\": \"edge_case\", \"inputs\": [[500]], \"output\": [None]}, {\"type\": \"edge_case\", \"inputs\": [[0, 100, 0, 50]], \"output\": [None, None, -100.0, None]}]}|\n",
      "[Problem box_office_percent_change] Try 2/3\n"
     ]
    },
    {
     "name": "stderr",
     "output_type": "stream",
     "text": [
      "WARNING:root:[llms] The following keys were not replaced: ['name', '\"apple\", \"banana\", \"cherry\"', '\"abc\", \"def\", \"ghi\"', '\"c\", \"d\", \"c\"']\n"
     ]
    },
    {
     "name": "stdout",
     "output_type": "stream",
     "text": [
      "Cannot parse\n",
      "|{\"solution\": \"def box_office_percent_change(grosses):\\n    \\\"\\\"\\\"Given a list of weekly gross earnings, return a list of the same length\\n    where each element (except the first) is the week-over-week percentage\\n    change, rounded to one decimal place. The first element is always None.\\n    If the previous week's gross is 0, the change is undefined and set to None.\\n    \\\"\\\"\\\"\\n    # Handle empty input quickly\\n    if not grosses:\\n        return []\\n\\n    changes = [None]  # First week always has no prior comparison\\n\\n    for prev, curr in zip(grosses, grosses[1:]):\\n        if prev == 0:\\n            changes.append(None)\\n        else:\\n            percent_change = (curr - prev) / prev * 100.0\\n            changes.append(round(percent_change, 1))\\n    return changes\\n\", \"tests\": [{\"type\": \"basic\", \"inputs\": [[100, 110, 105]], \"output\": [None, 10.0, -4.5]}, {\"type\": \"basic\", \"inputs\": [[200, 200, 250]], \"output\": [None, 0.0, 25.0]}, {\"type\": \"edge_case\", \"inputs\": [[0, 100]], \"output\": [None, None]}, {\"type\": \"edge_case\", \"inputs\": [[]], \"output\": []}, {\"type\": \"edge_case\", \"inputs\": [[50]], \"output\": [None]}]}|\n",
      "[Problem box_office_percent_change] Try 3/3\n"
     ]
    },
    {
     "name": "stderr",
     "output_type": "stream",
     "text": [
      "WARNING:root:[llms] The following keys were not replaced: ['name', '\"apple\", \"banana\", \"cherry\"', '\"abc\", \"def\", \"ghi\"', '\"c\", \"d\", \"c\"']\n"
     ]
    },
    {
     "name": "stdout",
     "output_type": "stream",
     "text": [
      "Cannot parse\n",
      "|{\"solution\": \"def box_office_percent_change(grosses):\\n    \\\"\\\"\\\"Return a list of week-over-week percent changes of box-office grosses.\\n    The first element is always None because there is no previous week.\\n    Each subsequent element is rounded to one decimal place. If the previous\\n    week's gross is 0 (cannot divide), the change is set to None.\\n    \\n    Parameters\\n    ----------\\n    grosses : list[float|int]\\n        Weekly gross earnings.\\n\\n    Returns\\n    -------\\n    list[None|float]\\n        Percent change list, first element None.\\n    \\\"\\\"\\\"\\n\\n    if not isinstance(grosses, list):\\n        raise TypeError(\\\"Input must be a list of numbers\\\")\\n\\n    changes = [None]\\n    for prev, curr in zip(grosses[:-1], grosses[1:]):\\n        if prev == 0:\\n            changes.append(None)\\n        else:\\n            pct = (curr - prev) / prev * 100\\n            changes.append(round(pct, 1))\\n    return changes\", \"tests\": [{\"type\": \"basic\", \"inputs\": [[100, 110, 121]], \"output\": [None, 10.0, 10.0]}, {\"type\": \"basic\", \"inputs\": [[200, 150, 300]], \"output\": [None, -25.0, 100.0]}, {\"type\": \"edge_case\", \"inputs\": [[0, 100, 50]], \"output\": [None, None, -50.0]}, {\"type\": \"edge_case\", \"inputs\": [[500]], \"output\": [None]}, {\"type\": \"edge_case\", \"inputs\": [[100, 100, 100, 100]], \"output\": [None, 0.0, 0.0, 0.0]}]}|\n",
      "[Problem filter_short_trailers] Try 1/3\n",
      "   \u001b[92mfilter_short_trailers([[{'url': 'https://youtube.com/watch?v=abc', 'duration': 100}, {'url': 'https://vimeo.com/vid123', 'duration': 80}, {'url': 'https://example.com/trailer', 'duration': 50}], 90, ['youtube.com', 'vimeo.com']]) -> ['https://vimeo.com/vid123'] vs. ['https://vimeo.com/vid123']\u001b[0m\n",
      "   \u001b[92mfilter_short_trailers([[], 120, ['youtube.com']]) -> [] vs. []\u001b[0m\n",
      "   \u001b[92mfilter_short_trailers([[{'url': 'https://site.com/clip', 'duration': 60}], 60, ['site.com']]) -> [] vs. []\u001b[0m\n",
      "   \u001b[92mfilter_short_trailers([[{'url': 'https://youtube.com/tr1', 'duration': 30}, {'url': 'https://vimeo.com/tr2', 'duration': 40}], 50, []]) -> [] vs. []\u001b[0m\n",
      "   \u001b[92mfilter_short_trailers([[{'url': 'https://YouTube.com/test', 'duration': 20}, {'url': 'https://vimeo.com/xyz', 'duration': 19}], 25, ['youtube.com', 'vimeo.com']]) -> ['https://vimeo.com/xyz'] vs. ['https://vimeo.com/xyz']\u001b[0m\n"
     ]
    }
   ],
   "source": [
    "from llms import generate_json\n",
    "import tqdm, json\n",
    "\n",
    "MODEL = \"t-o3\"\n",
    "\n",
    "prompt_solution = \"\"\"\n",
    "You are given the high-level description of a Python programming problem. Your objective is to produce two outputs:\n",
    "1. `solution` - a block of Python code which only includes (1) imports if necessary, (2) a single function definition with the name `[[NAME]]`. So it should start as :`def [[name]]`\n",
    "2. `tests` - a list of 4-6 unit tests for the given problem. Each unit test uses the following schema: {\"type\": \"basic|edge_case\", \"inputs\": [1, [1,2,3]], \"output\": 4} where the `type` is either `basic` or `edge_case`, and the `inputs` are the inputs to the function. The `output` is the expected output of the function.\n",
    "\n",
    "The `solution` should be a valid Python function that can be executed. The `tests` should be a list of valid Python unit tests that can be executed.\n",
    "\n",
    "Here's an example of of the completion of the task:\n",
    "Example Problem:\n",
    "Sort the given list by string length and if length is the same, then by alphabetical order.\n",
    "\n",
    "Problem Name: sort_by_length_and_alphabetical\n",
    "\n",
    "{\"solution\": \"def sort_by_length_and_alphabetical(lst):\\n\\treturn sorted(lst, key=lambda x: (len(x), x))\",\n",
    "\"tests\": [{\"type\": \"basic\", \"inputs\": [[\"apple\", \"banana\", \"cherry\"]], \"output\": [\"apple\", \"cherry\", \"banana\"]},\n",
    "{\"type\": \"edge_case\", \"inputs\": [[\"abc\", \"def\", \"ghi\"]], \"output\": [\"abc\", \"def\", \"ghi\"]},\n",
    "{\"type\": \"edge_case\", \"inputs\": [[]], \"output\": []},\n",
    "{\"type\": \"edge_case\", \"inputs\": [[\"c\", \"d\", \"c\"]], \"output\": [\"c\", \"c\", \"d\"]}\n",
    "]\n",
    "}\n",
    "\n",
    "Now complete the task for the following problem:\n",
    "\n",
    "Problem Name: [[NAME]]\n",
    "\n",
    "Problem Description: [[DESCRIPTION]]\n",
    "\n",
    "Only output JSON in the format shown in the example above.\"\"\"\n",
    "\n",
    "with open(\"data/code_synthetic_problems_0.1.json\", \"r\") as f:\n",
    "    data = json.load(f)\n",
    "\n",
    "def evaluate_synthetic_problem(extracted_answer, tests, func_name, printing=False):\n",
    "    import ast\n",
    "    # Clean the code\n",
    "    pred_python_code = extracted_answer.replace(\"```python\", \"\").replace(\"```\", \"\").strip()\n",
    "    \n",
    "    # Parse the code to extract imports\n",
    "    try:\n",
    "        tree = ast.parse(pred_python_code)\n",
    "        imports = []\n",
    "        for node in tree.body:\n",
    "            if isinstance(node, (ast.Import, ast.ImportFrom)):\n",
    "                imports.append(ast.unparse(node))\n",
    "        \n",
    "        # Create global scope with builtins\n",
    "        global_scope = {\"__builtins__\": __builtins__}\n",
    "        \n",
    "        # Execute imports first to populate global scope\n",
    "        for import_stmt in imports:\n",
    "            exec(import_stmt, global_scope)\n",
    "        \n",
    "        # Execute the full code in the enriched global scope\n",
    "        local_scope = {}\n",
    "        exec(pred_python_code, global_scope, local_scope)\n",
    "        \n",
    "        func = local_scope.get(func_name)\n",
    "        if not callable(func):\n",
    "            raise ValueError(f\"Function {func_name} not found in extracted answer.\")\n",
    "\n",
    "        for test in tests:\n",
    "            inputs = test[\"inputs\"]\n",
    "            output = test[\"output\"]\n",
    "            result = func(*inputs)\n",
    "            if printing:\n",
    "                valid = result == output\n",
    "                color = \"\\033[92m\" if valid else \"\\033[91m\"\n",
    "                print(f\"   {color}{func_name}({inputs}) -> {result} vs. {output}\\033[0m\")\n",
    "            if result != output:\n",
    "                return False\n",
    "        return True\n",
    "        \n",
    "    except Exception as e:\n",
    "        if printing:\n",
    "            print(f\"\\033[91mError executing code: {e}\\033[0m\")\n",
    "        return False\n",
    "\n",
    "\n",
    "for problem in tqdm.tqdm_notebook(data):\n",
    "    if \"verified\" in problem:\n",
    "        continue\n",
    "    n_tries = 0\n",
    "    while n_tries < 3:\n",
    "        n_tries += 1\n",
    "        print(f\"[Problem {problem['name']}] Try {n_tries}/3\")\n",
    "        try:\n",
    "            response = generate_json([{\"role\": \"user\", \"content\": prompt_solution}], model=MODEL, variables={\"NAME\": problem[\"name\"], \"DESCRIPTION\": problem[\"description\"]})\n",
    "            solution = response[\"solution\"]\n",
    "            tests = response[\"tests\"]\n",
    "        except Exception as e:\n",
    "            continue\n",
    "\n",
    "        problem[\"verified\"] = evaluate_synthetic_problem(solution, tests, problem[\"name\"], printing=True)\n",
    "        if problem[\"verified\"]:\n",
    "            problem[\"reference_solution\"] = solution\n",
    "            problem[\"reference_tests\"] = tests\n",
    "            break\n",
    "\n",
    "    with open(\"data/code_synthetic_problems_0.1.json\", \"w\") as f:\n",
    "        json.dump(data, f)"
   ]
  },
  {
   "cell_type": "code",
   "execution_count": 4,
   "id": "bc1bda66",
   "metadata": {},
   "outputs": [
    {
     "name": "stdout",
     "output_type": "stream",
     "text": [
      "Counter({True: 81, -1: 14, False: 5})\n"
     ]
    }
   ],
   "source": [
    "from collections import Counter\n",
    "import json\n",
    "\n",
    "with open(\"data/code_synthetic_problems_0.1.json\", \"r\") as f:\n",
    "    data = json.load(f)\n",
    "\n",
    "print(Counter([problem.get(\"verified\", -1) for problem in data]))"
   ]
  },
  {
   "cell_type": "markdown",
   "id": "55e9ee6f",
   "metadata": {},
   "source": [
    "## 3. Generate Sharded Instructions"
   ]
  },
  {
   "cell_type": "code",
   "execution_count": null,
   "id": "bb45c2c7",
   "metadata": {},
   "outputs": [
    {
     "name": "stderr",
     "output_type": "stream",
     "text": [
      "/tmp/ipykernel_3989542/2800604325.py:44: TqdmDeprecationWarning: This function will be removed in tqdm==5.0.0\n",
      "Please use `tqdm.notebook.tqdm` instead of `tqdm.tqdm_notebook`\n",
      "  for problem in tqdm.tqdm_notebook(data):\n"
     ]
    },
    {
     "data": {
      "application/vnd.jupyter.widget-view+json": {
       "model_id": "28ffa8561d5341e9bdb2adaddb351dd2",
       "version_major": 2,
       "version_minor": 0
      },
      "text/plain": [
       "  0%|          | 0/100 [00:00<?, ?it/s]"
      ]
     },
     "metadata": {},
     "output_type": "display_data"
    },
    {
     "name": "stderr",
     "output_type": "stream",
     "text": [
      "WARNING:root:[llms] The following keys were not replaced: ['{\"name\": \"Alpha\", \"risk\": 2}, {\"name\": \"Beta\", \"risk\": 1}, {\"name\": \"Gamma\", \"risk\": 3}', '{\"name\": \"X\", \"risk\": 5}, {\"name\": \"Y\", \"risk\": 5}, {\"name\": \"Z\", \"risk\": 1}', '{\"name\": \"PortfolioA\", \"risk\": 10}', '{\"name\": \"AAA\", \"risk\": 0}, {\"name\": \"BBB\", \"risk\": 0}, {\"name\": \"CCC\", \"risk\": 0}']\n",
      "WARNING:root:[llms] The following keys were not replaced: ['\"aapl\", \"MSFT \", \"goog\"', '\"Aapl\", \"a a p l\", \"AAP L\", \"msft\"', '\"brk.b\", \"BRK B\", \"Brk-B\"', '\"\", \" \", \"!!!\", \"tsla\"', '\"TSLA\", \"TSLA\", \"TSLA\"']\n",
      "WARNING:root:[llms] The following keys were not replaced: ['[7, 7']\n",
      "WARNING:root:[llms] The following keys were not replaced: ['36.5, 38.2, 39.0, 37.8', '36, 37, 38, 37', '39, 39', '38, 38.5, 38.6', '37, 39, 37, 39, 39']\n",
      "WARNING:root:[llms] The following keys were not replaced: ['\"\"', '\"a\", \"abc\"', '\"a\", \"a\"', '\"The quick brown fox jumps over the lazy dog\"']\n",
      "WARNING:root:[llms] The following keys were not replaced: ['\"I love #Python and #AI\", \"Learning #python is fun\", \"#AI will rule the world\"', '\"#one #two\", \"#three #Four\"', '\"Testing #Tag_1 #tag_1 #TAG_2\", \"Another #tag_1 post\"']\n",
      "WARNING:root:[llms] The following keys were not replaced: ['\"us\", \"ca\", \"mx\"', '\"us\", \"ca\", \"mx\", \"uk\", \"fr\"', '\"aa\", \"bb\", \"cc\", \"dd\", \"ee\", \"ff\"', '\"in\"']\n",
      "WARNING:root:[llms] The following keys were not replaced: ['{\"name\": \"Canada\", \"is_border\": true}, {\"name\": \"Xenon\", \"is_border\": true}, {\"name\": \"USA\", \"is_border\": false}', '{\"name\": \"Brazil\", \"is_border\": true}, {\"name\": \"Argentina\", \"is_border\": true}', '{\"name\": \"xenia\", \"is_border\": true}, {\"name\": \"Xavier\", \"is_border\": true}', '{\"name\": \"XCountry\", \"is_border\": true}']\n",
      "WARNING:root:[llms] The following keys were not replaced: ['\"CamelCase\"', '\"HTMLParser\"', '\"getURLResponse\"', '\"already_snake\"', '\"JSON2XMLConverter\", \"MyHTTPServer\"']\n",
      "WARNING:root:[llms] The following keys were not replaced: ['100, 90, 95, 80', '1, 2, 3, 4', '80', '90, 70, 70, 60', '100, 90, 90, 95, 85, 85, 70']\n",
      "WARNING:root:[llms] The following keys were not replaced: ['10, 20']\n",
      "WARNING:root:[llms] The following keys were not replaced: ['\"2023-01-01\", \"2023-01-02\", \"2023-01-05\", \"2023-01-06\", \"2023-01-07\"', '\"2023-03-10\", \"2023-03-11\", \"2023-03-12\", \"2023-03-13\", \"2023-03-14\", \"2023-03-15\"', '\"2023-01-01\", \"2023-01-03\", \"2023-01-05\"', '\"2020-02-28\", \"2020-02-29\", \"2020-03-01\"']\n",
      "WARNING:root:[llms] The following keys were not replaced: ['2, 3, 4, 5, 6, 7', '10, 11, 12, 13, 14, 15', '-3, -2, 0, 1', '99991, 99989, 100000']\n",
      "WARNING:root:[llms] The following keys were not replaced: ['\"12345\", \"987654321\"', '123, 456789012345', '\"000123456789\"', '0']\n",
      "WARNING:root:[llms] The following keys were not replaced: ['{\"id\": 1, \"cost\": 50, \"price\": 100}, {\"id\": 2, \"cost\": 30, \"price\": 60}, {\"id\": 3, \"cost\": 20, \"price\": 25}', '{\"id\": 10, \"cost\": 80, \"price\": 120}, {\"id\": 11, \"cost\": 40, \"price\": 60}, {\"id\": 12, \"cost\": 50, \"price\": 100}', '{\"id\": 4, \"cost\": 20, \"price\": 30}, {\"id\": 5, \"cost\": 40, \"price\": 60}, {\"id\": 6, \"cost\": 50, \"price\": 60}', '{\"id\": 99, \"cost\": 10, \"price\": 15}']\n",
      "WARNING:root:[llms] The following keys were not replaced: ['[5, 3, 1']\n",
      "WARNING:root:[llms] The following keys were not replaced: ['0, 1, 2', '3, 3, 3', '0, 2, 4, 6, 8, 10, 12, 14', '15']\n",
      "WARNING:root:[llms] The following keys were not replaced: ['10, 10, 10', '1, 2, 3', '0, 0, 0', '5.5, 2.2']\n",
      "WARNING:root:[llms] The following keys were not replaced: ['{\"title\": \"Track A\", \"bpm\": 120, \"popularity\": 80}, {\"title\": \"Track B\", \"bpm\": 110, \"popularity\": 90}, {\"title\": \"Track C\", \"bpm\": 120, \"popularity\": 85}', '{\"title\": \"T1\", \"bpm\": 100, \"popularity\": 50}, {\"title\": \"T2\", \"bpm\": 100, \"popularity\": 60}', '{\"title\": \"Solo\", \"bpm\": 128, \"popularity\": 70}', '{\"title\": \"LowPop\", \"bpm\": 90, \"popularity\": -5}, {\"title\": \"HighPop\", \"bpm\": 90, \"popularity\": 0}, {\"title\": \"Fast\", \"bpm\": 150, \"popularity\": 100}']\n",
      "WARNING:root:[llms] The following keys were not replaced: ['\"06:30\", \"06:29\", \"06:28\"', '\"07:00\", \"07:05\", \"07:10\"', '\"05:50\"', '\"06:00\", \"05:59\", \"06:01\", \"05:58\"', '\"23:59\", \"00:00\"']\n",
      "WARNING:root:[llms] The following keys were not replaced: ['\"1.0\", \"1.0\", \"2.0\", \"3.1\", \"3.1\", \"3.1\"', '\"A\", \"B\", \"A\", \"C\", \"B\", \"A\"', '\"v1\"', '\"x\", \"y\", \"z\", \"z\"']\n",
      "WARNING:root:[llms] The following keys were not replaced: ['[1']\n",
      "WARNING:root:[llms] The following keys were not replaced: ['[\"Solar\", \"Hydro\"']\n",
      "WARNING:root:[llms] The following keys were not replaced: ['\"Brad Pitt\"', '\"Brad Pitt\", \"Leonardo DiCaprio\"', '\"Brad Pitt\", \"Leonardo DiCaprio\", \"Margot Robbie\"', '\"A\", \"B\", \"C\", \"D\"']\n"
     ]
    }
   ],
   "source": [
    "from llms import generate_json\n",
    "import tqdm, json\n",
    "\n",
    "MODEL = \"t-o3\"\n",
    "\n",
    "prompt_solution = \"\"\"You are given a problem statement for a Python programming problem, a full solution to the problem, and a list of unit tests for the problem.\n",
    "Your objective is to produce a equivalent problem statement called the \"sharded_instruction\" which consists of exactly 4 shards that reveal the same information in the original problem, but split across the shards.\n",
    "\n",
    "For example:\n",
    "Example Problem Statement:\n",
    "Given an array of integers, sort the integers that are between 1 and 9 inclusive, reverse the resulting array, and then replace each digit by its corresponding name from \"One\", \"Two\", \"Three\", \"Four\", \"Five\", \"Six\", \"Seven\", \"Eight\", \"Nine\".\n",
    "\n",
    "Example Output Sharded Instruction:\n",
    "{\"sharded_instruction\": [\n",
    "  {\"shard_id\": 1, \"shard\": \"Turn digits into names (like 'One') in a list\"},\n",
    "  {\"shard_id\": 2, \"shard\": \"Sort numbers if they're between 1 and 9\"},\n",
    "  {\"shard_id\": 3, \"shard\": \"Then flip the list around\"},\n",
    "  {\"shard_id\": 4, \"shard\": \"For instance, from [1, -1, 55] you'll get ['One']\"}\n",
    "]}\n",
    "\n",
    "Careful:\n",
    "- [Underspecified] None of the shards should reveal enough information to solve the entire problem.\n",
    "- [Informal] The shards should mimic the style of a real user, and do not need to be in perfect english or have perfect grammar.\n",
    "- [Clearly Defined Inputs / Outputs] The shards should clearly define the inputs and outputs of the problem.\n",
    "- [Initial Intent] Shard 1 should contain the overall intent for the problem. Follow-up shards can add to the specification.\n",
    "- [Short Shards] Shards should all be short, like the ones in the example (up to 10-15 words).\n",
    "- [Avoid using fancy notation] The shards must not contain any of the following characters colons, semi-colons, brackets, parentheses, etc. Just use plain english.\n",
    "\n",
    "Now generate the sharded instruction for the following instruction, following the JSON schema shown in the example.\n",
    "\n",
    "Instruction:\n",
    "[[INSTRUCTION]]\n",
    "\n",
    "Full Solution:\n",
    "[[SOLUTION]]\n",
    "\n",
    "Unit Tests:\n",
    "[[TESTS]]\"\"\"\n",
    "\n",
    "\n",
    "with open(\"data/code_synthetic_problems_0.1.json\", \"r\") as f:\n",
    "    data = json.load(f)\n",
    "\n",
    "for problem in tqdm.tqdm_notebook(data):\n",
    "    if not problem.get(\"verified\", False) or \"sharded_instruction\" in problem:\n",
    "        continue\n",
    "\n",
    "    # Generate the sharded instruction\n",
    "    try:\n",
    "        problem[\"shards\"] = generate_json([{\"role\": \"user\", \"content\": prompt_solution}], model=MODEL, variables={\"INSTRUCTION\": problem[\"description\"], \"SOLUTION\": problem[\"reference_solution\"], \"TESTS\": json.dumps(problem[\"reference_tests\"])})[\"sharded_instruction\"]\n",
    "    except Exception as e:\n",
    "        print(e)\n",
    "        continue\n",
    "\n",
    "    with open(\"data/code_synthetic_problems_0.1.json\", \"w\") as f:\n",
    "        json.dump(data, f)\n"
   ]
  },
  {
   "cell_type": "code",
   "execution_count": 17,
   "id": "3f7bf075",
   "metadata": {},
   "outputs": [],
   "source": [
    "with open(\"data/code_synthetic_problems_0.1.json\", \"r\") as f:\n",
    "    data = json.load(f)\n",
    "\n",
    "verified_samples = [d for d in data if d.get(\"verified\", False)]\n",
    "for d in verified_samples:\n",
    "    if \"sharded_instruction\" in d:\n",
    "        d[\"shards\"] = d[\"sharded_instruction\"]\n",
    "        del d[\"sharded_instruction\"]\n",
    "    d[\"task\"] = \"code\"\n",
    "    d[\"task_id\"] = f\"sharded-synthetic-code-{d['problem_id']}\"\n",
    "\n",
    "with open(\"data/code_synthetic_problems_0.1_verified.json\", \"w\") as f:\n",
    "    json.dump(verified_samples, f, indent=4)"
   ]
  },
  {
   "cell_type": "code",
   "execution_count": 6,
   "id": "06006c93",
   "metadata": {},
   "outputs": [
    {
     "name": "stdout",
     "output_type": "stream",
     "text": [
      "Counter({'✅': 43, '❌': 38})\n"
     ]
    },
    {
     "data": {
      "text/html": [
       "<div>\n",
       "<style scoped>\n",
       "    .dataframe tbody tr th:only-of-type {\n",
       "        vertical-align: middle;\n",
       "    }\n",
       "\n",
       "    .dataframe tbody tr th {\n",
       "        vertical-align: top;\n",
       "    }\n",
       "\n",
       "    .dataframe thead th {\n",
       "        text-align: right;\n",
       "    }\n",
       "</style>\n",
       "<table border=\"1\" class=\"dataframe\">\n",
       "  <thead>\n",
       "    <tr style=\"text-align: right;\">\n",
       "      <th></th>\n",
       "      <th>task_id</th>\n",
       "      <th>full-avg</th>\n",
       "      <th>concat-avg</th>\n",
       "      <th>shuffle-concat-avg</th>\n",
       "      <th>acceptable</th>\n",
       "      <th>sharded-avg</th>\n",
       "    </tr>\n",
       "  </thead>\n",
       "  <tbody>\n",
       "    <tr>\n",
       "      <th>0</th>\n",
       "      <td>sharded-synthetic-code-26</td>\n",
       "      <td>0.000</td>\n",
       "      <td>0.500</td>\n",
       "      <td>1.000</td>\n",
       "      <td>❌</td>\n",
       "      <td>0.125</td>\n",
       "    </tr>\n",
       "    <tr>\n",
       "      <th>1</th>\n",
       "      <td>sharded-synthetic-code-86</td>\n",
       "      <td>0.125</td>\n",
       "      <td>1.000</td>\n",
       "      <td>1.000</td>\n",
       "      <td>❌</td>\n",
       "      <td>0.500</td>\n",
       "    </tr>\n",
       "    <tr>\n",
       "      <th>2</th>\n",
       "      <td>sharded-synthetic-code-82</td>\n",
       "      <td>1.000</td>\n",
       "      <td>0.750</td>\n",
       "      <td>0.750</td>\n",
       "      <td>✅</td>\n",
       "      <td>0.375</td>\n",
       "    </tr>\n",
       "    <tr>\n",
       "      <th>3</th>\n",
       "      <td>sharded-synthetic-code-5</td>\n",
       "      <td>1.000</td>\n",
       "      <td>1.000</td>\n",
       "      <td>1.000</td>\n",
       "      <td>✅</td>\n",
       "      <td>0.875</td>\n",
       "    </tr>\n",
       "    <tr>\n",
       "      <th>4</th>\n",
       "      <td>sharded-synthetic-code-66</td>\n",
       "      <td>1.000</td>\n",
       "      <td>1.000</td>\n",
       "      <td>0.875</td>\n",
       "      <td>✅</td>\n",
       "      <td>0.375</td>\n",
       "    </tr>\n",
       "    <tr>\n",
       "      <th>5</th>\n",
       "      <td>sharded-synthetic-code-92</td>\n",
       "      <td>1.000</td>\n",
       "      <td>1.000</td>\n",
       "      <td>1.000</td>\n",
       "      <td>✅</td>\n",
       "      <td>0.250</td>\n",
       "    </tr>\n",
       "    <tr>\n",
       "      <th>6</th>\n",
       "      <td>sharded-synthetic-code-91</td>\n",
       "      <td>0.000</td>\n",
       "      <td>1.000</td>\n",
       "      <td>1.000</td>\n",
       "      <td>❌</td>\n",
       "      <td>1.000</td>\n",
       "    </tr>\n",
       "    <tr>\n",
       "      <th>7</th>\n",
       "      <td>sharded-synthetic-code-65</td>\n",
       "      <td>1.000</td>\n",
       "      <td>1.000</td>\n",
       "      <td>1.000</td>\n",
       "      <td>✅</td>\n",
       "      <td>0.250</td>\n",
       "    </tr>\n",
       "    <tr>\n",
       "      <th>8</th>\n",
       "      <td>sharded-synthetic-code-6</td>\n",
       "      <td>1.000</td>\n",
       "      <td>1.000</td>\n",
       "      <td>1.000</td>\n",
       "      <td>✅</td>\n",
       "      <td>1.000</td>\n",
       "    </tr>\n",
       "    <tr>\n",
       "      <th>9</th>\n",
       "      <td>sharded-synthetic-code-8</td>\n",
       "      <td>0.500</td>\n",
       "      <td>1.000</td>\n",
       "      <td>0.750</td>\n",
       "      <td>❌</td>\n",
       "      <td>1.000</td>\n",
       "    </tr>\n",
       "    <tr>\n",
       "      <th>10</th>\n",
       "      <td>sharded-synthetic-code-85</td>\n",
       "      <td>1.000</td>\n",
       "      <td>1.000</td>\n",
       "      <td>1.000</td>\n",
       "      <td>✅</td>\n",
       "      <td>0.875</td>\n",
       "    </tr>\n",
       "    <tr>\n",
       "      <th>11</th>\n",
       "      <td>sharded-synthetic-code-73</td>\n",
       "      <td>1.000</td>\n",
       "      <td>1.000</td>\n",
       "      <td>1.000</td>\n",
       "      <td>✅</td>\n",
       "      <td>0.125</td>\n",
       "    </tr>\n",
       "    <tr>\n",
       "      <th>12</th>\n",
       "      <td>sharded-synthetic-code-50</td>\n",
       "      <td>0.000</td>\n",
       "      <td>0.000</td>\n",
       "      <td>0.125</td>\n",
       "      <td>❌</td>\n",
       "      <td>0.250</td>\n",
       "    </tr>\n",
       "    <tr>\n",
       "      <th>13</th>\n",
       "      <td>sharded-synthetic-code-33</td>\n",
       "      <td>1.000</td>\n",
       "      <td>1.000</td>\n",
       "      <td>1.000</td>\n",
       "      <td>✅</td>\n",
       "      <td>0.875</td>\n",
       "    </tr>\n",
       "    <tr>\n",
       "      <th>14</th>\n",
       "      <td>sharded-synthetic-code-90</td>\n",
       "      <td>0.250</td>\n",
       "      <td>0.875</td>\n",
       "      <td>0.500</td>\n",
       "      <td>❌</td>\n",
       "      <td>0.000</td>\n",
       "    </tr>\n",
       "    <tr>\n",
       "      <th>15</th>\n",
       "      <td>sharded-synthetic-code-24</td>\n",
       "      <td>0.125</td>\n",
       "      <td>0.375</td>\n",
       "      <td>0.500</td>\n",
       "      <td>❌</td>\n",
       "      <td>0.250</td>\n",
       "    </tr>\n",
       "    <tr>\n",
       "      <th>16</th>\n",
       "      <td>sharded-synthetic-code-95</td>\n",
       "      <td>1.000</td>\n",
       "      <td>1.000</td>\n",
       "      <td>1.000</td>\n",
       "      <td>✅</td>\n",
       "      <td>1.000</td>\n",
       "    </tr>\n",
       "    <tr>\n",
       "      <th>17</th>\n",
       "      <td>sharded-synthetic-code-87</td>\n",
       "      <td>0.000</td>\n",
       "      <td>0.000</td>\n",
       "      <td>0.000</td>\n",
       "      <td>❌</td>\n",
       "      <td>0.000</td>\n",
       "    </tr>\n",
       "    <tr>\n",
       "      <th>18</th>\n",
       "      <td>sharded-synthetic-code-47</td>\n",
       "      <td>1.000</td>\n",
       "      <td>1.000</td>\n",
       "      <td>0.750</td>\n",
       "      <td>✅</td>\n",
       "      <td>0.000</td>\n",
       "    </tr>\n",
       "    <tr>\n",
       "      <th>19</th>\n",
       "      <td>sharded-synthetic-code-100</td>\n",
       "      <td>0.625</td>\n",
       "      <td>1.000</td>\n",
       "      <td>0.625</td>\n",
       "      <td>❌</td>\n",
       "      <td>0.875</td>\n",
       "    </tr>\n",
       "    <tr>\n",
       "      <th>20</th>\n",
       "      <td>sharded-synthetic-code-13</td>\n",
       "      <td>1.000</td>\n",
       "      <td>0.875</td>\n",
       "      <td>1.000</td>\n",
       "      <td>✅</td>\n",
       "      <td>0.500</td>\n",
       "    </tr>\n",
       "    <tr>\n",
       "      <th>21</th>\n",
       "      <td>sharded-synthetic-code-11</td>\n",
       "      <td>1.000</td>\n",
       "      <td>1.000</td>\n",
       "      <td>1.000</td>\n",
       "      <td>✅</td>\n",
       "      <td>1.000</td>\n",
       "    </tr>\n",
       "    <tr>\n",
       "      <th>22</th>\n",
       "      <td>sharded-synthetic-code-80</td>\n",
       "      <td>1.000</td>\n",
       "      <td>0.750</td>\n",
       "      <td>1.000</td>\n",
       "      <td>✅</td>\n",
       "      <td>1.000</td>\n",
       "    </tr>\n",
       "    <tr>\n",
       "      <th>23</th>\n",
       "      <td>sharded-synthetic-code-35</td>\n",
       "      <td>1.000</td>\n",
       "      <td>1.000</td>\n",
       "      <td>1.000</td>\n",
       "      <td>✅</td>\n",
       "      <td>1.000</td>\n",
       "    </tr>\n",
       "    <tr>\n",
       "      <th>24</th>\n",
       "      <td>sharded-synthetic-code-63</td>\n",
       "      <td>0.750</td>\n",
       "      <td>0.125</td>\n",
       "      <td>0.250</td>\n",
       "      <td>❌</td>\n",
       "      <td>0.625</td>\n",
       "    </tr>\n",
       "    <tr>\n",
       "      <th>25</th>\n",
       "      <td>sharded-synthetic-code-49</td>\n",
       "      <td>1.000</td>\n",
       "      <td>1.000</td>\n",
       "      <td>0.875</td>\n",
       "      <td>✅</td>\n",
       "      <td>1.000</td>\n",
       "    </tr>\n",
       "    <tr>\n",
       "      <th>26</th>\n",
       "      <td>sharded-synthetic-code-78</td>\n",
       "      <td>0.625</td>\n",
       "      <td>1.000</td>\n",
       "      <td>1.000</td>\n",
       "      <td>❌</td>\n",
       "      <td>1.000</td>\n",
       "    </tr>\n",
       "    <tr>\n",
       "      <th>27</th>\n",
       "      <td>sharded-synthetic-code-96</td>\n",
       "      <td>0.000</td>\n",
       "      <td>0.125</td>\n",
       "      <td>0.000</td>\n",
       "      <td>❌</td>\n",
       "      <td>0.000</td>\n",
       "    </tr>\n",
       "    <tr>\n",
       "      <th>28</th>\n",
       "      <td>sharded-synthetic-code-27</td>\n",
       "      <td>1.000</td>\n",
       "      <td>1.000</td>\n",
       "      <td>1.000</td>\n",
       "      <td>✅</td>\n",
       "      <td>0.875</td>\n",
       "    </tr>\n",
       "    <tr>\n",
       "      <th>29</th>\n",
       "      <td>sharded-synthetic-code-38</td>\n",
       "      <td>0.375</td>\n",
       "      <td>1.000</td>\n",
       "      <td>1.000</td>\n",
       "      <td>❌</td>\n",
       "      <td>1.000</td>\n",
       "    </tr>\n",
       "    <tr>\n",
       "      <th>30</th>\n",
       "      <td>sharded-synthetic-code-34</td>\n",
       "      <td>1.000</td>\n",
       "      <td>1.000</td>\n",
       "      <td>1.000</td>\n",
       "      <td>✅</td>\n",
       "      <td>1.000</td>\n",
       "    </tr>\n",
       "    <tr>\n",
       "      <th>31</th>\n",
       "      <td>sharded-synthetic-code-67</td>\n",
       "      <td>1.000</td>\n",
       "      <td>0.000</td>\n",
       "      <td>0.000</td>\n",
       "      <td>❌</td>\n",
       "      <td>1.000</td>\n",
       "    </tr>\n",
       "    <tr>\n",
       "      <th>32</th>\n",
       "      <td>sharded-synthetic-code-16</td>\n",
       "      <td>0.750</td>\n",
       "      <td>1.000</td>\n",
       "      <td>1.000</td>\n",
       "      <td>✅</td>\n",
       "      <td>0.000</td>\n",
       "    </tr>\n",
       "    <tr>\n",
       "      <th>33</th>\n",
       "      <td>sharded-synthetic-code-25</td>\n",
       "      <td>1.000</td>\n",
       "      <td>1.000</td>\n",
       "      <td>1.000</td>\n",
       "      <td>✅</td>\n",
       "      <td>0.875</td>\n",
       "    </tr>\n",
       "    <tr>\n",
       "      <th>34</th>\n",
       "      <td>sharded-synthetic-code-60</td>\n",
       "      <td>0.000</td>\n",
       "      <td>1.000</td>\n",
       "      <td>1.000</td>\n",
       "      <td>❌</td>\n",
       "      <td>0.250</td>\n",
       "    </tr>\n",
       "    <tr>\n",
       "      <th>35</th>\n",
       "      <td>sharded-synthetic-code-70</td>\n",
       "      <td>1.000</td>\n",
       "      <td>1.000</td>\n",
       "      <td>1.000</td>\n",
       "      <td>✅</td>\n",
       "      <td>1.000</td>\n",
       "    </tr>\n",
       "    <tr>\n",
       "      <th>36</th>\n",
       "      <td>sharded-synthetic-code-58</td>\n",
       "      <td>0.125</td>\n",
       "      <td>0.375</td>\n",
       "      <td>0.125</td>\n",
       "      <td>❌</td>\n",
       "      <td>0.250</td>\n",
       "    </tr>\n",
       "    <tr>\n",
       "      <th>37</th>\n",
       "      <td>sharded-synthetic-code-71</td>\n",
       "      <td>0.000</td>\n",
       "      <td>0.000</td>\n",
       "      <td>0.000</td>\n",
       "      <td>❌</td>\n",
       "      <td>0.000</td>\n",
       "    </tr>\n",
       "    <tr>\n",
       "      <th>38</th>\n",
       "      <td>sharded-synthetic-code-36</td>\n",
       "      <td>1.000</td>\n",
       "      <td>0.000</td>\n",
       "      <td>0.000</td>\n",
       "      <td>❌</td>\n",
       "      <td>1.000</td>\n",
       "    </tr>\n",
       "    <tr>\n",
       "      <th>39</th>\n",
       "      <td>sharded-synthetic-code-51</td>\n",
       "      <td>0.625</td>\n",
       "      <td>0.000</td>\n",
       "      <td>0.000</td>\n",
       "      <td>❌</td>\n",
       "      <td>0.000</td>\n",
       "    </tr>\n",
       "    <tr>\n",
       "      <th>40</th>\n",
       "      <td>sharded-synthetic-code-44</td>\n",
       "      <td>1.000</td>\n",
       "      <td>1.000</td>\n",
       "      <td>1.000</td>\n",
       "      <td>✅</td>\n",
       "      <td>0.000</td>\n",
       "    </tr>\n",
       "    <tr>\n",
       "      <th>41</th>\n",
       "      <td>sharded-synthetic-code-31</td>\n",
       "      <td>1.000</td>\n",
       "      <td>0.250</td>\n",
       "      <td>0.000</td>\n",
       "      <td>❌</td>\n",
       "      <td>0.875</td>\n",
       "    </tr>\n",
       "    <tr>\n",
       "      <th>42</th>\n",
       "      <td>sharded-synthetic-code-1</td>\n",
       "      <td>0.500</td>\n",
       "      <td>0.625</td>\n",
       "      <td>0.875</td>\n",
       "      <td>❌</td>\n",
       "      <td>0.750</td>\n",
       "    </tr>\n",
       "    <tr>\n",
       "      <th>43</th>\n",
       "      <td>sharded-synthetic-code-4</td>\n",
       "      <td>1.000</td>\n",
       "      <td>1.000</td>\n",
       "      <td>0.625</td>\n",
       "      <td>❌</td>\n",
       "      <td>0.500</td>\n",
       "    </tr>\n",
       "    <tr>\n",
       "      <th>44</th>\n",
       "      <td>sharded-synthetic-code-94</td>\n",
       "      <td>0.000</td>\n",
       "      <td>1.000</td>\n",
       "      <td>0.875</td>\n",
       "      <td>❌</td>\n",
       "      <td>0.125</td>\n",
       "    </tr>\n",
       "    <tr>\n",
       "      <th>45</th>\n",
       "      <td>sharded-synthetic-code-76</td>\n",
       "      <td>0.000</td>\n",
       "      <td>0.375</td>\n",
       "      <td>0.125</td>\n",
       "      <td>❌</td>\n",
       "      <td>0.125</td>\n",
       "    </tr>\n",
       "    <tr>\n",
       "      <th>46</th>\n",
       "      <td>sharded-synthetic-code-43</td>\n",
       "      <td>0.000</td>\n",
       "      <td>1.000</td>\n",
       "      <td>1.000</td>\n",
       "      <td>❌</td>\n",
       "      <td>1.000</td>\n",
       "    </tr>\n",
       "    <tr>\n",
       "      <th>47</th>\n",
       "      <td>sharded-synthetic-code-54</td>\n",
       "      <td>1.000</td>\n",
       "      <td>1.000</td>\n",
       "      <td>0.625</td>\n",
       "      <td>❌</td>\n",
       "      <td>0.000</td>\n",
       "    </tr>\n",
       "    <tr>\n",
       "      <th>48</th>\n",
       "      <td>sharded-synthetic-code-23</td>\n",
       "      <td>1.000</td>\n",
       "      <td>1.000</td>\n",
       "      <td>1.000</td>\n",
       "      <td>✅</td>\n",
       "      <td>1.000</td>\n",
       "    </tr>\n",
       "    <tr>\n",
       "      <th>49</th>\n",
       "      <td>sharded-synthetic-code-37</td>\n",
       "      <td>1.000</td>\n",
       "      <td>1.000</td>\n",
       "      <td>1.000</td>\n",
       "      <td>✅</td>\n",
       "      <td>1.000</td>\n",
       "    </tr>\n",
       "    <tr>\n",
       "      <th>50</th>\n",
       "      <td>sharded-synthetic-code-17</td>\n",
       "      <td>0.875</td>\n",
       "      <td>1.000</td>\n",
       "      <td>1.000</td>\n",
       "      <td>✅</td>\n",
       "      <td>0.500</td>\n",
       "    </tr>\n",
       "    <tr>\n",
       "      <th>51</th>\n",
       "      <td>sharded-synthetic-code-48</td>\n",
       "      <td>0.000</td>\n",
       "      <td>0.000</td>\n",
       "      <td>0.000</td>\n",
       "      <td>❌</td>\n",
       "      <td>0.125</td>\n",
       "    </tr>\n",
       "    <tr>\n",
       "      <th>52</th>\n",
       "      <td>sharded-synthetic-code-41</td>\n",
       "      <td>1.000</td>\n",
       "      <td>1.000</td>\n",
       "      <td>1.000</td>\n",
       "      <td>✅</td>\n",
       "      <td>0.750</td>\n",
       "    </tr>\n",
       "    <tr>\n",
       "      <th>53</th>\n",
       "      <td>sharded-synthetic-code-98</td>\n",
       "      <td>1.000</td>\n",
       "      <td>1.000</td>\n",
       "      <td>1.000</td>\n",
       "      <td>✅</td>\n",
       "      <td>0.875</td>\n",
       "    </tr>\n",
       "    <tr>\n",
       "      <th>54</th>\n",
       "      <td>sharded-synthetic-code-61</td>\n",
       "      <td>1.000</td>\n",
       "      <td>1.000</td>\n",
       "      <td>1.000</td>\n",
       "      <td>✅</td>\n",
       "      <td>1.000</td>\n",
       "    </tr>\n",
       "    <tr>\n",
       "      <th>55</th>\n",
       "      <td>sharded-synthetic-code-2</td>\n",
       "      <td>1.000</td>\n",
       "      <td>1.000</td>\n",
       "      <td>1.000</td>\n",
       "      <td>✅</td>\n",
       "      <td>1.000</td>\n",
       "    </tr>\n",
       "    <tr>\n",
       "      <th>56</th>\n",
       "      <td>sharded-synthetic-code-30</td>\n",
       "      <td>1.000</td>\n",
       "      <td>1.000</td>\n",
       "      <td>1.000</td>\n",
       "      <td>✅</td>\n",
       "      <td>0.500</td>\n",
       "    </tr>\n",
       "    <tr>\n",
       "      <th>57</th>\n",
       "      <td>sharded-synthetic-code-7</td>\n",
       "      <td>1.000</td>\n",
       "      <td>1.000</td>\n",
       "      <td>1.000</td>\n",
       "      <td>✅</td>\n",
       "      <td>0.875</td>\n",
       "    </tr>\n",
       "    <tr>\n",
       "      <th>58</th>\n",
       "      <td>sharded-synthetic-code-22</td>\n",
       "      <td>0.500</td>\n",
       "      <td>0.375</td>\n",
       "      <td>0.125</td>\n",
       "      <td>❌</td>\n",
       "      <td>0.125</td>\n",
       "    </tr>\n",
       "    <tr>\n",
       "      <th>59</th>\n",
       "      <td>sharded-synthetic-code-32</td>\n",
       "      <td>1.000</td>\n",
       "      <td>1.000</td>\n",
       "      <td>1.000</td>\n",
       "      <td>✅</td>\n",
       "      <td>0.875</td>\n",
       "    </tr>\n",
       "    <tr>\n",
       "      <th>60</th>\n",
       "      <td>sharded-synthetic-code-62</td>\n",
       "      <td>0.375</td>\n",
       "      <td>0.125</td>\n",
       "      <td>0.125</td>\n",
       "      <td>❌</td>\n",
       "      <td>0.500</td>\n",
       "    </tr>\n",
       "    <tr>\n",
       "      <th>61</th>\n",
       "      <td>sharded-synthetic-code-55</td>\n",
       "      <td>0.250</td>\n",
       "      <td>1.000</td>\n",
       "      <td>1.000</td>\n",
       "      <td>❌</td>\n",
       "      <td>1.000</td>\n",
       "    </tr>\n",
       "    <tr>\n",
       "      <th>62</th>\n",
       "      <td>sharded-synthetic-code-28</td>\n",
       "      <td>1.000</td>\n",
       "      <td>1.000</td>\n",
       "      <td>0.875</td>\n",
       "      <td>✅</td>\n",
       "      <td>0.875</td>\n",
       "    </tr>\n",
       "    <tr>\n",
       "      <th>63</th>\n",
       "      <td>sharded-synthetic-code-84</td>\n",
       "      <td>0.875</td>\n",
       "      <td>1.000</td>\n",
       "      <td>1.000</td>\n",
       "      <td>✅</td>\n",
       "      <td>0.375</td>\n",
       "    </tr>\n",
       "    <tr>\n",
       "      <th>64</th>\n",
       "      <td>sharded-synthetic-code-89</td>\n",
       "      <td>1.000</td>\n",
       "      <td>1.000</td>\n",
       "      <td>1.000</td>\n",
       "      <td>✅</td>\n",
       "      <td>0.750</td>\n",
       "    </tr>\n",
       "    <tr>\n",
       "      <th>65</th>\n",
       "      <td>sharded-synthetic-code-97</td>\n",
       "      <td>0.125</td>\n",
       "      <td>1.000</td>\n",
       "      <td>0.375</td>\n",
       "      <td>❌</td>\n",
       "      <td>1.000</td>\n",
       "    </tr>\n",
       "    <tr>\n",
       "      <th>66</th>\n",
       "      <td>sharded-synthetic-code-14</td>\n",
       "      <td>0.250</td>\n",
       "      <td>1.000</td>\n",
       "      <td>0.875</td>\n",
       "      <td>❌</td>\n",
       "      <td>0.125</td>\n",
       "    </tr>\n",
       "    <tr>\n",
       "      <th>67</th>\n",
       "      <td>sharded-synthetic-code-40</td>\n",
       "      <td>1.000</td>\n",
       "      <td>0.375</td>\n",
       "      <td>0.250</td>\n",
       "      <td>❌</td>\n",
       "      <td>0.500</td>\n",
       "    </tr>\n",
       "    <tr>\n",
       "      <th>68</th>\n",
       "      <td>sharded-synthetic-code-75</td>\n",
       "      <td>0.625</td>\n",
       "      <td>1.000</td>\n",
       "      <td>1.000</td>\n",
       "      <td>❌</td>\n",
       "      <td>1.000</td>\n",
       "    </tr>\n",
       "    <tr>\n",
       "      <th>69</th>\n",
       "      <td>sharded-synthetic-code-46</td>\n",
       "      <td>1.000</td>\n",
       "      <td>1.000</td>\n",
       "      <td>1.000</td>\n",
       "      <td>✅</td>\n",
       "      <td>1.000</td>\n",
       "    </tr>\n",
       "    <tr>\n",
       "      <th>70</th>\n",
       "      <td>sharded-synthetic-code-53</td>\n",
       "      <td>1.000</td>\n",
       "      <td>1.000</td>\n",
       "      <td>1.000</td>\n",
       "      <td>✅</td>\n",
       "      <td>0.500</td>\n",
       "    </tr>\n",
       "    <tr>\n",
       "      <th>71</th>\n",
       "      <td>sharded-synthetic-code-68</td>\n",
       "      <td>0.000</td>\n",
       "      <td>1.000</td>\n",
       "      <td>0.875</td>\n",
       "      <td>❌</td>\n",
       "      <td>0.250</td>\n",
       "    </tr>\n",
       "    <tr>\n",
       "      <th>72</th>\n",
       "      <td>sharded-synthetic-code-83</td>\n",
       "      <td>0.875</td>\n",
       "      <td>0.000</td>\n",
       "      <td>0.000</td>\n",
       "      <td>❌</td>\n",
       "      <td>0.625</td>\n",
       "    </tr>\n",
       "    <tr>\n",
       "      <th>73</th>\n",
       "      <td>sharded-synthetic-code-52</td>\n",
       "      <td>1.000</td>\n",
       "      <td>1.000</td>\n",
       "      <td>1.000</td>\n",
       "      <td>✅</td>\n",
       "      <td>1.000</td>\n",
       "    </tr>\n",
       "    <tr>\n",
       "      <th>74</th>\n",
       "      <td>sharded-synthetic-code-9</td>\n",
       "      <td>1.000</td>\n",
       "      <td>1.000</td>\n",
       "      <td>1.000</td>\n",
       "      <td>✅</td>\n",
       "      <td>1.000</td>\n",
       "    </tr>\n",
       "    <tr>\n",
       "      <th>75</th>\n",
       "      <td>sharded-synthetic-code-20</td>\n",
       "      <td>1.000</td>\n",
       "      <td>0.000</td>\n",
       "      <td>0.250</td>\n",
       "      <td>❌</td>\n",
       "      <td>0.375</td>\n",
       "    </tr>\n",
       "    <tr>\n",
       "      <th>76</th>\n",
       "      <td>sharded-synthetic-code-10</td>\n",
       "      <td>1.000</td>\n",
       "      <td>1.000</td>\n",
       "      <td>1.000</td>\n",
       "      <td>✅</td>\n",
       "      <td>1.000</td>\n",
       "    </tr>\n",
       "    <tr>\n",
       "      <th>77</th>\n",
       "      <td>sharded-synthetic-code-15</td>\n",
       "      <td>0.125</td>\n",
       "      <td>0.625</td>\n",
       "      <td>0.500</td>\n",
       "      <td>❌</td>\n",
       "      <td>0.000</td>\n",
       "    </tr>\n",
       "    <tr>\n",
       "      <th>78</th>\n",
       "      <td>sharded-synthetic-code-12</td>\n",
       "      <td>1.000</td>\n",
       "      <td>1.000</td>\n",
       "      <td>0.875</td>\n",
       "      <td>✅</td>\n",
       "      <td>0.375</td>\n",
       "    </tr>\n",
       "    <tr>\n",
       "      <th>79</th>\n",
       "      <td>sharded-synthetic-code-21</td>\n",
       "      <td>1.000</td>\n",
       "      <td>1.000</td>\n",
       "      <td>1.000</td>\n",
       "      <td>✅</td>\n",
       "      <td>0.875</td>\n",
       "    </tr>\n",
       "    <tr>\n",
       "      <th>80</th>\n",
       "      <td>sharded-synthetic-code-69</td>\n",
       "      <td>1.000</td>\n",
       "      <td>1.000</td>\n",
       "      <td>1.000</td>\n",
       "      <td>✅</td>\n",
       "      <td>1.000</td>\n",
       "    </tr>\n",
       "  </tbody>\n",
       "</table>\n",
       "</div>"
      ],
      "text/plain": [
       "                       task_id  full-avg  concat-avg  shuffle-concat-avg  \\\n",
       "0    sharded-synthetic-code-26     0.000       0.500               1.000   \n",
       "1    sharded-synthetic-code-86     0.125       1.000               1.000   \n",
       "2    sharded-synthetic-code-82     1.000       0.750               0.750   \n",
       "3     sharded-synthetic-code-5     1.000       1.000               1.000   \n",
       "4    sharded-synthetic-code-66     1.000       1.000               0.875   \n",
       "5    sharded-synthetic-code-92     1.000       1.000               1.000   \n",
       "6    sharded-synthetic-code-91     0.000       1.000               1.000   \n",
       "7    sharded-synthetic-code-65     1.000       1.000               1.000   \n",
       "8     sharded-synthetic-code-6     1.000       1.000               1.000   \n",
       "9     sharded-synthetic-code-8     0.500       1.000               0.750   \n",
       "10   sharded-synthetic-code-85     1.000       1.000               1.000   \n",
       "11   sharded-synthetic-code-73     1.000       1.000               1.000   \n",
       "12   sharded-synthetic-code-50     0.000       0.000               0.125   \n",
       "13   sharded-synthetic-code-33     1.000       1.000               1.000   \n",
       "14   sharded-synthetic-code-90     0.250       0.875               0.500   \n",
       "15   sharded-synthetic-code-24     0.125       0.375               0.500   \n",
       "16   sharded-synthetic-code-95     1.000       1.000               1.000   \n",
       "17   sharded-synthetic-code-87     0.000       0.000               0.000   \n",
       "18   sharded-synthetic-code-47     1.000       1.000               0.750   \n",
       "19  sharded-synthetic-code-100     0.625       1.000               0.625   \n",
       "20   sharded-synthetic-code-13     1.000       0.875               1.000   \n",
       "21   sharded-synthetic-code-11     1.000       1.000               1.000   \n",
       "22   sharded-synthetic-code-80     1.000       0.750               1.000   \n",
       "23   sharded-synthetic-code-35     1.000       1.000               1.000   \n",
       "24   sharded-synthetic-code-63     0.750       0.125               0.250   \n",
       "25   sharded-synthetic-code-49     1.000       1.000               0.875   \n",
       "26   sharded-synthetic-code-78     0.625       1.000               1.000   \n",
       "27   sharded-synthetic-code-96     0.000       0.125               0.000   \n",
       "28   sharded-synthetic-code-27     1.000       1.000               1.000   \n",
       "29   sharded-synthetic-code-38     0.375       1.000               1.000   \n",
       "30   sharded-synthetic-code-34     1.000       1.000               1.000   \n",
       "31   sharded-synthetic-code-67     1.000       0.000               0.000   \n",
       "32   sharded-synthetic-code-16     0.750       1.000               1.000   \n",
       "33   sharded-synthetic-code-25     1.000       1.000               1.000   \n",
       "34   sharded-synthetic-code-60     0.000       1.000               1.000   \n",
       "35   sharded-synthetic-code-70     1.000       1.000               1.000   \n",
       "36   sharded-synthetic-code-58     0.125       0.375               0.125   \n",
       "37   sharded-synthetic-code-71     0.000       0.000               0.000   \n",
       "38   sharded-synthetic-code-36     1.000       0.000               0.000   \n",
       "39   sharded-synthetic-code-51     0.625       0.000               0.000   \n",
       "40   sharded-synthetic-code-44     1.000       1.000               1.000   \n",
       "41   sharded-synthetic-code-31     1.000       0.250               0.000   \n",
       "42    sharded-synthetic-code-1     0.500       0.625               0.875   \n",
       "43    sharded-synthetic-code-4     1.000       1.000               0.625   \n",
       "44   sharded-synthetic-code-94     0.000       1.000               0.875   \n",
       "45   sharded-synthetic-code-76     0.000       0.375               0.125   \n",
       "46   sharded-synthetic-code-43     0.000       1.000               1.000   \n",
       "47   sharded-synthetic-code-54     1.000       1.000               0.625   \n",
       "48   sharded-synthetic-code-23     1.000       1.000               1.000   \n",
       "49   sharded-synthetic-code-37     1.000       1.000               1.000   \n",
       "50   sharded-synthetic-code-17     0.875       1.000               1.000   \n",
       "51   sharded-synthetic-code-48     0.000       0.000               0.000   \n",
       "52   sharded-synthetic-code-41     1.000       1.000               1.000   \n",
       "53   sharded-synthetic-code-98     1.000       1.000               1.000   \n",
       "54   sharded-synthetic-code-61     1.000       1.000               1.000   \n",
       "55    sharded-synthetic-code-2     1.000       1.000               1.000   \n",
       "56   sharded-synthetic-code-30     1.000       1.000               1.000   \n",
       "57    sharded-synthetic-code-7     1.000       1.000               1.000   \n",
       "58   sharded-synthetic-code-22     0.500       0.375               0.125   \n",
       "59   sharded-synthetic-code-32     1.000       1.000               1.000   \n",
       "60   sharded-synthetic-code-62     0.375       0.125               0.125   \n",
       "61   sharded-synthetic-code-55     0.250       1.000               1.000   \n",
       "62   sharded-synthetic-code-28     1.000       1.000               0.875   \n",
       "63   sharded-synthetic-code-84     0.875       1.000               1.000   \n",
       "64   sharded-synthetic-code-89     1.000       1.000               1.000   \n",
       "65   sharded-synthetic-code-97     0.125       1.000               0.375   \n",
       "66   sharded-synthetic-code-14     0.250       1.000               0.875   \n",
       "67   sharded-synthetic-code-40     1.000       0.375               0.250   \n",
       "68   sharded-synthetic-code-75     0.625       1.000               1.000   \n",
       "69   sharded-synthetic-code-46     1.000       1.000               1.000   \n",
       "70   sharded-synthetic-code-53     1.000       1.000               1.000   \n",
       "71   sharded-synthetic-code-68     0.000       1.000               0.875   \n",
       "72   sharded-synthetic-code-83     0.875       0.000               0.000   \n",
       "73   sharded-synthetic-code-52     1.000       1.000               1.000   \n",
       "74    sharded-synthetic-code-9     1.000       1.000               1.000   \n",
       "75   sharded-synthetic-code-20     1.000       0.000               0.250   \n",
       "76   sharded-synthetic-code-10     1.000       1.000               1.000   \n",
       "77   sharded-synthetic-code-15     0.125       0.625               0.500   \n",
       "78   sharded-synthetic-code-12     1.000       1.000               0.875   \n",
       "79   sharded-synthetic-code-21     1.000       1.000               1.000   \n",
       "80   sharded-synthetic-code-69     1.000       1.000               1.000   \n",
       "\n",
       "   acceptable  sharded-avg  \n",
       "0           ❌        0.125  \n",
       "1           ❌        0.500  \n",
       "2           ✅        0.375  \n",
       "3           ✅        0.875  \n",
       "4           ✅        0.375  \n",
       "5           ✅        0.250  \n",
       "6           ❌        1.000  \n",
       "7           ✅        0.250  \n",
       "8           ✅        1.000  \n",
       "9           ❌        1.000  \n",
       "10          ✅        0.875  \n",
       "11          ✅        0.125  \n",
       "12          ❌        0.250  \n",
       "13          ✅        0.875  \n",
       "14          ❌        0.000  \n",
       "15          ❌        0.250  \n",
       "16          ✅        1.000  \n",
       "17          ❌        0.000  \n",
       "18          ✅        0.000  \n",
       "19          ❌        0.875  \n",
       "20          ✅        0.500  \n",
       "21          ✅        1.000  \n",
       "22          ✅        1.000  \n",
       "23          ✅        1.000  \n",
       "24          ❌        0.625  \n",
       "25          ✅        1.000  \n",
       "26          ❌        1.000  \n",
       "27          ❌        0.000  \n",
       "28          ✅        0.875  \n",
       "29          ❌        1.000  \n",
       "30          ✅        1.000  \n",
       "31          ❌        1.000  \n",
       "32          ✅        0.000  \n",
       "33          ✅        0.875  \n",
       "34          ❌        0.250  \n",
       "35          ✅        1.000  \n",
       "36          ❌        0.250  \n",
       "37          ❌        0.000  \n",
       "38          ❌        1.000  \n",
       "39          ❌        0.000  \n",
       "40          ✅        0.000  \n",
       "41          ❌        0.875  \n",
       "42          ❌        0.750  \n",
       "43          ❌        0.500  \n",
       "44          ❌        0.125  \n",
       "45          ❌        0.125  \n",
       "46          ❌        1.000  \n",
       "47          ❌        0.000  \n",
       "48          ✅        1.000  \n",
       "49          ✅        1.000  \n",
       "50          ✅        0.500  \n",
       "51          ❌        0.125  \n",
       "52          ✅        0.750  \n",
       "53          ✅        0.875  \n",
       "54          ✅        1.000  \n",
       "55          ✅        1.000  \n",
       "56          ✅        0.500  \n",
       "57          ✅        0.875  \n",
       "58          ❌        0.125  \n",
       "59          ✅        0.875  \n",
       "60          ❌        0.500  \n",
       "61          ❌        1.000  \n",
       "62          ✅        0.875  \n",
       "63          ✅        0.375  \n",
       "64          ✅        0.750  \n",
       "65          ❌        1.000  \n",
       "66          ❌        0.125  \n",
       "67          ❌        0.500  \n",
       "68          ❌        1.000  \n",
       "69          ✅        1.000  \n",
       "70          ✅        0.500  \n",
       "71          ❌        0.250  \n",
       "72          ❌        0.625  \n",
       "73          ✅        1.000  \n",
       "74          ✅        1.000  \n",
       "75          ❌        0.375  \n",
       "76          ✅        1.000  \n",
       "77          ❌        0.000  \n",
       "78          ✅        0.375  \n",
       "79          ✅        0.875  \n",
       "80          ✅        1.000  "
      ]
     },
     "metadata": {},
     "output_type": "display_data"
    },
    {
     "name": "stdout",
     "output_type": "stream",
     "text": [
      "Finally we have 43 problems\n"
     ]
    }
   ],
   "source": [
    "from collections import Counter\n",
    "from IPython.display import display\n",
    "import json, pandas as pd\n",
    "\n",
    "pd.set_option('display.max_rows', 100)\n",
    "\n",
    "with open(\"data/code_synthetic_problems_0.1_verified.json\", \"r\") as f:\n",
    "    data = json.load(f)\n",
    "\n",
    "single_keys = [\"full-avg\", \"concat-avg\", \"shuffle-concat-avg\"]\n",
    "multi_keys = [\"sharded-avg\"]\n",
    "rows = []\n",
    "for d in data:\n",
    "    row = {\"task_id\": d[\"task_id\"]}\n",
    "    row.update({k: d[\"verifications\"][k] for k in single_keys})\n",
    "    # if they're all above 0.7\n",
    "    acceptable = all(row[k] > 0.7 for k in single_keys)\n",
    "    # green checkmark or red x\n",
    "    row[\"acceptable\"] = \"✅\" if acceptable else \"❌\"\n",
    "    d[\"acceptable\"] = 1 if acceptable else 0\n",
    "\n",
    "    row[\"sharded-avg\"] = d[\"verifications\"][\"sharded-avg\"]\n",
    "\n",
    "    rows.append(row)\n",
    "\n",
    "df = pd.DataFrame(rows)\n",
    "print(Counter(df[\"acceptable\"]))\n",
    "display(df)\n",
    "\n",
    "final_data = [d for d in data if d[\"acceptable\"] == 1]\n",
    "print(f\"Finally we have {len(final_data)} problems\")\n",
    "\n",
    "with open(\"data/code_synthetic_problems_0.1_final.json\", \"w\") as f:\n",
    "    json.dump(final_data, f, indent=4)"
   ]
  },
  {
   "cell_type": "code",
   "execution_count": 1,
   "id": "6062ce7f",
   "metadata": {},
   "outputs": [],
   "source": [
    "import json\n",
    "\n",
    "with open(\"data/code_synthetic_problems_0.1_final.json\", \"r\") as f:\n",
    "    final_data = json.load(f)\n",
    "\n",
    "def convert_test_case_format(sample):\n",
    "    org_test_cases = sample['reference_tests']\n",
    "    new_test_cases = []\n",
    "    for test_case in org_test_cases:\n",
    "        new_test_cases.append({\n",
    "            \"type\": test_case['type'],  # keep the original stuff from the generator\n",
    "            \"input\": \"\\n\".join([json.dumps(i) for i in test_case['inputs']]),\n",
    "            \"output\": json.dumps(test_case['output']),\n",
    "            \"testtype\": \"functional\"\n",
    "        })\n",
    "    return json.dumps(new_test_cases)\n",
    "\n",
    "def transform_data(data):\n",
    "    for sample in data:\n",
    "        sample['metadata'] = {\"func_name\": sample['name']}\n",
    "        sample['public_test_cases'] = convert_test_case_format(sample)\n",
    "    return data\n",
    "\n",
    "final_data = transform_data(final_data)\n",
    "\n",
    "with open(\"data/code_synthetic_problems_0.1_final_transformed.json\", \"w\") as f:\n",
    "    json.dump(final_data, f)"
   ]
  },
  {
   "cell_type": "code",
   "execution_count": null,
   "id": "bcacbb9b",
   "metadata": {},
   "outputs": [],
   "source": []
  }
 ],
 "metadata": {
  "kernelspec": {
   "display_name": ".venv",
   "language": "python",
   "name": "python3"
  },
  "language_info": {
   "codemirror_mode": {
    "name": "ipython",
    "version": 3
   },
   "file_extension": ".py",
   "mimetype": "text/x-python",
   "name": "python",
   "nbconvert_exporter": "python",
   "pygments_lexer": "ipython3",
   "version": "3.12.9"
  }
 },
 "nbformat": 4,
 "nbformat_minor": 5
}
