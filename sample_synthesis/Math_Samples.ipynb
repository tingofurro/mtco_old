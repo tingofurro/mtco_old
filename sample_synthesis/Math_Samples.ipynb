{
 "cells": [
  {
   "cell_type": "code",
   "execution_count": null,
   "id": "9fd1f71d",
   "metadata": {},
   "outputs": [],
   "source": [
    "# Lazify Samples"
   ]
  },
  {
   "cell_type": "code",
   "execution_count": 3,
   "id": "a2c705d6",
   "metadata": {},
   "outputs": [],
   "source": [
    "import json, tqdm, random, concurrent\n",
    "from datasets import load_dataset\n",
    "from llms import generate_json\n",
    "from functools import partial\n",
    "\n",
    "with open(\"prompts/gsm8k_sharding_segmentation.txt\", \"r\") as f:\n",
    "    prompt_segment = f.read()\n",
    "\n",
    "with open(\"prompts/gsm8k_sharding_conversational.txt\", \"r\") as f:\n",
    "    prompt_conversational = f.read()\n",
    "\n",
    "with open(\"prompts/sharding_verification.txt\", \"r\") as f:\n",
    "    prompt_verification = f.read()\n",
    "\n",
    "MODEL = \"t-o3\"\n",
    "\n",
    "def shard_gsm8k(seed):\n",
    "\n",
    "    prompt_extractive_populated = prompt_segment.replace(\"[[QUESTION]]\", seed[\"question\"])\n",
    "\n",
    "    verification_status = None\n",
    "    attempt = 0\n",
    "    while verification_status != \"complete\":\n",
    "        attempt += 1\n",
    "        if attempt > 5:\n",
    "            print(f\"Failed to get valid segments after 5 attempts. Skipping {seed['id']}\")\n",
    "            break\n",
    "        try:\n",
    "            segments_res = generate_json([{\"role\": \"user\", \"content\": prompt_extractive_populated}], model=MODEL, step=\"sharding-gsm8k-extractive\")\n",
    "\n",
    "            # Now do the conversational version\n",
    "            prompt_conversational_populated = prompt_conversational.replace(\"[[QUESTION]]\", seed[\"question\"]).replace(\"[[SEGMENTS]]\", json.dumps(segments_res[\"segments\"]))\n",
    "            conversational_res = generate_json([{\"role\": \"user\", \"content\": prompt_conversational_populated}], model=MODEL, step=\"sharding-gsm8k-conversational\")\n",
    "\n",
    "\n",
    "            # Assign hint_id per item in hints, starting from 1\n",
    "            shard_attempt = [{\"shard_id\": 1, \"shard\": conversational_res[\"initial_query\"]}]\n",
    "            for i, h in enumerate(conversational_res[\"hints\"]):\n",
    "                shard_attempt.append({\"shard_id\": i + 2, \"shard\": h[\"hint\"]})\n",
    "\n",
    "            # Now do the verification\n",
    "            prompt_verification_populated = prompt_verification.replace(\"[[QUERY]]\", seed[\"question\"]).replace(\"[[SHARDS]]\", json.dumps(shard_attempt))\n",
    "            verification_res = generate_json([{\"role\": \"user\", \"content\": prompt_verification_populated}], model=MODEL, step=\"sharding-gsm8k-verification\")\n",
    "\n",
    "            verification_status = verification_res[\"coverage\"]\n",
    "        except Exception as e:\n",
    "            print(\"Fatal error when generating segments: \", e)\n",
    "            continue\n",
    "\n",
    "    shards = [{\"shard_id\": 1, \"shard\": conversational_res[\"initial_query\"]}]\n",
    "    for i, h in enumerate(conversational_res[\"hints\"]):\n",
    "        shards.append({\"shard_id\": i + 2, \"shard\": h[\"hint\"]})\n",
    "\n",
    "    seed[\"task_id\"] = f\"sharded-gsm8k-train-{seed['id']}\"\n",
    "    seed[\"fully_specified_question\"] = seed[\"question\"]\n",
    "    seed[\"shards\"] = shards\n",
    "    seed[\"model_name\"] = MODEL\n",
    "\n",
    "    return seed\n",
    "\n",
    "\n",
    "def shard_data(output_path, shuffle=True, max_samples=500, num_workers=10):\n",
    "    dataset = load_dataset(\"gsm8k\", \"main\")\n",
    "    seeds = list(dataset['train'])\n",
    "    # add \"id\" to each sample\n",
    "    for i, seed in enumerate(seeds):\n",
    "        seed[\"id\"] = i\n",
    "        seed[\"task\"] = \"math\"\n",
    "\n",
    "    if shuffle:\n",
    "        random.shuffle(seeds)\n",
    "    \n",
    "    seed_samples = seeds[:max_samples] if max_samples else seeds\n",
    "\n",
    "    print(\"Total to convert: \", len(seed_samples))\n",
    "\n",
    "    process_sample = partial(shard_gsm8k)\n",
    "\n",
    "    # Process samples in parallel using ThreadPoolExecutor instead of ProcessPoolExecutor\n",
    "    # This works better in Jupyter notebooks\n",
    "    with concurrent.futures.ThreadPoolExecutor(max_workers=num_workers) as executor:\n",
    "        # Use tqdm to show progress\n",
    "        results = list(tqdm.tqdm(\n",
    "            executor.map(process_sample, seed_samples),\n",
    "            total=len(seed_samples),\n",
    "            desc=f\"Processing with {num_workers} threads\"\n",
    "        ))\n",
    "    \n",
    "    # Filter out None results and add to output data\n",
    "    output_data = [result for result in results if result is not None and \"shards\" in result]\n",
    "    print(f\"Generated {len(output_data)} sharded instructions\")\n",
    "\n",
    "    with open(output_path, \"w\") as f:\n",
    "        json.dump(output_data, f, indent=2)\n",
    "\n",
    "    print(f\"Processed {len(output_data)} samples successfully out of {len(seed_samples)} total samples\")\n",
    "    return output_data\n"
   ]
  },
  {
   "cell_type": "code",
   "execution_count": 5,
   "id": "b39c2eda",
   "metadata": {},
   "outputs": [
    {
     "name": "stdout",
     "output_type": "stream",
     "text": [
      "Total to convert:  400\n"
     ]
    },
    {
     "name": "stderr",
     "output_type": "stream",
     "text": [
      "Processing with 5 threads:   0%|          | 2/400 [01:56<5:55:01, 53.52s/it]"
     ]
    },
    {
     "name": "stdout",
     "output_type": "stream",
     "text": [
      "Fatal error when generating segments:  list indices must be integers or slices, not str\n",
      "Fatal error when generating segments:  list indices must be integers or slices, not str\n",
      "Failed to get valid segments after 5 attempts. Skipping 404\n",
      "Failed to get valid segments after 5 attempts. Skipping 84\n"
     ]
    },
    {
     "name": "stderr",
     "output_type": "stream",
     "text": [
      "Processing with 5 threads:   1%|          | 4/400 [04:58<8:27:32, 76.90s/it]"
     ]
    },
    {
     "name": "stdout",
     "output_type": "stream",
     "text": [
      "Failed to get valid segments after 5 attempts. Skipping 211\n"
     ]
    },
    {
     "name": "stderr",
     "output_type": "stream",
     "text": [
      "Processing with 5 threads:   5%|▌         | 20/400 [06:31<1:32:14, 14.56s/it]"
     ]
    },
    {
     "name": "stdout",
     "output_type": "stream",
     "text": [
      "Failed to get valid segments after 5 attempts. Skipping 2239\n",
      "Failed to get valid segments after 5 attempts. Skipping 3954\n"
     ]
    },
    {
     "name": "stderr",
     "output_type": "stream",
     "text": [
      "Processing with 5 threads:   7%|▋         | 27/400 [06:45<1:02:37, 10.07s/it]"
     ]
    },
    {
     "name": "stdout",
     "output_type": "stream",
     "text": [
      "Failed to get valid segments after 5 attempts. Skipping 4413\n"
     ]
    },
    {
     "name": "stderr",
     "output_type": "stream",
     "text": [
      "Processing with 5 threads:   8%|▊         | 34/400 [08:22<1:15:11, 12.33s/it]"
     ]
    },
    {
     "name": "stdout",
     "output_type": "stream",
     "text": [
      "Failed to get valid segments after 5 attempts. Skipping 991\n"
     ]
    },
    {
     "name": "stderr",
     "output_type": "stream",
     "text": [
      "Processing with 5 threads:  12%|█▎        | 50/400 [10:28<1:14:02, 12.69s/it]"
     ]
    },
    {
     "name": "stdout",
     "output_type": "stream",
     "text": [
      "Failed to get valid segments after 5 attempts. Skipping 1423\n"
     ]
    },
    {
     "name": "stderr",
     "output_type": "stream",
     "text": [
      "Processing with 5 threads:  13%|█▎        | 52/400 [11:01<1:18:32, 13.54s/it]"
     ]
    },
    {
     "name": "stdout",
     "output_type": "stream",
     "text": [
      "Fatal error when generating segments:  list indices must be integers or slices, not str\n"
     ]
    },
    {
     "name": "stderr",
     "output_type": "stream",
     "text": [
      "Processing with 5 threads:  14%|█▍        | 55/400 [11:37<1:15:00, 13.05s/it]"
     ]
    },
    {
     "name": "stdout",
     "output_type": "stream",
     "text": [
      "Failed to get valid segments after 5 attempts. Skipping 7201\n"
     ]
    },
    {
     "name": "stderr",
     "output_type": "stream",
     "text": [
      "Processing with 5 threads:  16%|█▌        | 62/400 [13:37<1:24:07, 14.93s/it]"
     ]
    },
    {
     "name": "stdout",
     "output_type": "stream",
     "text": [
      "Failed to get valid segments after 5 attempts. Skipping 3535\n"
     ]
    },
    {
     "name": "stderr",
     "output_type": "stream",
     "text": [
      "Processing with 5 threads:  16%|█▌        | 63/400 [14:12<1:36:54, 17.25s/it]"
     ]
    },
    {
     "name": "stdout",
     "output_type": "stream",
     "text": [
      "Failed to get valid segments after 5 attempts. Skipping 3366\n"
     ]
    },
    {
     "name": "stderr",
     "output_type": "stream",
     "text": [
      "Processing with 5 threads:  19%|█▉        | 75/400 [14:41<40:38,  7.50s/it]  "
     ]
    },
    {
     "name": "stdout",
     "output_type": "stream",
     "text": [
      "Failed to get valid segments after 5 attempts. Skipping 4242\n"
     ]
    },
    {
     "name": "stderr",
     "output_type": "stream",
     "text": [
      "Processing with 5 threads:  19%|█▉        | 77/400 [16:57<1:38:12, 18.24s/it]"
     ]
    },
    {
     "name": "stdout",
     "output_type": "stream",
     "text": [
      "Failed to get valid segments after 5 attempts. Skipping 3156\n"
     ]
    },
    {
     "name": "stderr",
     "output_type": "stream",
     "text": [
      "Processing with 5 threads:  22%|██▏       | 87/400 [17:06<44:43,  8.57s/it]  "
     ]
    },
    {
     "name": "stdout",
     "output_type": "stream",
     "text": [
      "Failed to get valid segments after 5 attempts. Skipping 5490\n"
     ]
    },
    {
     "name": "stderr",
     "output_type": "stream",
     "text": [
      "Processing with 5 threads:  22%|██▎       | 90/400 [17:59<53:18, 10.32s/it]"
     ]
    },
    {
     "name": "stdout",
     "output_type": "stream",
     "text": [
      "Failed to get valid segments after 5 attempts. Skipping 638\n"
     ]
    },
    {
     "name": "stderr",
     "output_type": "stream",
     "text": [
      "Processing with 5 threads:  24%|██▍       | 96/400 [19:22<58:47, 11.61s/it]"
     ]
    },
    {
     "name": "stdout",
     "output_type": "stream",
     "text": [
      "Failed to get valid segments after 5 attempts. Skipping 5987\n"
     ]
    },
    {
     "name": "stderr",
     "output_type": "stream",
     "text": [
      "Processing with 5 threads:  26%|██▌       | 104/400 [20:37<52:40, 10.68s/it]"
     ]
    },
    {
     "name": "stdout",
     "output_type": "stream",
     "text": [
      "Failed to get valid segments after 5 attempts. Skipping 1459\n",
      "Failed to get valid segments after 5 attempts. Skipping 3053\n"
     ]
    },
    {
     "name": "stderr",
     "output_type": "stream",
     "text": [
      "Processing with 5 threads:  27%|██▋       | 107/400 [22:19<1:12:22, 14.82s/it]"
     ]
    },
    {
     "name": "stdout",
     "output_type": "stream",
     "text": [
      "Failed to get valid segments after 5 attempts. Skipping 1363\n"
     ]
    },
    {
     "name": "stderr",
     "output_type": "stream",
     "text": [
      "Processing with 5 threads:  32%|███▏      | 127/400 [25:19<48:20, 10.63s/it]  "
     ]
    },
    {
     "name": "stdout",
     "output_type": "stream",
     "text": [
      "Failed to get valid segments after 5 attempts. Skipping 1944\n",
      "Fatal error when generating segments:  list indices must be integers or slices, not str\n"
     ]
    },
    {
     "name": "stderr",
     "output_type": "stream",
     "text": [
      "Processing with 5 threads:  38%|███▊      | 151/400 [28:11<42:22, 10.21s/it]"
     ]
    },
    {
     "name": "stdout",
     "output_type": "stream",
     "text": [
      "Failed to get valid segments after 5 attempts. Skipping 2265\n"
     ]
    },
    {
     "name": "stderr",
     "output_type": "stream",
     "text": [
      "Processing with 5 threads:  39%|███▉      | 157/400 [29:16<42:10, 10.41s/it]"
     ]
    },
    {
     "name": "stdout",
     "output_type": "stream",
     "text": [
      "Failed to get valid segments after 5 attempts. Skipping 2376\n"
     ]
    },
    {
     "name": "stderr",
     "output_type": "stream",
     "text": [
      "Processing with 5 threads:  40%|████      | 161/400 [30:26<52:24, 13.16s/it]"
     ]
    },
    {
     "name": "stdout",
     "output_type": "stream",
     "text": [
      "Failed to get valid segments after 5 attempts. Skipping 2597\n"
     ]
    },
    {
     "name": "stderr",
     "output_type": "stream",
     "text": [
      "Processing with 5 threads:  42%|████▏     | 168/400 [31:49<48:45, 12.61s/it]"
     ]
    },
    {
     "name": "stdout",
     "output_type": "stream",
     "text": [
      "Fatal error when generating segments:  list indices must be integers or slices, not str\n"
     ]
    },
    {
     "name": "stderr",
     "output_type": "stream",
     "text": [
      "Processing with 5 threads:  43%|████▎     | 173/400 [33:17<53:41, 14.19s/it]"
     ]
    },
    {
     "name": "stdout",
     "output_type": "stream",
     "text": [
      "Failed to get valid segments after 5 attempts. Skipping 4880\n"
     ]
    },
    {
     "name": "stderr",
     "output_type": "stream",
     "text": [
      "Processing with 5 threads:  46%|████▌     | 183/400 [33:21<27:31,  7.61s/it]"
     ]
    },
    {
     "name": "stdout",
     "output_type": "stream",
     "text": [
      "Fatal error when generating segments:  list indices must be integers or slices, not str\n"
     ]
    },
    {
     "name": "stderr",
     "output_type": "stream",
     "text": [
      "Processing with 5 threads:  46%|████▌     | 184/400 [34:37<43:02, 11.96s/it]"
     ]
    },
    {
     "name": "stdout",
     "output_type": "stream",
     "text": [
      "Failed to get valid segments after 5 attempts. Skipping 1765\n"
     ]
    },
    {
     "name": "stderr",
     "output_type": "stream",
     "text": [
      "Processing with 5 threads:  47%|████▋     | 189/400 [35:36<41:58, 11.94s/it]"
     ]
    },
    {
     "name": "stdout",
     "output_type": "stream",
     "text": [
      "Failed to get valid segments after 5 attempts. Skipping 1558\n",
      "Failed to get valid segments after 5 attempts. Skipping 777\n"
     ]
    },
    {
     "name": "stderr",
     "output_type": "stream",
     "text": [
      "Processing with 5 threads:  48%|████▊     | 191/400 [36:27<48:42, 13.98s/it]"
     ]
    },
    {
     "name": "stdout",
     "output_type": "stream",
     "text": [
      "Failed to get valid segments after 5 attempts. Skipping 3378\n"
     ]
    },
    {
     "name": "stderr",
     "output_type": "stream",
     "text": [
      "Processing with 5 threads:  48%|████▊     | 193/400 [37:19<55:26, 16.07s/it]"
     ]
    },
    {
     "name": "stdout",
     "output_type": "stream",
     "text": [
      "Failed to get valid segments after 5 attempts. Skipping 1246\n"
     ]
    },
    {
     "name": "stderr",
     "output_type": "stream",
     "text": [
      "Processing with 5 threads:  48%|████▊     | 194/400 [38:39<1:20:10, 23.35s/it]"
     ]
    },
    {
     "name": "stdout",
     "output_type": "stream",
     "text": [
      "Failed to get valid segments after 5 attempts. Skipping 606\n"
     ]
    },
    {
     "name": "stderr",
     "output_type": "stream",
     "text": [
      "Processing with 5 threads:  50%|█████     | 201/400 [39:50<54:03, 16.30s/it]  "
     ]
    },
    {
     "name": "stdout",
     "output_type": "stream",
     "text": [
      "Failed to get valid segments after 5 attempts. Skipping 6075\n"
     ]
    },
    {
     "name": "stderr",
     "output_type": "stream",
     "text": [
      "Processing with 5 threads:  51%|█████     | 204/400 [40:53<57:12, 17.51s/it]"
     ]
    },
    {
     "name": "stdout",
     "output_type": "stream",
     "text": [
      "Failed to get valid segments after 5 attempts. Skipping 5368\n"
     ]
    },
    {
     "name": "stderr",
     "output_type": "stream",
     "text": [
      "Processing with 5 threads:  53%|█████▎    | 213/400 [41:54<37:26, 12.02s/it]"
     ]
    },
    {
     "name": "stdout",
     "output_type": "stream",
     "text": [
      "Failed to get valid segments after 5 attempts. Skipping 1783\n"
     ]
    },
    {
     "name": "stderr",
     "output_type": "stream",
     "text": [
      "Processing with 5 threads:  55%|█████▌    | 220/400 [44:11<44:08, 14.72s/it]"
     ]
    },
    {
     "name": "stdout",
     "output_type": "stream",
     "text": [
      "Failed to get valid segments after 5 attempts. Skipping 2863\n",
      "Failed to get valid segments after 5 attempts. Skipping 1428\n",
      "Failed to get valid segments after 5 attempts. Skipping 7364\n",
      "Failed to get valid segments after 5 attempts. Skipping 1170\n"
     ]
    },
    {
     "name": "stderr",
     "output_type": "stream",
     "text": [
      "Processing with 5 threads:  59%|█████▉    | 236/400 [47:40<35:03, 12.83s/it]"
     ]
    },
    {
     "name": "stdout",
     "output_type": "stream",
     "text": [
      "Failed to get valid segments after 5 attempts. Skipping 6715\n",
      "Fatal error when generating segments:  'coverage'\n"
     ]
    },
    {
     "name": "stderr",
     "output_type": "stream",
     "text": [
      "Processing with 5 threads:  65%|██████▌   | 261/400 [53:13<38:57, 16.82s/it]"
     ]
    },
    {
     "name": "stdout",
     "output_type": "stream",
     "text": [
      "Failed to get valid segments after 5 attempts. Skipping 665\n",
      "Fatal error when generating segments:  'coverage'\n",
      "Failed to get valid segments after 5 attempts. Skipping 1901\n"
     ]
    },
    {
     "name": "stderr",
     "output_type": "stream",
     "text": [
      "Processing with 5 threads:  68%|██████▊   | 270/400 [55:43<36:15, 16.74s/it]"
     ]
    },
    {
     "name": "stdout",
     "output_type": "stream",
     "text": [
      "Failed to get valid segments after 5 attempts. Skipping 160\n",
      "Fatal error when generating segments:  list indices must be integers or slices, not str\n"
     ]
    },
    {
     "name": "stderr",
     "output_type": "stream",
     "text": [
      "Processing with 5 threads:  73%|███████▎  | 293/400 [57:25<16:38,  9.33s/it]"
     ]
    },
    {
     "name": "stdout",
     "output_type": "stream",
     "text": [
      "Fatal error when generating segments:  list indices must be integers or slices, not str\n",
      "Failed to get valid segments after 5 attempts. Skipping 1361\n"
     ]
    },
    {
     "name": "stderr",
     "output_type": "stream",
     "text": [
      "Processing with 5 threads:  74%|███████▎  | 294/400 [59:31<28:39, 16.22s/it]"
     ]
    },
    {
     "name": "stdout",
     "output_type": "stream",
     "text": [
      "Failed to get valid segments after 5 attempts. Skipping 1776\n",
      "Failed to get valid segments after 5 attempts. Skipping 5671\n"
     ]
    },
    {
     "name": "stderr",
     "output_type": "stream",
     "text": [
      "Processing with 5 threads:  75%|███████▌  | 301/400 [1:00:57<24:23, 14.78s/it]"
     ]
    },
    {
     "name": "stdout",
     "output_type": "stream",
     "text": [
      "Fatal error when generating segments:  list indices must be integers or slices, not str\n",
      "Failed to get valid segments after 5 attempts. Skipping 2191\n"
     ]
    },
    {
     "name": "stderr",
     "output_type": "stream",
     "text": [
      "Processing with 5 threads:  76%|███████▌  | 303/400 [1:00:59<20:56, 12.95s/it]"
     ]
    },
    {
     "name": "stdout",
     "output_type": "stream",
     "text": [
      "Failed to get valid segments after 5 attempts. Skipping 5179\n"
     ]
    },
    {
     "name": "stderr",
     "output_type": "stream",
     "text": [
      "Processing with 5 threads:  77%|███████▋  | 309/400 [1:02:37<23:29, 15.48s/it]"
     ]
    },
    {
     "name": "stdout",
     "output_type": "stream",
     "text": [
      "Failed to get valid segments after 5 attempts. Skipping 4149\n",
      "Fatal error when generating segments:  list indices must be integers or slices, not str\n",
      "Failed to get valid segments after 5 attempts. Skipping 817\n",
      "Fatal error when generating segments:  list indices must be integers or slices, not str\n"
     ]
    },
    {
     "name": "stderr",
     "output_type": "stream",
     "text": [
      "Processing with 5 threads:  78%|███████▊  | 311/400 [1:07:07<57:19, 38.65s/it]"
     ]
    },
    {
     "name": "stdout",
     "output_type": "stream",
     "text": [
      "Failed to get valid segments after 5 attempts. Skipping 2456\n",
      "Cannot parse\n",
      "|{\n",
      "    \"initial_segment\": \"How many more pens will Alex have than Jane\",\n",
      "    \"initial_query\": \"pens difference between Alex and Jane\",\n",
      "    \"hints\": [\n",
      "        {\"segment\": \"Every week her pen collection doubles.\", \"hint\": \"Alex doubles her pen collection each week\"},\n",
      "        {\"segment\": \"Alex has 4 pens in the first week of a month.\", \"hint\": \"Alex starts the month with 4 pens\"},\n",
      "        {\"segment\": \"Jane will have 16 pens after a month\", \"hint\": \"Jane ends the month with 16 pens\"},\n",
      "    ]\n",
      "}|\n",
      "Fatal error when generating segments:  'NoneType' object is not subscriptable\n"
     ]
    },
    {
     "name": "stderr",
     "output_type": "stream",
     "text": [
      "Processing with 5 threads:  82%|████████▏ | 328/400 [1:07:34<15:10, 12.65s/it]"
     ]
    },
    {
     "name": "stdout",
     "output_type": "stream",
     "text": [
      "Failed to get valid segments after 5 attempts. Skipping 1118\n"
     ]
    },
    {
     "name": "stderr",
     "output_type": "stream",
     "text": [
      "Processing with 5 threads:  86%|████████▌ | 342/400 [1:09:46<12:04, 12.49s/it]"
     ]
    },
    {
     "name": "stdout",
     "output_type": "stream",
     "text": [
      "Failed to get valid segments after 5 attempts. Skipping 5717\n"
     ]
    },
    {
     "name": "stderr",
     "output_type": "stream",
     "text": [
      "Processing with 5 threads:  86%|████████▌ | 343/400 [1:10:00<11:57, 12.59s/it]"
     ]
    },
    {
     "name": "stdout",
     "output_type": "stream",
     "text": [
      "Failed to get valid segments after 5 attempts. Skipping 1231\n"
     ]
    },
    {
     "name": "stderr",
     "output_type": "stream",
     "text": [
      "Processing with 5 threads:  90%|████████▉ | 358/400 [1:12:52<07:42, 11.01s/it]"
     ]
    },
    {
     "name": "stdout",
     "output_type": "stream",
     "text": [
      "Failed to get valid segments after 5 attempts. Skipping 667\n"
     ]
    },
    {
     "name": "stderr",
     "output_type": "stream",
     "text": [
      "Processing with 5 threads:  92%|█████████▏| 366/400 [1:14:13<07:02, 12.41s/it]"
     ]
    },
    {
     "name": "stdout",
     "output_type": "stream",
     "text": [
      "Failed to get valid segments after 5 attempts. Skipping 3032\n"
     ]
    },
    {
     "name": "stderr",
     "output_type": "stream",
     "text": [
      "Processing with 5 threads:  92%|█████████▏| 368/400 [1:15:38<09:48, 18.39s/it]"
     ]
    },
    {
     "name": "stdout",
     "output_type": "stream",
     "text": [
      "Failed to get valid segments after 5 attempts. Skipping 6981\n"
     ]
    },
    {
     "name": "stderr",
     "output_type": "stream",
     "text": [
      "Processing with 5 threads:  94%|█████████▎| 374/400 [1:16:11<05:23, 12.42s/it]"
     ]
    },
    {
     "name": "stdout",
     "output_type": "stream",
     "text": [
      "Failed to get valid segments after 5 attempts. Skipping 123\n"
     ]
    },
    {
     "name": "stderr",
     "output_type": "stream",
     "text": [
      "Processing with 5 threads:  97%|█████████▋| 387/400 [1:18:37<02:48, 12.99s/it]"
     ]
    },
    {
     "name": "stdout",
     "output_type": "stream",
     "text": [
      "Failed to get valid segments after 5 attempts. Skipping 1304\n"
     ]
    },
    {
     "name": "stderr",
     "output_type": "stream",
     "text": [
      "Processing with 5 threads: 100%|██████████| 400/400 [1:20:16<00:00, 12.04s/it]"
     ]
    },
    {
     "name": "stdout",
     "output_type": "stream",
     "text": [
      "Failed to get valid segments after 5 attempts. Skipping 1149\n",
      "Generated 400 sharded instructions\n",
      "Processed 400 samples successfully out of 400 total samples\n"
     ]
    },
    {
     "name": "stderr",
     "output_type": "stream",
     "text": [
      "\n"
     ]
    }
   ],
   "source": [
    "converted = shard_data(\"data/sharded_gsm8k_train_400.json\", shuffle=True, max_samples=400, num_workers=5)"
   ]
  },
  {
   "cell_type": "code",
   "execution_count": 4,
   "id": "76ddaf35",
   "metadata": {},
   "outputs": [
    {
     "name": "stdout",
     "output_type": "stream",
     "text": [
      "67\n"
     ]
    }
   ],
   "source": [
    "import json\n",
    "with open('data/sharded_gsm8k_train_400.json', 'r') as f:\n",
    "    data = json.load(f)\n",
    "\n",
    "# {'question': 'Saturday at the ice cream shop, there were twice as many people who ordered vanilla ice cream as ordered chocolate ice cream.  If 220 people ordered ice cream on Saturday, and 20% of those ordered vanilla ice cream, how many people ordered chocolate ice cream?', 'answer': 'If 20% of 220 customers ordered vanilla, then there were 0.2*220=<<0.2*220=44>>44 customers who ordered vanilla.\\nIf there were twice as many people who ordered vanilla as chocolate, then 44/2=<<44/2=22>>22 customers ordered chocolate.\\n#### 22', 'id': 2765, 'task': 'math', 'task_id': 'sharded-gsm8k-train-2765', 'fully_specified_question': 'Saturday at the ice cream shop, there were twice as many people who ordered vanilla ice cream as ordered chocolate ice cream.  If 220 people ordered ice cream on Saturday, and 20% of those ordered vanilla ice cream, how many people ordered chocolate ice cream?', 'shards': [{'shard_id': 2, 'shard': 'I see that twenty percent of the customers chose vanilla ice cream'}, {'shard_id': 3, 'shard': 'The vanilla orders are double the chocolate orders'}, {'shard_id': 1, 'shard': 'number of chocolate ice cream orders'}, {'shard_id': 4, 'shard': 'I know 220 people ordered ice cream on Saturday'}], 'model_name': 't-o3', 'verifications': {'full-avg': 1.0, 'full-all': {'t-gpt-4.1': [1.0, 1.0, 1.0, 1.0, 1.0, 1.0, 1.0, 1.0]}, 'concat-avg': 1.0, 'concat-all': {'t-gpt-4.1': [1.0, 1.0, 1.0, 1.0, 1.0, 1.0, 1.0, 1.0]}, 'shuffle-concat-avg': 1.0, 'shuffle-concat-all': {'t-gpt-4.1': [1.0, 1.0, 1.0, 1.0, 1.0, 1.0, 1.0, 1.0]}, 'sharded-avg': 0.875, 'sharded-all': {'t-gpt-4.1': [1.0, 1.0, 1.0, 0.0, 1.0, 1.0, 1.0, 1.0]}}}\n",
    "# select samples with above 0.7 on concat, full and shuffle-concat, and then any number between 0.0 < sharded < 1.0\n",
    "\n",
    "for sample in data:\n",
    "    validation_keys = ['full-avg', 'concat-avg', 'shuffle-concat-avg']\n",
    "    is_valid = all(sample['verifications'][key] >= 0.7 for key in validation_keys)\n",
    "    shard_ok = 0.0 < sample['verifications']['sharded-avg'] < 0.8\n",
    "    sample[\"selected\"] = is_valid and shard_ok\n",
    "\n",
    "selected_samples = [sample for sample in data if sample[\"selected\"]]\n",
    "\n",
    "print(len(selected_samples))\n",
    "\n",
    "# save the valid samples to a new file\n",
    "with open('data/sharded_gsm8k_train_400_selected.json', 'w') as f:\n",
    "    json.dump(selected_samples, f, indent=4)"
   ]
  },
  {
   "cell_type": "code",
   "execution_count": 2,
   "id": "a12ad44c",
   "metadata": {},
   "outputs": [
    {
     "name": "stdout",
     "output_type": "stream",
     "text": [
      "Counter({'math': 66, 'code': 43})\n",
      "Counter({4: 109})\n"
     ]
    }
   ],
   "source": [
    "# merge with code\n",
    "from collections import Counter\n",
    "import json\n",
    "\n",
    "output_fn = \"data/sharded_train_synthetic_0.1.json\"\n",
    "synthetic_fns = [\"data/code_synthetic_problems_0.1_final_transformed.json\", \"data/sharded_gsm8k_train_400_selected.json\"]\n",
    "\n",
    "all_samples = []\n",
    "\n",
    "for fn in synthetic_fns:\n",
    "    with open(fn, \"r\") as f:\n",
    "        data = json.load(f)\n",
    "    all_samples += data\n",
    "\n",
    "all_samples = [s for s in all_samples if len(s[\"shards\"]) == 4]\n",
    "\n",
    "print(Counter([sample[\"task\"] for sample in all_samples]))\n",
    "print(Counter([len(sample[\"shards\"]) for sample in all_samples]))\n",
    "\n",
    "with open(output_fn, \"w\") as f:\n",
    "    json.dump(all_samples, f, indent=4)"
   ]
  }
 ],
 "metadata": {
  "kernelspec": {
   "display_name": "base",
   "language": "python",
   "name": "python3"
  },
  "language_info": {
   "codemirror_mode": {
    "name": "ipython",
    "version": 3
   },
   "file_extension": ".py",
   "mimetype": "text/x-python",
   "name": "python",
   "nbconvert_exporter": "python",
   "pygments_lexer": "ipython3",
   "version": "3.12.7"
  }
 },
 "nbformat": 4,
 "nbformat_minor": 5
}
